{
 "cells": [
  {
   "cell_type": "markdown",
   "metadata": {
    "id": "3rYiDeEH0q0f"
   },
   "source": [
    "# ¿Cuál es la mejor tarifa?\n",
    "\n",
    "Trabajas como analista para el operador de telecomunicaciones Megaline. La empresa ofrece a sus clientes dos tarifas de prepago, Surf y Ultimate. El departamento comercial quiere saber cuál de las tarifas genera más ingresos para poder ajustar el presupuesto de publicidad.\n",
    "\n",
    "Vas a realizar un análisis preliminar de las tarifas basado en una selección de clientes relativamente pequeña. Tendrás los datos de 500 clientes de Megaline: quiénes son los clientes, de dónde son, qué tarifa usan, así como la cantidad de llamadas que hicieron y los mensajes de texto que enviaron en 2018. Tu trabajo es analizar el comportamiento de los clientes y determinar qué tarifa de prepago genera más ingresos."
   ]
  },
  {
   "cell_type": "markdown",
   "metadata": {
    "id": "VNddPNRQ0q0w"
   },
   "source": [
    "[Te proporcionamos algunos comentarios para orientarte mientras completas este proyecto. Pero debes asegurarte de eliminar todos los comentarios entre corchetes antes de entregar tu proyecto.]\n",
    "\n",
    "[Antes de sumergirte en el análisis de datos, explica por tu propia cuenta el propósito del proyecto y las acciones que planeas realizar.]\n",
    "\n",
    "[Ten en cuenta que estudiar, modificar y analizar datos es un proceso iterativo. Es normal volver a los pasos anteriores y corregirlos/ampliarlos para permitir nuevos pasos.]"
   ]
  },
  {
   "cell_type": "markdown",
   "metadata": {
    "id": "MQi4IPy70q0y"
   },
   "source": [
    "## Inicialización"
   ]
  },
  {
   "cell_type": "code",
   "execution_count": 1,
   "metadata": {
    "id": "MtYIuBxu0q0z"
   },
   "outputs": [],
   "source": [
    "# Cargar todas las librerías\n",
    "import pandas as pd\n",
    "from matplotlib import pyplot as plt\n",
    "import numpy as np\n",
    "import seaborn as sns\n",
    "from scipy import stats as st\n"
   ]
  },
  {
   "cell_type": "markdown",
   "metadata": {
    "id": "4ysWWC5i0q00"
   },
   "source": [
    "## Cargar datos"
   ]
  },
  {
   "cell_type": "code",
   "execution_count": 2,
   "metadata": {
    "id": "CCqPW7rS0q01"
   },
   "outputs": [],
   "source": [
    "# Carga los archivos de datos en diferentes DataFrames\n",
    "path= 'D:\\\\TripleTen\\\\Sprint 4_ Análisis estadístico de datos\\\\Proyecto\\\\'\n",
    "\n",
    "calls= pd.read_csv(path + 'megaline_calls.csv')\n",
    "internet= pd.read_csv(path +'megaline_internet.csv')\n",
    "messages= pd.read_csv(path +'megaline_messages.csv')\n",
    "plans= pd.read_csv(path +'megaline_plans.csv')\n",
    "users= pd.read_csv(path +'megaline_users.csv')"
   ]
  },
  {
   "cell_type": "markdown",
   "metadata": {
    "id": "69qqoJ3r0q01"
   },
   "source": [
    "## Preparar los datos"
   ]
  },
  {
   "cell_type": "markdown",
   "metadata": {
    "id": "vUuZw80S0q01"
   },
   "source": [
    "Los datos para este proyecto se dividen en varias tablas. "
   ]
  },
  {
   "cell_type": "markdown",
   "metadata": {
    "id": "ohBhimvH0q01"
   },
   "source": [
    "## Tarifas"
   ]
  },
  {
   "cell_type": "code",
   "execution_count": 3,
   "metadata": {
    "id": "GptqP3Q40q02"
   },
   "outputs": [
    {
     "name": "stdout",
     "output_type": "stream",
     "text": [
      "<class 'pandas.core.frame.DataFrame'>\n",
      "RangeIndex: 2 entries, 0 to 1\n",
      "Data columns (total 8 columns):\n",
      " #   Column                 Non-Null Count  Dtype  \n",
      "---  ------                 --------------  -----  \n",
      " 0   messages_included      2 non-null      int64  \n",
      " 1   mb_per_month_included  2 non-null      int64  \n",
      " 2   minutes_included       2 non-null      int64  \n",
      " 3   usd_monthly_pay        2 non-null      int64  \n",
      " 4   usd_per_gb             2 non-null      int64  \n",
      " 5   usd_per_message        2 non-null      float64\n",
      " 6   usd_per_minute         2 non-null      float64\n",
      " 7   plan_name              2 non-null      object \n",
      "dtypes: float64(2), int64(5), object(1)\n",
      "memory usage: 260.0+ bytes\n"
     ]
    },
    {
     "data": {
      "text/html": [
       "<div>\n",
       "<style scoped>\n",
       "    .dataframe tbody tr th:only-of-type {\n",
       "        vertical-align: middle;\n",
       "    }\n",
       "\n",
       "    .dataframe tbody tr th {\n",
       "        vertical-align: top;\n",
       "    }\n",
       "\n",
       "    .dataframe thead th {\n",
       "        text-align: right;\n",
       "    }\n",
       "</style>\n",
       "<table border=\"1\" class=\"dataframe\">\n",
       "  <thead>\n",
       "    <tr style=\"text-align: right;\">\n",
       "      <th></th>\n",
       "      <th>messages_included</th>\n",
       "      <th>mb_per_month_included</th>\n",
       "      <th>minutes_included</th>\n",
       "      <th>usd_monthly_pay</th>\n",
       "      <th>usd_per_gb</th>\n",
       "      <th>usd_per_message</th>\n",
       "      <th>usd_per_minute</th>\n",
       "    </tr>\n",
       "  </thead>\n",
       "  <tbody>\n",
       "    <tr>\n",
       "      <th>count</th>\n",
       "      <td>2.000000</td>\n",
       "      <td>2.000000</td>\n",
       "      <td>2.000000</td>\n",
       "      <td>2.000000</td>\n",
       "      <td>2.00000</td>\n",
       "      <td>2.000000</td>\n",
       "      <td>2.000000</td>\n",
       "    </tr>\n",
       "    <tr>\n",
       "      <th>mean</th>\n",
       "      <td>525.000000</td>\n",
       "      <td>23040.000000</td>\n",
       "      <td>1750.000000</td>\n",
       "      <td>45.000000</td>\n",
       "      <td>8.50000</td>\n",
       "      <td>0.020000</td>\n",
       "      <td>0.020000</td>\n",
       "    </tr>\n",
       "    <tr>\n",
       "      <th>std</th>\n",
       "      <td>671.751442</td>\n",
       "      <td>10861.160159</td>\n",
       "      <td>1767.766953</td>\n",
       "      <td>35.355339</td>\n",
       "      <td>2.12132</td>\n",
       "      <td>0.014142</td>\n",
       "      <td>0.014142</td>\n",
       "    </tr>\n",
       "    <tr>\n",
       "      <th>min</th>\n",
       "      <td>50.000000</td>\n",
       "      <td>15360.000000</td>\n",
       "      <td>500.000000</td>\n",
       "      <td>20.000000</td>\n",
       "      <td>7.00000</td>\n",
       "      <td>0.010000</td>\n",
       "      <td>0.010000</td>\n",
       "    </tr>\n",
       "    <tr>\n",
       "      <th>25%</th>\n",
       "      <td>287.500000</td>\n",
       "      <td>19200.000000</td>\n",
       "      <td>1125.000000</td>\n",
       "      <td>32.500000</td>\n",
       "      <td>7.75000</td>\n",
       "      <td>0.015000</td>\n",
       "      <td>0.015000</td>\n",
       "    </tr>\n",
       "    <tr>\n",
       "      <th>50%</th>\n",
       "      <td>525.000000</td>\n",
       "      <td>23040.000000</td>\n",
       "      <td>1750.000000</td>\n",
       "      <td>45.000000</td>\n",
       "      <td>8.50000</td>\n",
       "      <td>0.020000</td>\n",
       "      <td>0.020000</td>\n",
       "    </tr>\n",
       "    <tr>\n",
       "      <th>75%</th>\n",
       "      <td>762.500000</td>\n",
       "      <td>26880.000000</td>\n",
       "      <td>2375.000000</td>\n",
       "      <td>57.500000</td>\n",
       "      <td>9.25000</td>\n",
       "      <td>0.025000</td>\n",
       "      <td>0.025000</td>\n",
       "    </tr>\n",
       "    <tr>\n",
       "      <th>max</th>\n",
       "      <td>1000.000000</td>\n",
       "      <td>30720.000000</td>\n",
       "      <td>3000.000000</td>\n",
       "      <td>70.000000</td>\n",
       "      <td>10.00000</td>\n",
       "      <td>0.030000</td>\n",
       "      <td>0.030000</td>\n",
       "    </tr>\n",
       "  </tbody>\n",
       "</table>\n",
       "</div>"
      ],
      "text/plain": [
       "       messages_included  mb_per_month_included  minutes_included  \\\n",
       "count           2.000000               2.000000          2.000000   \n",
       "mean          525.000000           23040.000000       1750.000000   \n",
       "std           671.751442           10861.160159       1767.766953   \n",
       "min            50.000000           15360.000000        500.000000   \n",
       "25%           287.500000           19200.000000       1125.000000   \n",
       "50%           525.000000           23040.000000       1750.000000   \n",
       "75%           762.500000           26880.000000       2375.000000   \n",
       "max          1000.000000           30720.000000       3000.000000   \n",
       "\n",
       "       usd_monthly_pay  usd_per_gb  usd_per_message  usd_per_minute  \n",
       "count         2.000000     2.00000         2.000000        2.000000  \n",
       "mean         45.000000     8.50000         0.020000        0.020000  \n",
       "std          35.355339     2.12132         0.014142        0.014142  \n",
       "min          20.000000     7.00000         0.010000        0.010000  \n",
       "25%          32.500000     7.75000         0.015000        0.015000  \n",
       "50%          45.000000     8.50000         0.020000        0.020000  \n",
       "75%          57.500000     9.25000         0.025000        0.025000  \n",
       "max          70.000000    10.00000         0.030000        0.030000  "
      ]
     },
     "execution_count": 3,
     "metadata": {},
     "output_type": "execute_result"
    }
   ],
   "source": [
    "# Imprime la información general/resumida sobre el DataFrame de las tarifas\n",
    "plans.info()\n",
    "plans.describe()"
   ]
  },
  {
   "cell_type": "code",
   "execution_count": 4,
   "metadata": {
    "id": "64xzjwL70q02"
   },
   "outputs": [
    {
     "data": {
      "text/html": [
       "<div>\n",
       "<style scoped>\n",
       "    .dataframe tbody tr th:only-of-type {\n",
       "        vertical-align: middle;\n",
       "    }\n",
       "\n",
       "    .dataframe tbody tr th {\n",
       "        vertical-align: top;\n",
       "    }\n",
       "\n",
       "    .dataframe thead th {\n",
       "        text-align: right;\n",
       "    }\n",
       "</style>\n",
       "<table border=\"1\" class=\"dataframe\">\n",
       "  <thead>\n",
       "    <tr style=\"text-align: right;\">\n",
       "      <th></th>\n",
       "      <th>messages_included</th>\n",
       "      <th>mb_per_month_included</th>\n",
       "      <th>minutes_included</th>\n",
       "      <th>usd_monthly_pay</th>\n",
       "      <th>usd_per_gb</th>\n",
       "      <th>usd_per_message</th>\n",
       "      <th>usd_per_minute</th>\n",
       "      <th>plan_name</th>\n",
       "    </tr>\n",
       "  </thead>\n",
       "  <tbody>\n",
       "    <tr>\n",
       "      <th>1</th>\n",
       "      <td>1000</td>\n",
       "      <td>30720</td>\n",
       "      <td>3000</td>\n",
       "      <td>70</td>\n",
       "      <td>7</td>\n",
       "      <td>0.01</td>\n",
       "      <td>0.01</td>\n",
       "      <td>ultimate</td>\n",
       "    </tr>\n",
       "    <tr>\n",
       "      <th>0</th>\n",
       "      <td>50</td>\n",
       "      <td>15360</td>\n",
       "      <td>500</td>\n",
       "      <td>20</td>\n",
       "      <td>10</td>\n",
       "      <td>0.03</td>\n",
       "      <td>0.03</td>\n",
       "      <td>surf</td>\n",
       "    </tr>\n",
       "  </tbody>\n",
       "</table>\n",
       "</div>"
      ],
      "text/plain": [
       "   messages_included  mb_per_month_included  minutes_included  \\\n",
       "1               1000                  30720              3000   \n",
       "0                 50                  15360               500   \n",
       "\n",
       "   usd_monthly_pay  usd_per_gb  usd_per_message  usd_per_minute plan_name  \n",
       "1               70           7             0.01            0.01  ultimate  \n",
       "0               20          10             0.03            0.03      surf  "
      ]
     },
     "execution_count": 4,
     "metadata": {},
     "output_type": "execute_result"
    }
   ],
   "source": [
    "# Imprime una muestra de los datos para las tarifas\n",
    "plans.sample(2)"
   ]
  },
  {
   "cell_type": "markdown",
   "metadata": {
    "id": "mEc_3_hs0q02"
   },
   "source": [
    "Un problema es que la cantidad de megabytes está en \"mb\", justamente, pero el cobro se realiza a partir de gigabytes, por lo que sería conveniente convertir esta columna a Gb. Adicionalmente, no existen problemas con otras columnas."
   ]
  },
  {
   "cell_type": "markdown",
   "metadata": {
    "id": "R3C05i1l0q03"
   },
   "source": [
    "## Corregir datos"
   ]
  },
  {
   "cell_type": "code",
   "execution_count": 5,
   "metadata": {
    "id": "Y7SVmjGn0q03"
   },
   "outputs": [
    {
     "data": {
      "text/plain": [
       "0    15\n",
       "1    30\n",
       "Name: mb_per_month_included, dtype: int32"
      ]
     },
     "execution_count": 5,
     "metadata": {},
     "output_type": "execute_result"
    }
   ],
   "source": [
    "gb_per_month_included = plans['mb_per_month_included'] / 1024\n",
    "gb_per_month_included = gb_per_month_included.astype('int')\n",
    "gb_per_month_included"
   ]
  },
  {
   "cell_type": "markdown",
   "metadata": {
    "id": "LJir7bml0q03"
   },
   "source": [
    "## Enriquecer los datos"
   ]
  },
  {
   "cell_type": "markdown",
   "metadata": {
    "id": "eqADpCfg0q04"
   },
   "source": [
    "[Agregando factores adicionales a los datos que se cree que pudieran ser útiles.]"
   ]
  },
  {
   "cell_type": "code",
   "execution_count": 6,
   "metadata": {
    "id": "gfcIEuXV0q04"
   },
   "outputs": [
    {
     "data": {
      "text/html": [
       "<div>\n",
       "<style scoped>\n",
       "    .dataframe tbody tr th:only-of-type {\n",
       "        vertical-align: middle;\n",
       "    }\n",
       "\n",
       "    .dataframe tbody tr th {\n",
       "        vertical-align: top;\n",
       "    }\n",
       "\n",
       "    .dataframe thead th {\n",
       "        text-align: right;\n",
       "    }\n",
       "</style>\n",
       "<table border=\"1\" class=\"dataframe\">\n",
       "  <thead>\n",
       "    <tr style=\"text-align: right;\">\n",
       "      <th></th>\n",
       "      <th>messages_included</th>\n",
       "      <th>minutes_included</th>\n",
       "      <th>usd_monthly_pay</th>\n",
       "      <th>usd_per_gb</th>\n",
       "      <th>usd_per_message</th>\n",
       "      <th>usd_per_minute</th>\n",
       "      <th>plan</th>\n",
       "      <th>gb_per_month_included</th>\n",
       "    </tr>\n",
       "  </thead>\n",
       "  <tbody>\n",
       "    <tr>\n",
       "      <th>0</th>\n",
       "      <td>50</td>\n",
       "      <td>500</td>\n",
       "      <td>20</td>\n",
       "      <td>10</td>\n",
       "      <td>0.03</td>\n",
       "      <td>0.03</td>\n",
       "      <td>surf</td>\n",
       "      <td>15</td>\n",
       "    </tr>\n",
       "    <tr>\n",
       "      <th>1</th>\n",
       "      <td>1000</td>\n",
       "      <td>3000</td>\n",
       "      <td>70</td>\n",
       "      <td>7</td>\n",
       "      <td>0.01</td>\n",
       "      <td>0.01</td>\n",
       "      <td>ultimate</td>\n",
       "      <td>30</td>\n",
       "    </tr>\n",
       "  </tbody>\n",
       "</table>\n",
       "</div>"
      ],
      "text/plain": [
       "   messages_included  minutes_included  usd_monthly_pay  usd_per_gb  \\\n",
       "0                 50               500               20          10   \n",
       "1               1000              3000               70           7   \n",
       "\n",
       "   usd_per_message  usd_per_minute      plan  gb_per_month_included  \n",
       "0             0.03            0.03      surf                     15  \n",
       "1             0.01            0.01  ultimate                     30  "
      ]
     },
     "execution_count": 6,
     "metadata": {},
     "output_type": "execute_result"
    }
   ],
   "source": [
    "plans['gb_per_month_included'] = plans['mb_per_month_included'] / 1024\n",
    "plans['gb_per_month_included'] = gb_per_month_included.astype('int')\n",
    "plans.rename(columns= {\"plan_name\": \"plan\"}, inplace=True)\n",
    "plans.drop(columns= \"mb_per_month_included\", inplace=True)\n",
    "plans\n"
   ]
  },
  {
   "cell_type": "markdown",
   "metadata": {
    "id": "1n2X6WXf0q04"
   },
   "source": [
    "## Usuarios/as"
   ]
  },
  {
   "cell_type": "code",
   "execution_count": 7,
   "metadata": {
    "id": "2NgjWFqx0q05"
   },
   "outputs": [
    {
     "name": "stdout",
     "output_type": "stream",
     "text": [
      "<class 'pandas.core.frame.DataFrame'>\n",
      "RangeIndex: 500 entries, 0 to 499\n",
      "Data columns (total 8 columns):\n",
      " #   Column      Non-Null Count  Dtype \n",
      "---  ------      --------------  ----- \n",
      " 0   user_id     500 non-null    int64 \n",
      " 1   first_name  500 non-null    object\n",
      " 2   last_name   500 non-null    object\n",
      " 3   age         500 non-null    int64 \n",
      " 4   city        500 non-null    object\n",
      " 5   reg_date    500 non-null    object\n",
      " 6   plan        500 non-null    object\n",
      " 7   churn_date  34 non-null     object\n",
      "dtypes: int64(2), object(6)\n",
      "memory usage: 31.4+ KB\n"
     ]
    }
   ],
   "source": [
    "# Imprime la información general/resumida sobre el DataFrame de usuarios\n",
    "users.info()\n"
   ]
  },
  {
   "cell_type": "code",
   "execution_count": 8,
   "metadata": {
    "id": "1IN1L9uh0q05"
   },
   "outputs": [
    {
     "data": {
      "text/html": [
       "<div>\n",
       "<style scoped>\n",
       "    .dataframe tbody tr th:only-of-type {\n",
       "        vertical-align: middle;\n",
       "    }\n",
       "\n",
       "    .dataframe tbody tr th {\n",
       "        vertical-align: top;\n",
       "    }\n",
       "\n",
       "    .dataframe thead th {\n",
       "        text-align: right;\n",
       "    }\n",
       "</style>\n",
       "<table border=\"1\" class=\"dataframe\">\n",
       "  <thead>\n",
       "    <tr style=\"text-align: right;\">\n",
       "      <th></th>\n",
       "      <th>user_id</th>\n",
       "      <th>first_name</th>\n",
       "      <th>last_name</th>\n",
       "      <th>age</th>\n",
       "      <th>city</th>\n",
       "      <th>reg_date</th>\n",
       "      <th>plan</th>\n",
       "      <th>churn_date</th>\n",
       "    </tr>\n",
       "  </thead>\n",
       "  <tbody>\n",
       "    <tr>\n",
       "      <th>243</th>\n",
       "      <td>1243</td>\n",
       "      <td>Isaias</td>\n",
       "      <td>Compton</td>\n",
       "      <td>71</td>\n",
       "      <td>Phoenix-Mesa-Chandler, AZ MSA</td>\n",
       "      <td>2018-05-11</td>\n",
       "      <td>surf</td>\n",
       "      <td>NaN</td>\n",
       "    </tr>\n",
       "    <tr>\n",
       "      <th>447</th>\n",
       "      <td>1447</td>\n",
       "      <td>Ramon</td>\n",
       "      <td>Hester</td>\n",
       "      <td>62</td>\n",
       "      <td>Orlando-Kissimmee-Sanford, FL MSA</td>\n",
       "      <td>2018-05-01</td>\n",
       "      <td>surf</td>\n",
       "      <td>NaN</td>\n",
       "    </tr>\n",
       "    <tr>\n",
       "      <th>483</th>\n",
       "      <td>1483</td>\n",
       "      <td>Miguel</td>\n",
       "      <td>Farrell</td>\n",
       "      <td>35</td>\n",
       "      <td>Chicago-Naperville-Elgin, IL-IN-WI MSA</td>\n",
       "      <td>2018-04-25</td>\n",
       "      <td>surf</td>\n",
       "      <td>NaN</td>\n",
       "    </tr>\n",
       "    <tr>\n",
       "      <th>204</th>\n",
       "      <td>1204</td>\n",
       "      <td>Sherly</td>\n",
       "      <td>Levy</td>\n",
       "      <td>44</td>\n",
       "      <td>Chicago-Naperville-Elgin, IL-IN-WI MSA</td>\n",
       "      <td>2018-08-20</td>\n",
       "      <td>ultimate</td>\n",
       "      <td>NaN</td>\n",
       "    </tr>\n",
       "    <tr>\n",
       "      <th>184</th>\n",
       "      <td>1184</td>\n",
       "      <td>Fredric</td>\n",
       "      <td>Middleton</td>\n",
       "      <td>39</td>\n",
       "      <td>Sacramento–Roseville–Folsom, CA MSA</td>\n",
       "      <td>2018-03-07</td>\n",
       "      <td>ultimate</td>\n",
       "      <td>NaN</td>\n",
       "    </tr>\n",
       "  </tbody>\n",
       "</table>\n",
       "</div>"
      ],
      "text/plain": [
       "     user_id first_name  last_name  age  \\\n",
       "243     1243     Isaias    Compton   71   \n",
       "447     1447      Ramon     Hester   62   \n",
       "483     1483     Miguel    Farrell   35   \n",
       "204     1204     Sherly       Levy   44   \n",
       "184     1184    Fredric  Middleton   39   \n",
       "\n",
       "                                       city    reg_date      plan churn_date  \n",
       "243           Phoenix-Mesa-Chandler, AZ MSA  2018-05-11      surf        NaN  \n",
       "447       Orlando-Kissimmee-Sanford, FL MSA  2018-05-01      surf        NaN  \n",
       "483  Chicago-Naperville-Elgin, IL-IN-WI MSA  2018-04-25      surf        NaN  \n",
       "204  Chicago-Naperville-Elgin, IL-IN-WI MSA  2018-08-20  ultimate        NaN  \n",
       "184     Sacramento–Roseville–Folsom, CA MSA  2018-03-07  ultimate        NaN  "
      ]
     },
     "execution_count": 8,
     "metadata": {},
     "output_type": "execute_result"
    }
   ],
   "source": [
    "# Imprime una muestra de datos para usuarios\n",
    "users.sample(5)"
   ]
  },
  {
   "cell_type": "code",
   "execution_count": 9,
   "metadata": {},
   "outputs": [
    {
     "data": {
      "text/plain": [
       "466"
      ]
     },
     "execution_count": 9,
     "metadata": {},
     "output_type": "execute_result"
    }
   ],
   "source": [
    "users['churn_date'].isna().sum()"
   ]
  },
  {
   "cell_type": "markdown",
   "metadata": {
    "id": "dCZoUq4f0q06"
   },
   "source": [
    "Primero, la columna \"user_id\" es de tipo entero, lo más adecuado sería cambiarla a tipo string. Segundo, la columna \"reg_date\" está como tipo string, lo ideal sería tenerle en un formato de fecha. Finalmente, la columna \"churn_date\" presenta valores ausentes. Sin embargo, estos valores ausentes son importantes para el conjunto de datos, por lo que no pueden ser eliminados. Sería una buena idea reeplazar los valores ausenets por otro dato para que sea mas claro y se pueda tener una mejor manipulación."
   ]
  },
  {
   "cell_type": "code",
   "execution_count": 10,
   "metadata": {},
   "outputs": [
    {
     "data": {
      "text/plain": [
       "0"
      ]
     },
     "execution_count": 10,
     "metadata": {},
     "output_type": "execute_result"
    }
   ],
   "source": [
    "users.duplicated().sum()"
   ]
  },
  {
   "cell_type": "markdown",
   "metadata": {
    "id": "BX5FQh_I0q06"
   },
   "source": [
    "### Corregir los datos"
   ]
  },
  {
   "cell_type": "code",
   "execution_count": 11,
   "metadata": {
    "id": "yUqX-K0C0q07"
   },
   "outputs": [
    {
     "name": "stdout",
     "output_type": "stream",
     "text": [
      "<class 'pandas.core.frame.DataFrame'>\n",
      "RangeIndex: 500 entries, 0 to 499\n",
      "Data columns (total 8 columns):\n",
      " #   Column      Non-Null Count  Dtype         \n",
      "---  ------      --------------  -----         \n",
      " 0   user_id     500 non-null    object        \n",
      " 1   first_name  500 non-null    object        \n",
      " 2   last_name   500 non-null    object        \n",
      " 3   age         500 non-null    int64         \n",
      " 4   city        500 non-null    object        \n",
      " 5   reg_date    500 non-null    datetime64[ns]\n",
      " 6   plan        500 non-null    object        \n",
      " 7   churn_date  500 non-null    object        \n",
      "dtypes: datetime64[ns](1), int64(1), object(6)\n",
      "memory usage: 31.4+ KB\n"
     ]
    }
   ],
   "source": [
    "users['user_id'] = users['user_id'].astype('str')\n",
    "users['reg_date'] = pd.to_datetime(users['reg_date'])\n",
    "users['churn_date'] = users['churn_date'].fillna(value= 'In use')\n",
    "users.info()"
   ]
  },
  {
   "cell_type": "markdown",
   "metadata": {
    "id": "ycwuARJp0q07"
   },
   "source": [
    "### Enriquecer los datos"
   ]
  },
  {
   "cell_type": "code",
   "execution_count": 12,
   "metadata": {
    "id": "iq0AaBS90q08"
   },
   "outputs": [
    {
     "name": "stdout",
     "output_type": "stream",
     "text": [
      "Los usuarios del plan Surf son: 339\n",
      "Los usuarios del plan Ultimate son: 161\n"
     ]
    }
   ],
   "source": [
    "print( \"Los usuarios del plan Surf son:\", users[\"plan\"][users[\"plan\"] == \"surf\"].count())\n",
    "print( \"Los usuarios del plan Ultimate son:\", users[\"plan\"][users[\"plan\"] == \"ultimate\"].count())"
   ]
  },
  {
   "cell_type": "markdown",
   "metadata": {
    "id": "o7MeKCid0q08"
   },
   "source": [
    "## Llamadas"
   ]
  },
  {
   "cell_type": "code",
   "execution_count": 13,
   "metadata": {
    "id": "6dDlnoDm0q08"
   },
   "outputs": [
    {
     "name": "stdout",
     "output_type": "stream",
     "text": [
      "<class 'pandas.core.frame.DataFrame'>\n",
      "RangeIndex: 137735 entries, 0 to 137734\n",
      "Data columns (total 4 columns):\n",
      " #   Column     Non-Null Count   Dtype  \n",
      "---  ------     --------------   -----  \n",
      " 0   id         137735 non-null  object \n",
      " 1   user_id    137735 non-null  int64  \n",
      " 2   call_date  137735 non-null  object \n",
      " 3   duration   137735 non-null  float64\n",
      "dtypes: float64(1), int64(1), object(2)\n",
      "memory usage: 4.2+ MB\n"
     ]
    }
   ],
   "source": [
    "# Imprime la información general/resumida sobre el DataFrame de las llamadas\n",
    "calls.info()\n"
   ]
  },
  {
   "cell_type": "code",
   "execution_count": 14,
   "metadata": {
    "id": "kuh1vlNB0q09"
   },
   "outputs": [
    {
     "data": {
      "text/html": [
       "<div>\n",
       "<style scoped>\n",
       "    .dataframe tbody tr th:only-of-type {\n",
       "        vertical-align: middle;\n",
       "    }\n",
       "\n",
       "    .dataframe tbody tr th {\n",
       "        vertical-align: top;\n",
       "    }\n",
       "\n",
       "    .dataframe thead th {\n",
       "        text-align: right;\n",
       "    }\n",
       "</style>\n",
       "<table border=\"1\" class=\"dataframe\">\n",
       "  <thead>\n",
       "    <tr style=\"text-align: right;\">\n",
       "      <th></th>\n",
       "      <th>id</th>\n",
       "      <th>user_id</th>\n",
       "      <th>call_date</th>\n",
       "      <th>duration</th>\n",
       "    </tr>\n",
       "  </thead>\n",
       "  <tbody>\n",
       "    <tr>\n",
       "      <th>127748</th>\n",
       "      <td>1458_22</td>\n",
       "      <td>1458</td>\n",
       "      <td>2018-11-28</td>\n",
       "      <td>1.26</td>\n",
       "    </tr>\n",
       "    <tr>\n",
       "      <th>120285</th>\n",
       "      <td>1419_9</td>\n",
       "      <td>1419</td>\n",
       "      <td>2018-12-07</td>\n",
       "      <td>6.98</td>\n",
       "    </tr>\n",
       "    <tr>\n",
       "      <th>62807</th>\n",
       "      <td>1226_206</td>\n",
       "      <td>1226</td>\n",
       "      <td>2018-09-19</td>\n",
       "      <td>0.00</td>\n",
       "    </tr>\n",
       "    <tr>\n",
       "      <th>40707</th>\n",
       "      <td>1150_418</td>\n",
       "      <td>1150</td>\n",
       "      <td>2018-10-11</td>\n",
       "      <td>17.24</td>\n",
       "    </tr>\n",
       "    <tr>\n",
       "      <th>22426</th>\n",
       "      <td>1082_444</td>\n",
       "      <td>1082</td>\n",
       "      <td>2018-06-02</td>\n",
       "      <td>5.37</td>\n",
       "    </tr>\n",
       "  </tbody>\n",
       "</table>\n",
       "</div>"
      ],
      "text/plain": [
       "              id  user_id   call_date  duration\n",
       "127748   1458_22     1458  2018-11-28      1.26\n",
       "120285    1419_9     1419  2018-12-07      6.98\n",
       "62807   1226_206     1226  2018-09-19      0.00\n",
       "40707   1150_418     1150  2018-10-11     17.24\n",
       "22426   1082_444     1082  2018-06-02      5.37"
      ]
     },
     "execution_count": 14,
     "metadata": {},
     "output_type": "execute_result"
    }
   ],
   "source": [
    "calls.sample(5)# Imprime una muestra de datos para las llamadas"
   ]
  },
  {
   "cell_type": "markdown",
   "metadata": {
    "id": "DOAxYJSx0q09"
   },
   "source": [
    "Primero, el nombre de la columna \"id\" no es lo suficientemente claro, vale la pena renombrar esa columna para tener mas claridad. Segundo, la columna \"user_id\" es de tipo int, sería mejor cambiarla a tipo string. La columna \"call_date es de tipo string, sería mas conveniente manejarla como tipo dt.\n",
    "\n",
    "No existen duplicado en calls"
   ]
  },
  {
   "cell_type": "code",
   "execution_count": 15,
   "metadata": {},
   "outputs": [
    {
     "data": {
      "text/plain": [
       "0"
      ]
     },
     "execution_count": 15,
     "metadata": {},
     "output_type": "execute_result"
    }
   ],
   "source": [
    "calls.duplicated().sum()"
   ]
  },
  {
   "cell_type": "markdown",
   "metadata": {
    "id": "S7hzxmbX0q0-"
   },
   "source": [
    "### Corregir los datos"
   ]
  },
  {
   "cell_type": "code",
   "execution_count": 16,
   "metadata": {
    "id": "S2r8xA4f0q0-"
   },
   "outputs": [
    {
     "name": "stdout",
     "output_type": "stream",
     "text": [
      "<class 'pandas.core.frame.DataFrame'>\n",
      "RangeIndex: 137735 entries, 0 to 137734\n",
      "Data columns (total 4 columns):\n",
      " #   Column     Non-Null Count   Dtype         \n",
      "---  ------     --------------   -----         \n",
      " 0   call_id    137735 non-null  object        \n",
      " 1   user_id    137735 non-null  object        \n",
      " 2   call_date  137735 non-null  datetime64[ns]\n",
      " 3   duration   137735 non-null  float64       \n",
      "dtypes: datetime64[ns](1), float64(1), object(2)\n",
      "memory usage: 4.2+ MB\n"
     ]
    }
   ],
   "source": [
    "column_new ={\n",
    "    \"id\": \"call_id\"\n",
    "}\n",
    "calls.rename(columns= column_new, inplace=True)\n",
    "calls['user_id']= calls['user_id'].astype('str')\n",
    "calls['call_date'] = pd.to_datetime(calls['call_date'])\n",
    "calls.info()"
   ]
  },
  {
   "cell_type": "markdown",
   "metadata": {
    "id": "KrMgTrlG0q0_"
   },
   "source": [
    "### Enriquecer los datos"
   ]
  },
  {
   "cell_type": "code",
   "execution_count": 17,
   "metadata": {
    "id": "iZ1avpA_0q0_"
   },
   "outputs": [
    {
     "data": {
      "text/html": [
       "<div>\n",
       "<style scoped>\n",
       "    .dataframe tbody tr th:only-of-type {\n",
       "        vertical-align: middle;\n",
       "    }\n",
       "\n",
       "    .dataframe tbody tr th {\n",
       "        vertical-align: top;\n",
       "    }\n",
       "\n",
       "    .dataframe thead th {\n",
       "        text-align: right;\n",
       "    }\n",
       "</style>\n",
       "<table border=\"1\" class=\"dataframe\">\n",
       "  <thead>\n",
       "    <tr style=\"text-align: right;\">\n",
       "      <th></th>\n",
       "      <th>call_id</th>\n",
       "      <th>user_id</th>\n",
       "      <th>call_date</th>\n",
       "      <th>duration</th>\n",
       "      <th>duration_ceil</th>\n",
       "    </tr>\n",
       "  </thead>\n",
       "  <tbody>\n",
       "    <tr>\n",
       "      <th>19</th>\n",
       "      <td>1001_4</td>\n",
       "      <td>1001</td>\n",
       "      <td>2018-12-05</td>\n",
       "      <td>0.0</td>\n",
       "      <td>0.0</td>\n",
       "    </tr>\n",
       "    <tr>\n",
       "      <th>25</th>\n",
       "      <td>1001_13</td>\n",
       "      <td>1001</td>\n",
       "      <td>2018-12-24</td>\n",
       "      <td>0.0</td>\n",
       "      <td>0.0</td>\n",
       "    </tr>\n",
       "    <tr>\n",
       "      <th>31</th>\n",
       "      <td>1001_30</td>\n",
       "      <td>1001</td>\n",
       "      <td>2018-10-17</td>\n",
       "      <td>0.0</td>\n",
       "      <td>0.0</td>\n",
       "    </tr>\n",
       "    <tr>\n",
       "      <th>32</th>\n",
       "      <td>1001_31</td>\n",
       "      <td>1001</td>\n",
       "      <td>2018-11-03</td>\n",
       "      <td>0.0</td>\n",
       "      <td>0.0</td>\n",
       "    </tr>\n",
       "    <tr>\n",
       "      <th>34</th>\n",
       "      <td>1001_35</td>\n",
       "      <td>1001</td>\n",
       "      <td>2018-12-21</td>\n",
       "      <td>0.0</td>\n",
       "      <td>0.0</td>\n",
       "    </tr>\n",
       "    <tr>\n",
       "      <th>...</th>\n",
       "      <td>...</td>\n",
       "      <td>...</td>\n",
       "      <td>...</td>\n",
       "      <td>...</td>\n",
       "      <td>...</td>\n",
       "    </tr>\n",
       "    <tr>\n",
       "      <th>137714</th>\n",
       "      <td>1499_183</td>\n",
       "      <td>1499</td>\n",
       "      <td>2018-11-10</td>\n",
       "      <td>0.0</td>\n",
       "      <td>0.0</td>\n",
       "    </tr>\n",
       "    <tr>\n",
       "      <th>137715</th>\n",
       "      <td>1499_184</td>\n",
       "      <td>1499</td>\n",
       "      <td>2018-09-15</td>\n",
       "      <td>0.0</td>\n",
       "      <td>0.0</td>\n",
       "    </tr>\n",
       "    <tr>\n",
       "      <th>137720</th>\n",
       "      <td>1499_189</td>\n",
       "      <td>1499</td>\n",
       "      <td>2018-12-27</td>\n",
       "      <td>0.0</td>\n",
       "      <td>0.0</td>\n",
       "    </tr>\n",
       "    <tr>\n",
       "      <th>137722</th>\n",
       "      <td>1499_191</td>\n",
       "      <td>1499</td>\n",
       "      <td>2018-12-24</td>\n",
       "      <td>0.0</td>\n",
       "      <td>0.0</td>\n",
       "    </tr>\n",
       "    <tr>\n",
       "      <th>137725</th>\n",
       "      <td>1499_194</td>\n",
       "      <td>1499</td>\n",
       "      <td>2018-10-31</td>\n",
       "      <td>0.0</td>\n",
       "      <td>0.0</td>\n",
       "    </tr>\n",
       "  </tbody>\n",
       "</table>\n",
       "<p>26834 rows × 5 columns</p>\n",
       "</div>"
      ],
      "text/plain": [
       "         call_id user_id  call_date  duration  duration_ceil\n",
       "19        1001_4    1001 2018-12-05       0.0            0.0\n",
       "25       1001_13    1001 2018-12-24       0.0            0.0\n",
       "31       1001_30    1001 2018-10-17       0.0            0.0\n",
       "32       1001_31    1001 2018-11-03       0.0            0.0\n",
       "34       1001_35    1001 2018-12-21       0.0            0.0\n",
       "...          ...     ...        ...       ...            ...\n",
       "137714  1499_183    1499 2018-11-10       0.0            0.0\n",
       "137715  1499_184    1499 2018-09-15       0.0            0.0\n",
       "137720  1499_189    1499 2018-12-27       0.0            0.0\n",
       "137722  1499_191    1499 2018-12-24       0.0            0.0\n",
       "137725  1499_194    1499 2018-10-31       0.0            0.0\n",
       "\n",
       "[26834 rows x 5 columns]"
      ]
     },
     "execution_count": 17,
     "metadata": {},
     "output_type": "execute_result"
    }
   ],
   "source": [
    "calls['duration_ceil']= calls['duration'].apply(np.ceil)\n",
    "calls[calls['duration_ceil'] == 0]"
   ]
  },
  {
   "cell_type": "markdown",
   "metadata": {
    "id": "mOUZSi180q0_"
   },
   "source": [
    "## Mensajes"
   ]
  },
  {
   "cell_type": "code",
   "execution_count": 18,
   "metadata": {
    "id": "R-bYJpdV0q1A"
   },
   "outputs": [
    {
     "name": "stdout",
     "output_type": "stream",
     "text": [
      "<class 'pandas.core.frame.DataFrame'>\n",
      "RangeIndex: 76051 entries, 0 to 76050\n",
      "Data columns (total 3 columns):\n",
      " #   Column        Non-Null Count  Dtype \n",
      "---  ------        --------------  ----- \n",
      " 0   id            76051 non-null  object\n",
      " 1   user_id       76051 non-null  int64 \n",
      " 2   message_date  76051 non-null  object\n",
      "dtypes: int64(1), object(2)\n",
      "memory usage: 1.7+ MB\n"
     ]
    }
   ],
   "source": [
    "messages.info()# Imprime la información general/resumida sobre el DataFrame de los mensajes"
   ]
  },
  {
   "cell_type": "code",
   "execution_count": 19,
   "metadata": {
    "id": "mCEl2iGE0q1A"
   },
   "outputs": [
    {
     "data": {
      "text/html": [
       "<div>\n",
       "<style scoped>\n",
       "    .dataframe tbody tr th:only-of-type {\n",
       "        vertical-align: middle;\n",
       "    }\n",
       "\n",
       "    .dataframe tbody tr th {\n",
       "        vertical-align: top;\n",
       "    }\n",
       "\n",
       "    .dataframe thead th {\n",
       "        text-align: right;\n",
       "    }\n",
       "</style>\n",
       "<table border=\"1\" class=\"dataframe\">\n",
       "  <thead>\n",
       "    <tr style=\"text-align: right;\">\n",
       "      <th></th>\n",
       "      <th>id</th>\n",
       "      <th>user_id</th>\n",
       "      <th>message_date</th>\n",
       "    </tr>\n",
       "  </thead>\n",
       "  <tbody>\n",
       "    <tr>\n",
       "      <th>23383</th>\n",
       "      <td>1142_31</td>\n",
       "      <td>1142</td>\n",
       "      <td>2018-10-27</td>\n",
       "    </tr>\n",
       "    <tr>\n",
       "      <th>55558</th>\n",
       "      <td>1349_229</td>\n",
       "      <td>1349</td>\n",
       "      <td>2018-10-29</td>\n",
       "    </tr>\n",
       "    <tr>\n",
       "      <th>53</th>\n",
       "      <td>1001_89</td>\n",
       "      <td>1001</td>\n",
       "      <td>2018-10-31</td>\n",
       "    </tr>\n",
       "    <tr>\n",
       "      <th>58438</th>\n",
       "      <td>1370_170</td>\n",
       "      <td>1370</td>\n",
       "      <td>2018-11-23</td>\n",
       "    </tr>\n",
       "    <tr>\n",
       "      <th>73078</th>\n",
       "      <td>1470_706</td>\n",
       "      <td>1470</td>\n",
       "      <td>2018-07-06</td>\n",
       "    </tr>\n",
       "  </tbody>\n",
       "</table>\n",
       "</div>"
      ],
      "text/plain": [
       "             id  user_id message_date\n",
       "23383   1142_31     1142   2018-10-27\n",
       "55558  1349_229     1349   2018-10-29\n",
       "53      1001_89     1001   2018-10-31\n",
       "58438  1370_170     1370   2018-11-23\n",
       "73078  1470_706     1470   2018-07-06"
      ]
     },
     "execution_count": 19,
     "metadata": {},
     "output_type": "execute_result"
    }
   ],
   "source": [
    "messages.sample(5)# Imprime una muestra de datos para los mensajes"
   ]
  },
  {
   "cell_type": "code",
   "execution_count": 20,
   "metadata": {},
   "outputs": [
    {
     "data": {
      "text/plain": [
       "0"
      ]
     },
     "execution_count": 20,
     "metadata": {},
     "output_type": "execute_result"
    }
   ],
   "source": [
    "messages.duplicated().sum()"
   ]
  },
  {
   "cell_type": "markdown",
   "metadata": {
    "id": "04xDj7KH0q1A"
   },
   "source": [
    "La columna \"id\" no tiene un nombre lo suficientemente claro. la columna \"user_id\" es de tipo entero, es conveniente tenerla como str. La columna \"mesagge_date\" estaría mejor como tipo dt.\n",
    "\n",
    "No existen duplicados en messages"
   ]
  },
  {
   "cell_type": "markdown",
   "metadata": {
    "id": "Sprfak900q1B"
   },
   "source": [
    "### Corregir los datos"
   ]
  },
  {
   "cell_type": "code",
   "execution_count": 21,
   "metadata": {
    "id": "vsllvkoa0q1B"
   },
   "outputs": [
    {
     "name": "stdout",
     "output_type": "stream",
     "text": [
      "<class 'pandas.core.frame.DataFrame'>\n",
      "RangeIndex: 76051 entries, 0 to 76050\n",
      "Data columns (total 3 columns):\n",
      " #   Column        Non-Null Count  Dtype         \n",
      "---  ------        --------------  -----         \n",
      " 0   messages_id   76051 non-null  object        \n",
      " 1   user_id       76051 non-null  object        \n",
      " 2   message_date  76051 non-null  datetime64[ns]\n",
      "dtypes: datetime64[ns](1), object(2)\n",
      "memory usage: 1.7+ MB\n"
     ]
    }
   ],
   "source": [
    "mcolumn_new ={\n",
    "    \"id\": \"messages_id\"\n",
    "}\n",
    "messages.rename(columns= mcolumn_new, inplace=True)\n",
    "messages['user_id']= messages['user_id'].astype('str')\n",
    "messages['message_date']= pd.to_datetime(messages['message_date'])\n",
    "\n",
    "messages.info()"
   ]
  },
  {
   "cell_type": "markdown",
   "metadata": {
    "id": "HvLid7iD0q1B"
   },
   "source": [
    "### Enriquecer los datos"
   ]
  },
  {
   "cell_type": "markdown",
   "metadata": {
    "id": "bStkaxn40q1C"
   },
   "source": [
    "## Internet"
   ]
  },
  {
   "cell_type": "code",
   "execution_count": 22,
   "metadata": {
    "id": "e-Uz5qyn0q1C"
   },
   "outputs": [
    {
     "name": "stdout",
     "output_type": "stream",
     "text": [
      "<class 'pandas.core.frame.DataFrame'>\n",
      "RangeIndex: 104825 entries, 0 to 104824\n",
      "Data columns (total 4 columns):\n",
      " #   Column        Non-Null Count   Dtype  \n",
      "---  ------        --------------   -----  \n",
      " 0   id            104825 non-null  object \n",
      " 1   user_id       104825 non-null  int64  \n",
      " 2   session_date  104825 non-null  object \n",
      " 3   mb_used       104825 non-null  float64\n",
      "dtypes: float64(1), int64(1), object(2)\n",
      "memory usage: 3.2+ MB\n"
     ]
    }
   ],
   "source": [
    "# Imprime la información general/resumida sobre el DataFrame de internet\n",
    "internet.info()"
   ]
  },
  {
   "cell_type": "code",
   "execution_count": 23,
   "metadata": {
    "id": "9r3x_XLw0q1C"
   },
   "outputs": [
    {
     "data": {
      "text/html": [
       "<div>\n",
       "<style scoped>\n",
       "    .dataframe tbody tr th:only-of-type {\n",
       "        vertical-align: middle;\n",
       "    }\n",
       "\n",
       "    .dataframe tbody tr th {\n",
       "        vertical-align: top;\n",
       "    }\n",
       "\n",
       "    .dataframe thead th {\n",
       "        text-align: right;\n",
       "    }\n",
       "</style>\n",
       "<table border=\"1\" class=\"dataframe\">\n",
       "  <thead>\n",
       "    <tr style=\"text-align: right;\">\n",
       "      <th></th>\n",
       "      <th>id</th>\n",
       "      <th>user_id</th>\n",
       "      <th>session_date</th>\n",
       "      <th>mb_used</th>\n",
       "    </tr>\n",
       "  </thead>\n",
       "  <tbody>\n",
       "    <tr>\n",
       "      <th>92986</th>\n",
       "      <td>1434_220</td>\n",
       "      <td>1434</td>\n",
       "      <td>2018-11-21</td>\n",
       "      <td>412.58</td>\n",
       "    </tr>\n",
       "    <tr>\n",
       "      <th>65116</th>\n",
       "      <td>1299_404</td>\n",
       "      <td>1299</td>\n",
       "      <td>2018-09-25</td>\n",
       "      <td>117.77</td>\n",
       "    </tr>\n",
       "    <tr>\n",
       "      <th>104447</th>\n",
       "      <td>1498_521</td>\n",
       "      <td>1498</td>\n",
       "      <td>2018-08-08</td>\n",
       "      <td>981.77</td>\n",
       "    </tr>\n",
       "    <tr>\n",
       "      <th>21000</th>\n",
       "      <td>1098_17</td>\n",
       "      <td>1098</td>\n",
       "      <td>2018-11-10</td>\n",
       "      <td>889.96</td>\n",
       "    </tr>\n",
       "    <tr>\n",
       "      <th>97994</th>\n",
       "      <td>1461_161</td>\n",
       "      <td>1461</td>\n",
       "      <td>2018-09-30</td>\n",
       "      <td>195.16</td>\n",
       "    </tr>\n",
       "  </tbody>\n",
       "</table>\n",
       "</div>"
      ],
      "text/plain": [
       "              id  user_id session_date  mb_used\n",
       "92986   1434_220     1434   2018-11-21   412.58\n",
       "65116   1299_404     1299   2018-09-25   117.77\n",
       "104447  1498_521     1498   2018-08-08   981.77\n",
       "21000    1098_17     1098   2018-11-10   889.96\n",
       "97994   1461_161     1461   2018-09-30   195.16"
      ]
     },
     "execution_count": 23,
     "metadata": {},
     "output_type": "execute_result"
    }
   ],
   "source": [
    "# Imprime una muestra de datos para el tráfico de internet\n",
    "internet.sample(5)"
   ]
  },
  {
   "cell_type": "code",
   "execution_count": 24,
   "metadata": {},
   "outputs": [
    {
     "data": {
      "text/plain": [
       "0"
      ]
     },
     "execution_count": 24,
     "metadata": {},
     "output_type": "execute_result"
    }
   ],
   "source": [
    "internet.duplicated().sum()"
   ]
  },
  {
   "cell_type": "markdown",
   "metadata": {
    "id": "EzOG5ik30q1D"
   },
   "source": [
    "La columna \"id\" no es muy clara. \"user_id\" estaría mejor si fuera de tipo str. \"session_date\" debería estar como tipo de dato dt. Valdría la pena crear una columna gb_used en vez de mb_used para hacer cálculos posteriores. \n",
    "\n",
    "NO existen duplicados en interent"
   ]
  },
  {
   "cell_type": "markdown",
   "metadata": {
    "id": "yA0tkPFg0q1D"
   },
   "source": [
    "### Corregir los datos"
   ]
  },
  {
   "cell_type": "code",
   "execution_count": 25,
   "metadata": {
    "id": "zVeanzdd0q1E"
   },
   "outputs": [
    {
     "name": "stdout",
     "output_type": "stream",
     "text": [
      "<class 'pandas.core.frame.DataFrame'>\n",
      "RangeIndex: 104825 entries, 0 to 104824\n",
      "Data columns (total 4 columns):\n",
      " #   Column        Non-Null Count   Dtype         \n",
      "---  ------        --------------   -----         \n",
      " 0   internet_id   104825 non-null  object        \n",
      " 1   user_id       104825 non-null  object        \n",
      " 2   session_date  104825 non-null  datetime64[ns]\n",
      " 3   mb_used       104825 non-null  float64       \n",
      "dtypes: datetime64[ns](1), float64(1), object(2)\n",
      "memory usage: 3.2+ MB\n"
     ]
    }
   ],
   "source": [
    "icolumn= {\n",
    "    \"id\": \"internet_id\"\n",
    "}\n",
    "internet.rename(columns= icolumn, inplace=True)\n",
    "internet['user_id']= internet['user_id'].astype(str)\n",
    "internet['session_date']= pd.to_datetime(internet['session_date'])\n",
    "internet.info()"
   ]
  },
  {
   "cell_type": "markdown",
   "metadata": {
    "id": "e8_mLF4a0q1E"
   },
   "source": [
    "### Enriquecer los datos"
   ]
  },
  {
   "cell_type": "code",
   "execution_count": 26,
   "metadata": {
    "id": "ESiYPIEK0q1E"
   },
   "outputs": [
    {
     "data": {
      "text/html": [
       "<div>\n",
       "<style scoped>\n",
       "    .dataframe tbody tr th:only-of-type {\n",
       "        vertical-align: middle;\n",
       "    }\n",
       "\n",
       "    .dataframe tbody tr th {\n",
       "        vertical-align: top;\n",
       "    }\n",
       "\n",
       "    .dataframe thead th {\n",
       "        text-align: right;\n",
       "    }\n",
       "</style>\n",
       "<table border=\"1\" class=\"dataframe\">\n",
       "  <thead>\n",
       "    <tr style=\"text-align: right;\">\n",
       "      <th></th>\n",
       "      <th>internet_id</th>\n",
       "      <th>user_id</th>\n",
       "      <th>session_date</th>\n",
       "      <th>mb_used</th>\n",
       "      <th>gb_used</th>\n",
       "    </tr>\n",
       "  </thead>\n",
       "  <tbody>\n",
       "    <tr>\n",
       "      <th>13148</th>\n",
       "      <td>1062_118</td>\n",
       "      <td>1062</td>\n",
       "      <td>2018-06-19</td>\n",
       "      <td>275.60</td>\n",
       "      <td>0.269141</td>\n",
       "    </tr>\n",
       "    <tr>\n",
       "      <th>37158</th>\n",
       "      <td>1167_81</td>\n",
       "      <td>1167</td>\n",
       "      <td>2018-08-20</td>\n",
       "      <td>259.59</td>\n",
       "      <td>0.253506</td>\n",
       "    </tr>\n",
       "    <tr>\n",
       "      <th>36353</th>\n",
       "      <td>1164_36</td>\n",
       "      <td>1164</td>\n",
       "      <td>2018-07-24</td>\n",
       "      <td>379.24</td>\n",
       "      <td>0.370352</td>\n",
       "    </tr>\n",
       "    <tr>\n",
       "      <th>64451</th>\n",
       "      <td>1295_488</td>\n",
       "      <td>1295</td>\n",
       "      <td>2018-11-02</td>\n",
       "      <td>178.45</td>\n",
       "      <td>0.174268</td>\n",
       "    </tr>\n",
       "    <tr>\n",
       "      <th>6081</th>\n",
       "      <td>1033_142</td>\n",
       "      <td>1033</td>\n",
       "      <td>2018-10-05</td>\n",
       "      <td>370.71</td>\n",
       "      <td>0.362021</td>\n",
       "    </tr>\n",
       "  </tbody>\n",
       "</table>\n",
       "</div>"
      ],
      "text/plain": [
       "      internet_id user_id session_date  mb_used   gb_used\n",
       "13148    1062_118    1062   2018-06-19   275.60  0.269141\n",
       "37158     1167_81    1167   2018-08-20   259.59  0.253506\n",
       "36353     1164_36    1164   2018-07-24   379.24  0.370352\n",
       "64451    1295_488    1295   2018-11-02   178.45  0.174268\n",
       "6081     1033_142    1033   2018-10-05   370.71  0.362021"
      ]
     },
     "execution_count": 26,
     "metadata": {},
     "output_type": "execute_result"
    }
   ],
   "source": [
    "gb_used= internet['mb_used'] / 1024\n",
    "internet['gb_used']= internet['mb_used'] / 1024\n",
    "internet.sample(5)"
   ]
  },
  {
   "cell_type": "markdown",
   "metadata": {
    "id": "3UA2cqIW0q1E"
   },
   "source": [
    "## Estudiar las condiciones de las tarifas"
   ]
  },
  {
   "cell_type": "code",
   "execution_count": 27,
   "metadata": {
    "id": "i409op8p0q1F"
   },
   "outputs": [
    {
     "name": "stdout",
     "output_type": "stream",
     "text": [
      "<class 'pandas.core.frame.DataFrame'>\n",
      "RangeIndex: 2 entries, 0 to 1\n",
      "Data columns (total 8 columns):\n",
      " #   Column                 Non-Null Count  Dtype  \n",
      "---  ------                 --------------  -----  \n",
      " 0   messages_included      2 non-null      int64  \n",
      " 1   minutes_included       2 non-null      int64  \n",
      " 2   usd_monthly_pay        2 non-null      int64  \n",
      " 3   usd_per_gb             2 non-null      int64  \n",
      " 4   usd_per_message        2 non-null      float64\n",
      " 5   usd_per_minute         2 non-null      float64\n",
      " 6   plan                   2 non-null      object \n",
      " 7   gb_per_month_included  2 non-null      int32  \n",
      "dtypes: float64(2), int32(1), int64(4), object(1)\n",
      "memory usage: 252.0+ bytes\n"
     ]
    }
   ],
   "source": [
    "# Imprime las condiciones de la tarifa y asegúrate de que te quedan claras\n",
    "plans.info()"
   ]
  },
  {
   "cell_type": "code",
   "execution_count": 28,
   "metadata": {},
   "outputs": [
    {
     "data": {
      "text/html": [
       "<div>\n",
       "<style scoped>\n",
       "    .dataframe tbody tr th:only-of-type {\n",
       "        vertical-align: middle;\n",
       "    }\n",
       "\n",
       "    .dataframe tbody tr th {\n",
       "        vertical-align: top;\n",
       "    }\n",
       "\n",
       "    .dataframe thead th {\n",
       "        text-align: right;\n",
       "    }\n",
       "</style>\n",
       "<table border=\"1\" class=\"dataframe\">\n",
       "  <thead>\n",
       "    <tr style=\"text-align: right;\">\n",
       "      <th></th>\n",
       "      <th>messages_included</th>\n",
       "      <th>minutes_included</th>\n",
       "      <th>usd_monthly_pay</th>\n",
       "      <th>usd_per_gb</th>\n",
       "      <th>usd_per_message</th>\n",
       "      <th>usd_per_minute</th>\n",
       "      <th>plan</th>\n",
       "      <th>gb_per_month_included</th>\n",
       "    </tr>\n",
       "  </thead>\n",
       "  <tbody>\n",
       "    <tr>\n",
       "      <th>0</th>\n",
       "      <td>50</td>\n",
       "      <td>500</td>\n",
       "      <td>20</td>\n",
       "      <td>10</td>\n",
       "      <td>0.03</td>\n",
       "      <td>0.03</td>\n",
       "      <td>surf</td>\n",
       "      <td>15</td>\n",
       "    </tr>\n",
       "    <tr>\n",
       "      <th>1</th>\n",
       "      <td>1000</td>\n",
       "      <td>3000</td>\n",
       "      <td>70</td>\n",
       "      <td>7</td>\n",
       "      <td>0.01</td>\n",
       "      <td>0.01</td>\n",
       "      <td>ultimate</td>\n",
       "      <td>30</td>\n",
       "    </tr>\n",
       "  </tbody>\n",
       "</table>\n",
       "</div>"
      ],
      "text/plain": [
       "   messages_included  minutes_included  usd_monthly_pay  usd_per_gb  \\\n",
       "0                 50               500               20          10   \n",
       "1               1000              3000               70           7   \n",
       "\n",
       "   usd_per_message  usd_per_minute      plan  gb_per_month_included  \n",
       "0             0.03            0.03      surf                     15  \n",
       "1             0.01            0.01  ultimate                     30  "
      ]
     },
     "execution_count": 28,
     "metadata": {},
     "output_type": "execute_result"
    }
   ],
   "source": [
    "plans"
   ]
  },
  {
   "cell_type": "markdown",
   "metadata": {
    "id": "hMR1tP5d0q1F"
   },
   "source": [
    "## Agregar datos por usuario\n",
    "\n",
    "[Ahora que los datos están limpios, agregamos los datos por usuario y por periodo para que solo haya un registro por usuario y por periodo. Esto facilitará mucho el análisis posterior.]"
   ]
  },
  {
   "cell_type": "code",
   "execution_count": 29,
   "metadata": {
    "id": "A332cedB0q1G",
    "scrolled": false
   },
   "outputs": [
    {
     "data": {
      "text/html": [
       "<div>\n",
       "<style scoped>\n",
       "    .dataframe tbody tr th:only-of-type {\n",
       "        vertical-align: middle;\n",
       "    }\n",
       "\n",
       "    .dataframe tbody tr th {\n",
       "        vertical-align: top;\n",
       "    }\n",
       "\n",
       "    .dataframe thead th {\n",
       "        text-align: right;\n",
       "    }\n",
       "</style>\n",
       "<table border=\"1\" class=\"dataframe\">\n",
       "  <thead>\n",
       "    <tr style=\"text-align: right;\">\n",
       "      <th></th>\n",
       "      <th>user_id</th>\n",
       "      <th>month</th>\n",
       "      <th>n_calls</th>\n",
       "    </tr>\n",
       "  </thead>\n",
       "  <tbody>\n",
       "    <tr>\n",
       "      <th>0</th>\n",
       "      <td>1000</td>\n",
       "      <td>2018-12</td>\n",
       "      <td>16</td>\n",
       "    </tr>\n",
       "    <tr>\n",
       "      <th>1</th>\n",
       "      <td>1001</td>\n",
       "      <td>2018-08</td>\n",
       "      <td>27</td>\n",
       "    </tr>\n",
       "    <tr>\n",
       "      <th>2</th>\n",
       "      <td>1001</td>\n",
       "      <td>2018-09</td>\n",
       "      <td>49</td>\n",
       "    </tr>\n",
       "    <tr>\n",
       "      <th>3</th>\n",
       "      <td>1001</td>\n",
       "      <td>2018-10</td>\n",
       "      <td>65</td>\n",
       "    </tr>\n",
       "    <tr>\n",
       "      <th>4</th>\n",
       "      <td>1001</td>\n",
       "      <td>2018-11</td>\n",
       "      <td>64</td>\n",
       "    </tr>\n",
       "    <tr>\n",
       "      <th>...</th>\n",
       "      <td>...</td>\n",
       "      <td>...</td>\n",
       "      <td>...</td>\n",
       "    </tr>\n",
       "    <tr>\n",
       "      <th>2253</th>\n",
       "      <td>1498</td>\n",
       "      <td>2018-12</td>\n",
       "      <td>39</td>\n",
       "    </tr>\n",
       "    <tr>\n",
       "      <th>2254</th>\n",
       "      <td>1499</td>\n",
       "      <td>2018-09</td>\n",
       "      <td>41</td>\n",
       "    </tr>\n",
       "    <tr>\n",
       "      <th>2255</th>\n",
       "      <td>1499</td>\n",
       "      <td>2018-10</td>\n",
       "      <td>53</td>\n",
       "    </tr>\n",
       "    <tr>\n",
       "      <th>2256</th>\n",
       "      <td>1499</td>\n",
       "      <td>2018-11</td>\n",
       "      <td>45</td>\n",
       "    </tr>\n",
       "    <tr>\n",
       "      <th>2257</th>\n",
       "      <td>1499</td>\n",
       "      <td>2018-12</td>\n",
       "      <td>65</td>\n",
       "    </tr>\n",
       "  </tbody>\n",
       "</table>\n",
       "<p>2258 rows × 3 columns</p>\n",
       "</div>"
      ],
      "text/plain": [
       "     user_id    month  n_calls\n",
       "0       1000  2018-12       16\n",
       "1       1001  2018-08       27\n",
       "2       1001  2018-09       49\n",
       "3       1001  2018-10       65\n",
       "4       1001  2018-11       64\n",
       "...      ...      ...      ...\n",
       "2253    1498  2018-12       39\n",
       "2254    1499  2018-09       41\n",
       "2255    1499  2018-10       53\n",
       "2256    1499  2018-11       45\n",
       "2257    1499  2018-12       65\n",
       "\n",
       "[2258 rows x 3 columns]"
      ]
     },
     "execution_count": 29,
     "metadata": {},
     "output_type": "execute_result"
    }
   ],
   "source": [
    "# Calcula el número de llamadas hechas por cada usuario al mes. Guarda el resultado.\n",
    "calls['month']= calls['call_date'].dt.to_period(\"M\")\n",
    "monthly_calls_per_user=(\n",
    "calls\n",
    "    .groupby([\"user_id\", 'month'])[\"call_id\"]\n",
    "    .count()\n",
    "    .reset_index()\n",
    "    .rename(columns={'call_id': 'n_calls'})\n",
    ")\n",
    "monthly_calls_per_user"
   ]
  },
  {
   "cell_type": "code",
   "execution_count": 30,
   "metadata": {},
   "outputs": [
    {
     "data": {
      "text/plain": [
       "<Axes: title={'center': 'Número de llamadas hechas por cada usuario al mes'}, xlabel='llamadas', ylabel='Frequency'>"
      ]
     },
     "execution_count": 30,
     "metadata": {},
     "output_type": "execute_result"
    },
    {
     "data": {
      "image/png": "[encoded data removed]",
      "text/plain": [
       "<Figure size 640x480 with 1 Axes>"
      ]
     },
     "metadata": {},
     "output_type": "display_data"
    }
   ],
   "source": [
    "monthly_calls_per_user['n_calls'].plot(title= 'Número de llamadas hechas por cada usuario al mes', kind= 'hist', xlabel= 'llamadas', grid=True)"
   ]
  },
  {
   "cell_type": "code",
   "execution_count": 31,
   "metadata": {},
   "outputs": [
    {
     "data": {
      "text/plain": [
       "user_id  call_date \n",
       "1000     2018-12-26    2\n",
       "         2018-12-27    5\n",
       "         2018-12-28    4\n",
       "         2018-12-29    1\n",
       "         2018-12-30    1\n",
       "         2018-12-31    3\n",
       "1001     2018-08-14    2\n",
       "         2018-08-16    4\n",
       "         2018-08-17    1\n",
       "         2018-08-18    1\n",
       "         2018-08-19    1\n",
       "         2018-08-20    1\n",
       "         2018-08-21    1\n",
       "         2018-08-23    2\n",
       "         2018-08-24    1\n",
       "         2018-08-25    3\n",
       "         2018-08-27    3\n",
       "         2018-08-28    2\n",
       "         2018-08-29    3\n",
       "         2018-08-31    2\n",
       "Name: call_id, dtype: int64"
      ]
     },
     "execution_count": 31,
     "metadata": {},
     "output_type": "execute_result"
    }
   ],
   "source": [
    "mcpu= calls.groupby([\"user_id\", \"call_date\"])['call_id'].count()\n",
    "mcpu.head(20)"
   ]
  },
  {
   "cell_type": "code",
   "execution_count": 32,
   "metadata": {
    "id": "aw2cmuql0q1G",
    "scrolled": false
   },
   "outputs": [
    {
     "data": {
      "text/html": [
       "<div>\n",
       "<style scoped>\n",
       "    .dataframe tbody tr th:only-of-type {\n",
       "        vertical-align: middle;\n",
       "    }\n",
       "\n",
       "    .dataframe tbody tr th {\n",
       "        vertical-align: top;\n",
       "    }\n",
       "\n",
       "    .dataframe thead th {\n",
       "        text-align: right;\n",
       "    }\n",
       "</style>\n",
       "<table border=\"1\" class=\"dataframe\">\n",
       "  <thead>\n",
       "    <tr style=\"text-align: right;\">\n",
       "      <th></th>\n",
       "      <th>user_id</th>\n",
       "      <th>month</th>\n",
       "      <th>n_minutes</th>\n",
       "    </tr>\n",
       "  </thead>\n",
       "  <tbody>\n",
       "    <tr>\n",
       "      <th>0</th>\n",
       "      <td>1000</td>\n",
       "      <td>2018-12</td>\n",
       "      <td>124.0</td>\n",
       "    </tr>\n",
       "    <tr>\n",
       "      <th>1</th>\n",
       "      <td>1001</td>\n",
       "      <td>2018-08</td>\n",
       "      <td>182.0</td>\n",
       "    </tr>\n",
       "    <tr>\n",
       "      <th>2</th>\n",
       "      <td>1001</td>\n",
       "      <td>2018-09</td>\n",
       "      <td>315.0</td>\n",
       "    </tr>\n",
       "    <tr>\n",
       "      <th>3</th>\n",
       "      <td>1001</td>\n",
       "      <td>2018-10</td>\n",
       "      <td>393.0</td>\n",
       "    </tr>\n",
       "    <tr>\n",
       "      <th>4</th>\n",
       "      <td>1001</td>\n",
       "      <td>2018-11</td>\n",
       "      <td>426.0</td>\n",
       "    </tr>\n",
       "    <tr>\n",
       "      <th>...</th>\n",
       "      <td>...</td>\n",
       "      <td>...</td>\n",
       "      <td>...</td>\n",
       "    </tr>\n",
       "    <tr>\n",
       "      <th>2253</th>\n",
       "      <td>1498</td>\n",
       "      <td>2018-12</td>\n",
       "      <td>339.0</td>\n",
       "    </tr>\n",
       "    <tr>\n",
       "      <th>2254</th>\n",
       "      <td>1499</td>\n",
       "      <td>2018-09</td>\n",
       "      <td>346.0</td>\n",
       "    </tr>\n",
       "    <tr>\n",
       "      <th>2255</th>\n",
       "      <td>1499</td>\n",
       "      <td>2018-10</td>\n",
       "      <td>385.0</td>\n",
       "    </tr>\n",
       "    <tr>\n",
       "      <th>2256</th>\n",
       "      <td>1499</td>\n",
       "      <td>2018-11</td>\n",
       "      <td>308.0</td>\n",
       "    </tr>\n",
       "    <tr>\n",
       "      <th>2257</th>\n",
       "      <td>1499</td>\n",
       "      <td>2018-12</td>\n",
       "      <td>496.0</td>\n",
       "    </tr>\n",
       "  </tbody>\n",
       "</table>\n",
       "<p>2258 rows × 3 columns</p>\n",
       "</div>"
      ],
      "text/plain": [
       "     user_id    month  n_minutes\n",
       "0       1000  2018-12      124.0\n",
       "1       1001  2018-08      182.0\n",
       "2       1001  2018-09      315.0\n",
       "3       1001  2018-10      393.0\n",
       "4       1001  2018-11      426.0\n",
       "...      ...      ...        ...\n",
       "2253    1498  2018-12      339.0\n",
       "2254    1499  2018-09      346.0\n",
       "2255    1499  2018-10      385.0\n",
       "2256    1499  2018-11      308.0\n",
       "2257    1499  2018-12      496.0\n",
       "\n",
       "[2258 rows x 3 columns]"
      ]
     },
     "execution_count": 32,
     "metadata": {},
     "output_type": "execute_result"
    }
   ],
   "source": [
    "# Calcula la cantidad de minutos usados por cada usuario al mes. Guarda el resultado.\n",
    "monthly_duration_per_user= (\n",
    "calls\n",
    "    .groupby([\"user_id\", \"month\"])[\"duration_ceil\"]\n",
    "    .sum()\n",
    "    .reset_index()\n",
    "    .rename(columns={'duration_ceil': 'n_minutes'})\n",
    ")\n",
    "monthly_duration_per_user"
   ]
  },
  {
   "cell_type": "code",
   "execution_count": 33,
   "metadata": {},
   "outputs": [
    {
     "data": {
      "text/plain": [
       "user_id  duration_ceil\n",
       "1000     2.0               1\n",
       "         3.0               1\n",
       "         4.0               1\n",
       "         5.0               3\n",
       "         6.0               4\n",
       "         9.0               1\n",
       "         10.0              1\n",
       "         13.0              1\n",
       "         14.0              1\n",
       "         15.0              2\n",
       "1001     0.0              59\n",
       "         1.0              12\n",
       "         2.0              14\n",
       "         3.0              12\n",
       "         4.0              11\n",
       "         5.0               8\n",
       "         6.0              20\n",
       "         7.0              20\n",
       "         8.0              14\n",
       "         9.0              14\n",
       "Name: call_id, dtype: int64"
      ]
     },
     "execution_count": 33,
     "metadata": {},
     "output_type": "execute_result"
    }
   ],
   "source": [
    "mmpu= calls.groupby([\"user_id\", \"duration_ceil\"])[\"call_id\"].count()\n",
    "mmpu.head(20)"
   ]
  },
  {
   "cell_type": "code",
   "execution_count": 34,
   "metadata": {},
   "outputs": [
    {
     "data": {
      "text/plain": [
       "<function matplotlib.pyplot.show(close=None, block=None)>"
      ]
     },
     "execution_count": 34,
     "metadata": {},
     "output_type": "execute_result"
    },
    {
     "data": {
      "image/png": "[encoded data removed]",
      "text/plain": [
       "<Figure size 640x480 with 1 Axes>"
      ]
     },
     "metadata": {},
     "output_type": "display_data"
    }
   ],
   "source": [
    "monthly_duration_per_user['n_minutes'].plot(title= 'Cantidad de minutos usados por cada usuarios al mes', kind= 'hist', grid=True)\n",
    "plt.show"
   ]
  },
  {
   "cell_type": "code",
   "execution_count": 35,
   "metadata": {
    "id": "CcQvNHn60q1G"
   },
   "outputs": [
    {
     "data": {
      "text/html": [
       "<div>\n",
       "<style scoped>\n",
       "    .dataframe tbody tr th:only-of-type {\n",
       "        vertical-align: middle;\n",
       "    }\n",
       "\n",
       "    .dataframe tbody tr th {\n",
       "        vertical-align: top;\n",
       "    }\n",
       "\n",
       "    .dataframe thead th {\n",
       "        text-align: right;\n",
       "    }\n",
       "</style>\n",
       "<table border=\"1\" class=\"dataframe\">\n",
       "  <thead>\n",
       "    <tr style=\"text-align: right;\">\n",
       "      <th></th>\n",
       "      <th>user_id</th>\n",
       "      <th>month</th>\n",
       "      <th>n_messages</th>\n",
       "    </tr>\n",
       "  </thead>\n",
       "  <tbody>\n",
       "    <tr>\n",
       "      <th>0</th>\n",
       "      <td>1000</td>\n",
       "      <td>2018-12</td>\n",
       "      <td>11</td>\n",
       "    </tr>\n",
       "    <tr>\n",
       "      <th>1</th>\n",
       "      <td>1001</td>\n",
       "      <td>2018-08</td>\n",
       "      <td>30</td>\n",
       "    </tr>\n",
       "    <tr>\n",
       "      <th>2</th>\n",
       "      <td>1001</td>\n",
       "      <td>2018-09</td>\n",
       "      <td>44</td>\n",
       "    </tr>\n",
       "    <tr>\n",
       "      <th>3</th>\n",
       "      <td>1001</td>\n",
       "      <td>2018-10</td>\n",
       "      <td>53</td>\n",
       "    </tr>\n",
       "    <tr>\n",
       "      <th>4</th>\n",
       "      <td>1001</td>\n",
       "      <td>2018-11</td>\n",
       "      <td>36</td>\n",
       "    </tr>\n",
       "    <tr>\n",
       "      <th>...</th>\n",
       "      <td>...</td>\n",
       "      <td>...</td>\n",
       "      <td>...</td>\n",
       "    </tr>\n",
       "    <tr>\n",
       "      <th>1801</th>\n",
       "      <td>1496</td>\n",
       "      <td>2018-09</td>\n",
       "      <td>21</td>\n",
       "    </tr>\n",
       "    <tr>\n",
       "      <th>1802</th>\n",
       "      <td>1496</td>\n",
       "      <td>2018-10</td>\n",
       "      <td>18</td>\n",
       "    </tr>\n",
       "    <tr>\n",
       "      <th>1803</th>\n",
       "      <td>1496</td>\n",
       "      <td>2018-11</td>\n",
       "      <td>13</td>\n",
       "    </tr>\n",
       "    <tr>\n",
       "      <th>1804</th>\n",
       "      <td>1496</td>\n",
       "      <td>2018-12</td>\n",
       "      <td>11</td>\n",
       "    </tr>\n",
       "    <tr>\n",
       "      <th>1805</th>\n",
       "      <td>1497</td>\n",
       "      <td>2018-12</td>\n",
       "      <td>50</td>\n",
       "    </tr>\n",
       "  </tbody>\n",
       "</table>\n",
       "<p>1806 rows × 3 columns</p>\n",
       "</div>"
      ],
      "text/plain": [
       "     user_id    month  n_messages\n",
       "0       1000  2018-12          11\n",
       "1       1001  2018-08          30\n",
       "2       1001  2018-09          44\n",
       "3       1001  2018-10          53\n",
       "4       1001  2018-11          36\n",
       "...      ...      ...         ...\n",
       "1801    1496  2018-09          21\n",
       "1802    1496  2018-10          18\n",
       "1803    1496  2018-11          13\n",
       "1804    1496  2018-12          11\n",
       "1805    1497  2018-12          50\n",
       "\n",
       "[1806 rows x 3 columns]"
      ]
     },
     "execution_count": 35,
     "metadata": {},
     "output_type": "execute_result"
    }
   ],
   "source": [
    "# Calcula el número de mensajes enviados por cada usuario al mes. Guarda el resultado.\n",
    "messages['month']= messages['message_date'].dt.to_period(\"M\")\n",
    "\n",
    "monthly_messages_per_user=(\n",
    "messages\n",
    "    .groupby([\"user_id\", 'month'])[\"messages_id\"]\n",
    "    .count()\n",
    "    .reset_index()\n",
    "    .rename(columns={'messages_id': 'n_messages'}) \n",
    ")\n",
    "monthly_messages_per_user\n"
   ]
  },
  {
   "cell_type": "code",
   "execution_count": 36,
   "metadata": {},
   "outputs": [
    {
     "data": {
      "text/plain": [
       "<function matplotlib.pyplot.show(close=None, block=None)>"
      ]
     },
     "execution_count": 36,
     "metadata": {},
     "output_type": "execute_result"
    },
    {
     "data": {
      "image/png": "[encoded data removed]",
      "text/plain": [
       "<Figure size 640x480 with 1 Axes>"
      ]
     },
     "metadata": {},
     "output_type": "display_data"
    }
   ],
   "source": [
    "monthly_messages_per_user['n_messages'].plot(title= 'Número de mensajes enviados por cada usuario al mes', kind= 'hist', grid=True)\n",
    "plt.show"
   ]
  },
  {
   "cell_type": "code",
   "execution_count": 37,
   "metadata": {
    "id": "H1AqN2eG0q1H",
    "scrolled": false
   },
   "outputs": [
    {
     "data": {
      "text/html": [
       "<div>\n",
       "<style scoped>\n",
       "    .dataframe tbody tr th:only-of-type {\n",
       "        vertical-align: middle;\n",
       "    }\n",
       "\n",
       "    .dataframe tbody tr th {\n",
       "        vertical-align: top;\n",
       "    }\n",
       "\n",
       "    .dataframe thead th {\n",
       "        text-align: right;\n",
       "    }\n",
       "</style>\n",
       "<table border=\"1\" class=\"dataframe\">\n",
       "  <thead>\n",
       "    <tr style=\"text-align: right;\">\n",
       "      <th></th>\n",
       "      <th>user_id</th>\n",
       "      <th>month</th>\n",
       "      <th>n_gb</th>\n",
       "    </tr>\n",
       "  </thead>\n",
       "  <tbody>\n",
       "    <tr>\n",
       "      <th>0</th>\n",
       "      <td>1000</td>\n",
       "      <td>2018-12</td>\n",
       "      <td>1.856904</td>\n",
       "    </tr>\n",
       "    <tr>\n",
       "      <th>1</th>\n",
       "      <td>1001</td>\n",
       "      <td>2018-08</td>\n",
       "      <td>6.756982</td>\n",
       "    </tr>\n",
       "    <tr>\n",
       "      <th>2</th>\n",
       "      <td>1001</td>\n",
       "      <td>2018-09</td>\n",
       "      <td>13.002754</td>\n",
       "    </tr>\n",
       "    <tr>\n",
       "      <th>3</th>\n",
       "      <td>1001</td>\n",
       "      <td>2018-10</td>\n",
       "      <td>21.807119</td>\n",
       "    </tr>\n",
       "    <tr>\n",
       "      <th>4</th>\n",
       "      <td>1001</td>\n",
       "      <td>2018-11</td>\n",
       "      <td>18.070605</td>\n",
       "    </tr>\n",
       "    <tr>\n",
       "      <th>...</th>\n",
       "      <td>...</td>\n",
       "      <td>...</td>\n",
       "      <td>...</td>\n",
       "    </tr>\n",
       "    <tr>\n",
       "      <th>2272</th>\n",
       "      <td>1498</td>\n",
       "      <td>2018-12</td>\n",
       "      <td>22.595400</td>\n",
       "    </tr>\n",
       "    <tr>\n",
       "      <th>2273</th>\n",
       "      <td>1499</td>\n",
       "      <td>2018-09</td>\n",
       "      <td>12.680430</td>\n",
       "    </tr>\n",
       "    <tr>\n",
       "      <th>2274</th>\n",
       "      <td>1499</td>\n",
       "      <td>2018-10</td>\n",
       "      <td>19.035576</td>\n",
       "    </tr>\n",
       "    <tr>\n",
       "      <th>2275</th>\n",
       "      <td>1499</td>\n",
       "      <td>2018-11</td>\n",
       "      <td>16.419756</td>\n",
       "    </tr>\n",
       "    <tr>\n",
       "      <th>2276</th>\n",
       "      <td>1499</td>\n",
       "      <td>2018-12</td>\n",
       "      <td>21.542197</td>\n",
       "    </tr>\n",
       "  </tbody>\n",
       "</table>\n",
       "<p>2277 rows × 3 columns</p>\n",
       "</div>"
      ],
      "text/plain": [
       "     user_id    month       n_gb\n",
       "0       1000  2018-12   1.856904\n",
       "1       1001  2018-08   6.756982\n",
       "2       1001  2018-09  13.002754\n",
       "3       1001  2018-10  21.807119\n",
       "4       1001  2018-11  18.070605\n",
       "...      ...      ...        ...\n",
       "2272    1498  2018-12  22.595400\n",
       "2273    1499  2018-09  12.680430\n",
       "2274    1499  2018-10  19.035576\n",
       "2275    1499  2018-11  16.419756\n",
       "2276    1499  2018-12  21.542197\n",
       "\n",
       "[2277 rows x 3 columns]"
      ]
     },
     "execution_count": 37,
     "metadata": {},
     "output_type": "execute_result"
    }
   ],
   "source": [
    "# Calcula el volumen del tráfico de Internet usado por cada usuario al mes. Guarda el resultado.\n",
    "internet['month']= internet['session_date'].dt.to_period(\"M\")\n",
    "\n",
    "monthly_traffic_per_user=(\n",
    "internet\n",
    "    .groupby([\"user_id\", 'month'])[\"gb_used\"]\n",
    "    .sum()\n",
    "    .reset_index()\n",
    "    .rename(columns={'gb_used': 'n_gb'})\n",
    ")\n",
    "monthly_traffic_per_user\n"
   ]
  },
  {
   "cell_type": "code",
   "execution_count": 38,
   "metadata": {},
   "outputs": [
    {
     "data": {
      "text/html": [
       "<div>\n",
       "<style scoped>\n",
       "    .dataframe tbody tr th:only-of-type {\n",
       "        vertical-align: middle;\n",
       "    }\n",
       "\n",
       "    .dataframe tbody tr th {\n",
       "        vertical-align: top;\n",
       "    }\n",
       "\n",
       "    .dataframe thead th {\n",
       "        text-align: right;\n",
       "    }\n",
       "</style>\n",
       "<table border=\"1\" class=\"dataframe\">\n",
       "  <thead>\n",
       "    <tr style=\"text-align: right;\">\n",
       "      <th></th>\n",
       "      <th>user_id</th>\n",
       "      <th>month</th>\n",
       "      <th>n_gb</th>\n",
       "    </tr>\n",
       "  </thead>\n",
       "  <tbody>\n",
       "    <tr>\n",
       "      <th>0</th>\n",
       "      <td>1000</td>\n",
       "      <td>2018-12</td>\n",
       "      <td>2.0</td>\n",
       "    </tr>\n",
       "    <tr>\n",
       "      <th>1</th>\n",
       "      <td>1001</td>\n",
       "      <td>2018-08</td>\n",
       "      <td>7.0</td>\n",
       "    </tr>\n",
       "    <tr>\n",
       "      <th>2</th>\n",
       "      <td>1001</td>\n",
       "      <td>2018-09</td>\n",
       "      <td>14.0</td>\n",
       "    </tr>\n",
       "    <tr>\n",
       "      <th>3</th>\n",
       "      <td>1001</td>\n",
       "      <td>2018-10</td>\n",
       "      <td>22.0</td>\n",
       "    </tr>\n",
       "    <tr>\n",
       "      <th>4</th>\n",
       "      <td>1001</td>\n",
       "      <td>2018-11</td>\n",
       "      <td>19.0</td>\n",
       "    </tr>\n",
       "    <tr>\n",
       "      <th>...</th>\n",
       "      <td>...</td>\n",
       "      <td>...</td>\n",
       "      <td>...</td>\n",
       "    </tr>\n",
       "    <tr>\n",
       "      <th>2272</th>\n",
       "      <td>1498</td>\n",
       "      <td>2018-12</td>\n",
       "      <td>23.0</td>\n",
       "    </tr>\n",
       "    <tr>\n",
       "      <th>2273</th>\n",
       "      <td>1499</td>\n",
       "      <td>2018-09</td>\n",
       "      <td>13.0</td>\n",
       "    </tr>\n",
       "    <tr>\n",
       "      <th>2274</th>\n",
       "      <td>1499</td>\n",
       "      <td>2018-10</td>\n",
       "      <td>20.0</td>\n",
       "    </tr>\n",
       "    <tr>\n",
       "      <th>2275</th>\n",
       "      <td>1499</td>\n",
       "      <td>2018-11</td>\n",
       "      <td>17.0</td>\n",
       "    </tr>\n",
       "    <tr>\n",
       "      <th>2276</th>\n",
       "      <td>1499</td>\n",
       "      <td>2018-12</td>\n",
       "      <td>22.0</td>\n",
       "    </tr>\n",
       "  </tbody>\n",
       "</table>\n",
       "<p>2277 rows × 3 columns</p>\n",
       "</div>"
      ],
      "text/plain": [
       "     user_id    month  n_gb\n",
       "0       1000  2018-12   2.0\n",
       "1       1001  2018-08   7.0\n",
       "2       1001  2018-09  14.0\n",
       "3       1001  2018-10  22.0\n",
       "4       1001  2018-11  19.0\n",
       "...      ...      ...   ...\n",
       "2272    1498  2018-12  23.0\n",
       "2273    1499  2018-09  13.0\n",
       "2274    1499  2018-10  20.0\n",
       "2275    1499  2018-11  17.0\n",
       "2276    1499  2018-12  22.0\n",
       "\n",
       "[2277 rows x 3 columns]"
      ]
     },
     "execution_count": 38,
     "metadata": {},
     "output_type": "execute_result"
    }
   ],
   "source": [
    "#redondeando los gb\n",
    "monthly_traffic_per_user['n_gb']= monthly_traffic_per_user['n_gb'].apply(np.ceil) \n",
    "monthly_traffic_per_user"
   ]
  },
  {
   "cell_type": "code",
   "execution_count": 39,
   "metadata": {},
   "outputs": [
    {
     "data": {
      "text/plain": [
       "<function matplotlib.pyplot.show(close=None, block=None)>"
      ]
     },
     "execution_count": 39,
     "metadata": {},
     "output_type": "execute_result"
    },
    {
     "data": {
      "image/png": "[encoded data removed]",
      "text/plain": [
       "<Figure size 640x480 with 1 Axes>"
      ]
     },
     "metadata": {},
     "output_type": "display_data"
    }
   ],
   "source": [
    "monthly_traffic_per_user['n_gb'].plot(title= 'Volumen del tráfico de Internet usado por cada usuario al mes', kind= 'hist', grid=True)\n",
    "plt.show"
   ]
  },
  {
   "cell_type": "code",
   "execution_count": 40,
   "metadata": {},
   "outputs": [
    {
     "data": {
      "text/html": [
       "<div>\n",
       "<style scoped>\n",
       "    .dataframe tbody tr th:only-of-type {\n",
       "        vertical-align: middle;\n",
       "    }\n",
       "\n",
       "    .dataframe tbody tr th {\n",
       "        vertical-align: top;\n",
       "    }\n",
       "\n",
       "    .dataframe thead th {\n",
       "        text-align: right;\n",
       "    }\n",
       "</style>\n",
       "<table border=\"1\" class=\"dataframe\">\n",
       "  <thead>\n",
       "    <tr style=\"text-align: right;\">\n",
       "      <th></th>\n",
       "      <th>user_id</th>\n",
       "      <th>month</th>\n",
       "      <th>n_calls</th>\n",
       "      <th>n_minutes</th>\n",
       "      <th>n_messages</th>\n",
       "      <th>n_gb</th>\n",
       "      <th>plan</th>\n",
       "      <th>city</th>\n",
       "    </tr>\n",
       "  </thead>\n",
       "  <tbody>\n",
       "    <tr>\n",
       "      <th>0</th>\n",
       "      <td>1000</td>\n",
       "      <td>2018-12</td>\n",
       "      <td>16.0</td>\n",
       "      <td>124.0</td>\n",
       "      <td>11.0</td>\n",
       "      <td>2.0</td>\n",
       "      <td>ultimate</td>\n",
       "      <td>Atlanta-Sandy Springs-Roswell, GA MSA</td>\n",
       "    </tr>\n",
       "    <tr>\n",
       "      <th>1</th>\n",
       "      <td>1001</td>\n",
       "      <td>2018-08</td>\n",
       "      <td>27.0</td>\n",
       "      <td>182.0</td>\n",
       "      <td>30.0</td>\n",
       "      <td>7.0</td>\n",
       "      <td>surf</td>\n",
       "      <td>Seattle-Tacoma-Bellevue, WA MSA</td>\n",
       "    </tr>\n",
       "    <tr>\n",
       "      <th>2</th>\n",
       "      <td>1001</td>\n",
       "      <td>2018-09</td>\n",
       "      <td>49.0</td>\n",
       "      <td>315.0</td>\n",
       "      <td>44.0</td>\n",
       "      <td>14.0</td>\n",
       "      <td>surf</td>\n",
       "      <td>Seattle-Tacoma-Bellevue, WA MSA</td>\n",
       "    </tr>\n",
       "    <tr>\n",
       "      <th>3</th>\n",
       "      <td>1001</td>\n",
       "      <td>2018-10</td>\n",
       "      <td>65.0</td>\n",
       "      <td>393.0</td>\n",
       "      <td>53.0</td>\n",
       "      <td>22.0</td>\n",
       "      <td>surf</td>\n",
       "      <td>Seattle-Tacoma-Bellevue, WA MSA</td>\n",
       "    </tr>\n",
       "    <tr>\n",
       "      <th>4</th>\n",
       "      <td>1001</td>\n",
       "      <td>2018-11</td>\n",
       "      <td>64.0</td>\n",
       "      <td>426.0</td>\n",
       "      <td>36.0</td>\n",
       "      <td>19.0</td>\n",
       "      <td>surf</td>\n",
       "      <td>Seattle-Tacoma-Bellevue, WA MSA</td>\n",
       "    </tr>\n",
       "    <tr>\n",
       "      <th>...</th>\n",
       "      <td>...</td>\n",
       "      <td>...</td>\n",
       "      <td>...</td>\n",
       "      <td>...</td>\n",
       "      <td>...</td>\n",
       "      <td>...</td>\n",
       "      <td>...</td>\n",
       "      <td>...</td>\n",
       "    </tr>\n",
       "    <tr>\n",
       "      <th>2288</th>\n",
       "      <td>1498</td>\n",
       "      <td>2018-12</td>\n",
       "      <td>39.0</td>\n",
       "      <td>339.0</td>\n",
       "      <td>0.0</td>\n",
       "      <td>23.0</td>\n",
       "      <td>surf</td>\n",
       "      <td>New York-Newark-Jersey City, NY-NJ-PA MSA</td>\n",
       "    </tr>\n",
       "    <tr>\n",
       "      <th>2289</th>\n",
       "      <td>1499</td>\n",
       "      <td>2018-09</td>\n",
       "      <td>41.0</td>\n",
       "      <td>346.0</td>\n",
       "      <td>0.0</td>\n",
       "      <td>13.0</td>\n",
       "      <td>surf</td>\n",
       "      <td>Orlando-Kissimmee-Sanford, FL MSA</td>\n",
       "    </tr>\n",
       "    <tr>\n",
       "      <th>2290</th>\n",
       "      <td>1499</td>\n",
       "      <td>2018-10</td>\n",
       "      <td>53.0</td>\n",
       "      <td>385.0</td>\n",
       "      <td>0.0</td>\n",
       "      <td>20.0</td>\n",
       "      <td>surf</td>\n",
       "      <td>Orlando-Kissimmee-Sanford, FL MSA</td>\n",
       "    </tr>\n",
       "    <tr>\n",
       "      <th>2291</th>\n",
       "      <td>1499</td>\n",
       "      <td>2018-11</td>\n",
       "      <td>45.0</td>\n",
       "      <td>308.0</td>\n",
       "      <td>0.0</td>\n",
       "      <td>17.0</td>\n",
       "      <td>surf</td>\n",
       "      <td>Orlando-Kissimmee-Sanford, FL MSA</td>\n",
       "    </tr>\n",
       "    <tr>\n",
       "      <th>2292</th>\n",
       "      <td>1499</td>\n",
       "      <td>2018-12</td>\n",
       "      <td>65.0</td>\n",
       "      <td>496.0</td>\n",
       "      <td>0.0</td>\n",
       "      <td>22.0</td>\n",
       "      <td>surf</td>\n",
       "      <td>Orlando-Kissimmee-Sanford, FL MSA</td>\n",
       "    </tr>\n",
       "  </tbody>\n",
       "</table>\n",
       "<p>2293 rows × 8 columns</p>\n",
       "</div>"
      ],
      "text/plain": [
       "     user_id    month  n_calls  n_minutes  n_messages  n_gb      plan  \\\n",
       "0       1000  2018-12     16.0      124.0        11.0   2.0  ultimate   \n",
       "1       1001  2018-08     27.0      182.0        30.0   7.0      surf   \n",
       "2       1001  2018-09     49.0      315.0        44.0  14.0      surf   \n",
       "3       1001  2018-10     65.0      393.0        53.0  22.0      surf   \n",
       "4       1001  2018-11     64.0      426.0        36.0  19.0      surf   \n",
       "...      ...      ...      ...        ...         ...   ...       ...   \n",
       "2288    1498  2018-12     39.0      339.0         0.0  23.0      surf   \n",
       "2289    1499  2018-09     41.0      346.0         0.0  13.0      surf   \n",
       "2290    1499  2018-10     53.0      385.0         0.0  20.0      surf   \n",
       "2291    1499  2018-11     45.0      308.0         0.0  17.0      surf   \n",
       "2292    1499  2018-12     65.0      496.0         0.0  22.0      surf   \n",
       "\n",
       "                                           city  \n",
       "0         Atlanta-Sandy Springs-Roswell, GA MSA  \n",
       "1               Seattle-Tacoma-Bellevue, WA MSA  \n",
       "2               Seattle-Tacoma-Bellevue, WA MSA  \n",
       "3               Seattle-Tacoma-Bellevue, WA MSA  \n",
       "4               Seattle-Tacoma-Bellevue, WA MSA  \n",
       "...                                         ...  \n",
       "2288  New York-Newark-Jersey City, NY-NJ-PA MSA  \n",
       "2289          Orlando-Kissimmee-Sanford, FL MSA  \n",
       "2290          Orlando-Kissimmee-Sanford, FL MSA  \n",
       "2291          Orlando-Kissimmee-Sanford, FL MSA  \n",
       "2292          Orlando-Kissimmee-Sanford, FL MSA  \n",
       "\n",
       "[2293 rows x 8 columns]"
      ]
     },
     "execution_count": 40,
     "metadata": {},
     "output_type": "execute_result"
    }
   ],
   "source": [
    "# Fusiona los datos de llamadas, minutos, mensajes e Internet con base en user_id y month\n",
    "merge= (monthly_calls_per_user\n",
    " .merge(monthly_duration_per_user, on= [\"user_id\", \"month\"], how= \"outer\")\n",
    " .merge(monthly_messages_per_user, on= [\"user_id\", \"month\"], how= \"outer\")\n",
    " .merge(monthly_traffic_per_user, on= [\"user_id\", \"month\"], how= \"outer\")\n",
    " .fillna(0)\n",
    " .merge(users[[\"user_id\", \"plan\", \"city\"]], on= \"user_id\")\n",
    ")\n",
    "merge"
   ]
  },
  {
   "cell_type": "code",
   "execution_count": 41,
   "metadata": {
    "id": "0dNOXHag0q1H"
   },
   "outputs": [
    {
     "data": {
      "text/html": [
       "<div>\n",
       "<style scoped>\n",
       "    .dataframe tbody tr th:only-of-type {\n",
       "        vertical-align: middle;\n",
       "    }\n",
       "\n",
       "    .dataframe tbody tr th {\n",
       "        vertical-align: top;\n",
       "    }\n",
       "\n",
       "    .dataframe thead th {\n",
       "        text-align: right;\n",
       "    }\n",
       "</style>\n",
       "<table border=\"1\" class=\"dataframe\">\n",
       "  <thead>\n",
       "    <tr style=\"text-align: right;\">\n",
       "      <th></th>\n",
       "      <th>user_id</th>\n",
       "      <th>month</th>\n",
       "      <th>n_calls</th>\n",
       "      <th>n_minutes</th>\n",
       "      <th>n_messages</th>\n",
       "      <th>n_gb</th>\n",
       "      <th>plan</th>\n",
       "      <th>city</th>\n",
       "      <th>messages_included</th>\n",
       "      <th>minutes_included</th>\n",
       "      <th>usd_monthly_pay</th>\n",
       "      <th>usd_per_gb</th>\n",
       "      <th>usd_per_message</th>\n",
       "      <th>usd_per_minute</th>\n",
       "      <th>gb_per_month_included</th>\n",
       "    </tr>\n",
       "  </thead>\n",
       "  <tbody>\n",
       "    <tr>\n",
       "      <th>0</th>\n",
       "      <td>1000</td>\n",
       "      <td>2018-12</td>\n",
       "      <td>16.0</td>\n",
       "      <td>124.0</td>\n",
       "      <td>11.0</td>\n",
       "      <td>2.0</td>\n",
       "      <td>ultimate</td>\n",
       "      <td>Atlanta-Sandy Springs-Roswell, GA MSA</td>\n",
       "      <td>1000</td>\n",
       "      <td>3000</td>\n",
       "      <td>70</td>\n",
       "      <td>7</td>\n",
       "      <td>0.01</td>\n",
       "      <td>0.01</td>\n",
       "      <td>30</td>\n",
       "    </tr>\n",
       "    <tr>\n",
       "      <th>1</th>\n",
       "      <td>1001</td>\n",
       "      <td>2018-08</td>\n",
       "      <td>27.0</td>\n",
       "      <td>182.0</td>\n",
       "      <td>30.0</td>\n",
       "      <td>7.0</td>\n",
       "      <td>surf</td>\n",
       "      <td>Seattle-Tacoma-Bellevue, WA MSA</td>\n",
       "      <td>50</td>\n",
       "      <td>500</td>\n",
       "      <td>20</td>\n",
       "      <td>10</td>\n",
       "      <td>0.03</td>\n",
       "      <td>0.03</td>\n",
       "      <td>15</td>\n",
       "    </tr>\n",
       "    <tr>\n",
       "      <th>2</th>\n",
       "      <td>1001</td>\n",
       "      <td>2018-09</td>\n",
       "      <td>49.0</td>\n",
       "      <td>315.0</td>\n",
       "      <td>44.0</td>\n",
       "      <td>14.0</td>\n",
       "      <td>surf</td>\n",
       "      <td>Seattle-Tacoma-Bellevue, WA MSA</td>\n",
       "      <td>50</td>\n",
       "      <td>500</td>\n",
       "      <td>20</td>\n",
       "      <td>10</td>\n",
       "      <td>0.03</td>\n",
       "      <td>0.03</td>\n",
       "      <td>15</td>\n",
       "    </tr>\n",
       "    <tr>\n",
       "      <th>3</th>\n",
       "      <td>1001</td>\n",
       "      <td>2018-10</td>\n",
       "      <td>65.0</td>\n",
       "      <td>393.0</td>\n",
       "      <td>53.0</td>\n",
       "      <td>22.0</td>\n",
       "      <td>surf</td>\n",
       "      <td>Seattle-Tacoma-Bellevue, WA MSA</td>\n",
       "      <td>50</td>\n",
       "      <td>500</td>\n",
       "      <td>20</td>\n",
       "      <td>10</td>\n",
       "      <td>0.03</td>\n",
       "      <td>0.03</td>\n",
       "      <td>15</td>\n",
       "    </tr>\n",
       "    <tr>\n",
       "      <th>4</th>\n",
       "      <td>1001</td>\n",
       "      <td>2018-11</td>\n",
       "      <td>64.0</td>\n",
       "      <td>426.0</td>\n",
       "      <td>36.0</td>\n",
       "      <td>19.0</td>\n",
       "      <td>surf</td>\n",
       "      <td>Seattle-Tacoma-Bellevue, WA MSA</td>\n",
       "      <td>50</td>\n",
       "      <td>500</td>\n",
       "      <td>20</td>\n",
       "      <td>10</td>\n",
       "      <td>0.03</td>\n",
       "      <td>0.03</td>\n",
       "      <td>15</td>\n",
       "    </tr>\n",
       "    <tr>\n",
       "      <th>...</th>\n",
       "      <td>...</td>\n",
       "      <td>...</td>\n",
       "      <td>...</td>\n",
       "      <td>...</td>\n",
       "      <td>...</td>\n",
       "      <td>...</td>\n",
       "      <td>...</td>\n",
       "      <td>...</td>\n",
       "      <td>...</td>\n",
       "      <td>...</td>\n",
       "      <td>...</td>\n",
       "      <td>...</td>\n",
       "      <td>...</td>\n",
       "      <td>...</td>\n",
       "      <td>...</td>\n",
       "    </tr>\n",
       "    <tr>\n",
       "      <th>2288</th>\n",
       "      <td>1498</td>\n",
       "      <td>2018-12</td>\n",
       "      <td>39.0</td>\n",
       "      <td>339.0</td>\n",
       "      <td>0.0</td>\n",
       "      <td>23.0</td>\n",
       "      <td>surf</td>\n",
       "      <td>New York-Newark-Jersey City, NY-NJ-PA MSA</td>\n",
       "      <td>50</td>\n",
       "      <td>500</td>\n",
       "      <td>20</td>\n",
       "      <td>10</td>\n",
       "      <td>0.03</td>\n",
       "      <td>0.03</td>\n",
       "      <td>15</td>\n",
       "    </tr>\n",
       "    <tr>\n",
       "      <th>2289</th>\n",
       "      <td>1499</td>\n",
       "      <td>2018-09</td>\n",
       "      <td>41.0</td>\n",
       "      <td>346.0</td>\n",
       "      <td>0.0</td>\n",
       "      <td>13.0</td>\n",
       "      <td>surf</td>\n",
       "      <td>Orlando-Kissimmee-Sanford, FL MSA</td>\n",
       "      <td>50</td>\n",
       "      <td>500</td>\n",
       "      <td>20</td>\n",
       "      <td>10</td>\n",
       "      <td>0.03</td>\n",
       "      <td>0.03</td>\n",
       "      <td>15</td>\n",
       "    </tr>\n",
       "    <tr>\n",
       "      <th>2290</th>\n",
       "      <td>1499</td>\n",
       "      <td>2018-10</td>\n",
       "      <td>53.0</td>\n",
       "      <td>385.0</td>\n",
       "      <td>0.0</td>\n",
       "      <td>20.0</td>\n",
       "      <td>surf</td>\n",
       "      <td>Orlando-Kissimmee-Sanford, FL MSA</td>\n",
       "      <td>50</td>\n",
       "      <td>500</td>\n",
       "      <td>20</td>\n",
       "      <td>10</td>\n",
       "      <td>0.03</td>\n",
       "      <td>0.03</td>\n",
       "      <td>15</td>\n",
       "    </tr>\n",
       "    <tr>\n",
       "      <th>2291</th>\n",
       "      <td>1499</td>\n",
       "      <td>2018-11</td>\n",
       "      <td>45.0</td>\n",
       "      <td>308.0</td>\n",
       "      <td>0.0</td>\n",
       "      <td>17.0</td>\n",
       "      <td>surf</td>\n",
       "      <td>Orlando-Kissimmee-Sanford, FL MSA</td>\n",
       "      <td>50</td>\n",
       "      <td>500</td>\n",
       "      <td>20</td>\n",
       "      <td>10</td>\n",
       "      <td>0.03</td>\n",
       "      <td>0.03</td>\n",
       "      <td>15</td>\n",
       "    </tr>\n",
       "    <tr>\n",
       "      <th>2292</th>\n",
       "      <td>1499</td>\n",
       "      <td>2018-12</td>\n",
       "      <td>65.0</td>\n",
       "      <td>496.0</td>\n",
       "      <td>0.0</td>\n",
       "      <td>22.0</td>\n",
       "      <td>surf</td>\n",
       "      <td>Orlando-Kissimmee-Sanford, FL MSA</td>\n",
       "      <td>50</td>\n",
       "      <td>500</td>\n",
       "      <td>20</td>\n",
       "      <td>10</td>\n",
       "      <td>0.03</td>\n",
       "      <td>0.03</td>\n",
       "      <td>15</td>\n",
       "    </tr>\n",
       "  </tbody>\n",
       "</table>\n",
       "<p>2293 rows × 15 columns</p>\n",
       "</div>"
      ],
      "text/plain": [
       "     user_id    month  n_calls  n_minutes  n_messages  n_gb      plan  \\\n",
       "0       1000  2018-12     16.0      124.0        11.0   2.0  ultimate   \n",
       "1       1001  2018-08     27.0      182.0        30.0   7.0      surf   \n",
       "2       1001  2018-09     49.0      315.0        44.0  14.0      surf   \n",
       "3       1001  2018-10     65.0      393.0        53.0  22.0      surf   \n",
       "4       1001  2018-11     64.0      426.0        36.0  19.0      surf   \n",
       "...      ...      ...      ...        ...         ...   ...       ...   \n",
       "2288    1498  2018-12     39.0      339.0         0.0  23.0      surf   \n",
       "2289    1499  2018-09     41.0      346.0         0.0  13.0      surf   \n",
       "2290    1499  2018-10     53.0      385.0         0.0  20.0      surf   \n",
       "2291    1499  2018-11     45.0      308.0         0.0  17.0      surf   \n",
       "2292    1499  2018-12     65.0      496.0         0.0  22.0      surf   \n",
       "\n",
       "                                           city  messages_included  \\\n",
       "0         Atlanta-Sandy Springs-Roswell, GA MSA               1000   \n",
       "1               Seattle-Tacoma-Bellevue, WA MSA                 50   \n",
       "2               Seattle-Tacoma-Bellevue, WA MSA                 50   \n",
       "3               Seattle-Tacoma-Bellevue, WA MSA                 50   \n",
       "4               Seattle-Tacoma-Bellevue, WA MSA                 50   \n",
       "...                                         ...                ...   \n",
       "2288  New York-Newark-Jersey City, NY-NJ-PA MSA                 50   \n",
       "2289          Orlando-Kissimmee-Sanford, FL MSA                 50   \n",
       "2290          Orlando-Kissimmee-Sanford, FL MSA                 50   \n",
       "2291          Orlando-Kissimmee-Sanford, FL MSA                 50   \n",
       "2292          Orlando-Kissimmee-Sanford, FL MSA                 50   \n",
       "\n",
       "      minutes_included  usd_monthly_pay  usd_per_gb  usd_per_message  \\\n",
       "0                 3000               70           7             0.01   \n",
       "1                  500               20          10             0.03   \n",
       "2                  500               20          10             0.03   \n",
       "3                  500               20          10             0.03   \n",
       "4                  500               20          10             0.03   \n",
       "...                ...              ...         ...              ...   \n",
       "2288               500               20          10             0.03   \n",
       "2289               500               20          10             0.03   \n",
       "2290               500               20          10             0.03   \n",
       "2291               500               20          10             0.03   \n",
       "2292               500               20          10             0.03   \n",
       "\n",
       "      usd_per_minute  gb_per_month_included  \n",
       "0               0.01                     30  \n",
       "1               0.03                     15  \n",
       "2               0.03                     15  \n",
       "3               0.03                     15  \n",
       "4               0.03                     15  \n",
       "...              ...                    ...  \n",
       "2288            0.03                     15  \n",
       "2289            0.03                     15  \n",
       "2290            0.03                     15  \n",
       "2291            0.03                     15  \n",
       "2292            0.03                     15  \n",
       "\n",
       "[2293 rows x 15 columns]"
      ]
     },
     "execution_count": 41,
     "metadata": {},
     "output_type": "execute_result"
    }
   ],
   "source": [
    "# Añade la información de la tarifa\n",
    "table= merge.merge(plans, on= \"plan\")\n",
    "table"
   ]
  },
  {
   "cell_type": "code",
   "execution_count": 42,
   "metadata": {
    "id": "5FGCf_c60q1I"
   },
   "outputs": [
    {
     "data": {
      "text/html": [
       "<div>\n",
       "<style scoped>\n",
       "    .dataframe tbody tr th:only-of-type {\n",
       "        vertical-align: middle;\n",
       "    }\n",
       "\n",
       "    .dataframe tbody tr th {\n",
       "        vertical-align: top;\n",
       "    }\n",
       "\n",
       "    .dataframe thead th {\n",
       "        text-align: right;\n",
       "    }\n",
       "</style>\n",
       "<table border=\"1\" class=\"dataframe\">\n",
       "  <thead>\n",
       "    <tr style=\"text-align: right;\">\n",
       "      <th></th>\n",
       "      <th>user_id</th>\n",
       "      <th>month</th>\n",
       "      <th>n_calls</th>\n",
       "      <th>n_minutes</th>\n",
       "      <th>n_messages</th>\n",
       "      <th>n_gb</th>\n",
       "      <th>plan</th>\n",
       "      <th>city</th>\n",
       "      <th>messages_included</th>\n",
       "      <th>minutes_included</th>\n",
       "      <th>usd_monthly_pay</th>\n",
       "      <th>usd_per_gb</th>\n",
       "      <th>usd_per_message</th>\n",
       "      <th>usd_per_minute</th>\n",
       "      <th>gb_per_month_included</th>\n",
       "      <th>llamadas_dif</th>\n",
       "      <th>messages_dif</th>\n",
       "      <th>gb_dif</th>\n",
       "    </tr>\n",
       "  </thead>\n",
       "  <tbody>\n",
       "    <tr>\n",
       "      <th>1562</th>\n",
       "      <td>1338</td>\n",
       "      <td>2018-10</td>\n",
       "      <td>86.0</td>\n",
       "      <td>645.0</td>\n",
       "      <td>0.0</td>\n",
       "      <td>16.0</td>\n",
       "      <td>surf</td>\n",
       "      <td>Minneapolis-St. Paul-Bloomington, MN-WI MSA</td>\n",
       "      <td>50</td>\n",
       "      <td>500</td>\n",
       "      <td>20</td>\n",
       "      <td>10</td>\n",
       "      <td>0.03</td>\n",
       "      <td>0.03</td>\n",
       "      <td>15</td>\n",
       "      <td>145.0</td>\n",
       "      <td>0.0</td>\n",
       "      <td>1.0</td>\n",
       "    </tr>\n",
       "    <tr>\n",
       "      <th>678</th>\n",
       "      <td>1142</td>\n",
       "      <td>2018-11</td>\n",
       "      <td>54.0</td>\n",
       "      <td>433.0</td>\n",
       "      <td>47.0</td>\n",
       "      <td>19.0</td>\n",
       "      <td>surf</td>\n",
       "      <td>New Orleans-Metairie, LA MSA</td>\n",
       "      <td>50</td>\n",
       "      <td>500</td>\n",
       "      <td>20</td>\n",
       "      <td>10</td>\n",
       "      <td>0.03</td>\n",
       "      <td>0.03</td>\n",
       "      <td>15</td>\n",
       "      <td>0.0</td>\n",
       "      <td>0.0</td>\n",
       "      <td>4.0</td>\n",
       "    </tr>\n",
       "    <tr>\n",
       "      <th>1517</th>\n",
       "      <td>1329</td>\n",
       "      <td>2018-12</td>\n",
       "      <td>191.0</td>\n",
       "      <td>1369.0</td>\n",
       "      <td>97.0</td>\n",
       "      <td>26.0</td>\n",
       "      <td>ultimate</td>\n",
       "      <td>Charleston-North Charleston, SC MSA</td>\n",
       "      <td>1000</td>\n",
       "      <td>3000</td>\n",
       "      <td>70</td>\n",
       "      <td>7</td>\n",
       "      <td>0.01</td>\n",
       "      <td>0.01</td>\n",
       "      <td>30</td>\n",
       "      <td>0.0</td>\n",
       "      <td>0.0</td>\n",
       "      <td>0.0</td>\n",
       "    </tr>\n",
       "    <tr>\n",
       "      <th>981</th>\n",
       "      <td>1203</td>\n",
       "      <td>2018-10</td>\n",
       "      <td>89.0</td>\n",
       "      <td>670.0</td>\n",
       "      <td>51.0</td>\n",
       "      <td>17.0</td>\n",
       "      <td>surf</td>\n",
       "      <td>Boston-Cambridge-Newton, MA-NH MSA</td>\n",
       "      <td>50</td>\n",
       "      <td>500</td>\n",
       "      <td>20</td>\n",
       "      <td>10</td>\n",
       "      <td>0.03</td>\n",
       "      <td>0.03</td>\n",
       "      <td>15</td>\n",
       "      <td>170.0</td>\n",
       "      <td>1.0</td>\n",
       "      <td>2.0</td>\n",
       "    </tr>\n",
       "    <tr>\n",
       "      <th>1377</th>\n",
       "      <td>1296</td>\n",
       "      <td>2018-12</td>\n",
       "      <td>54.0</td>\n",
       "      <td>369.0</td>\n",
       "      <td>24.0</td>\n",
       "      <td>15.0</td>\n",
       "      <td>ultimate</td>\n",
       "      <td>Miami-Fort Lauderdale-West Palm Beach, FL MSA</td>\n",
       "      <td>1000</td>\n",
       "      <td>3000</td>\n",
       "      <td>70</td>\n",
       "      <td>7</td>\n",
       "      <td>0.01</td>\n",
       "      <td>0.01</td>\n",
       "      <td>30</td>\n",
       "      <td>0.0</td>\n",
       "      <td>0.0</td>\n",
       "      <td>0.0</td>\n",
       "    </tr>\n",
       "    <tr>\n",
       "      <th>943</th>\n",
       "      <td>1196</td>\n",
       "      <td>2018-05</td>\n",
       "      <td>66.0</td>\n",
       "      <td>431.0</td>\n",
       "      <td>30.0</td>\n",
       "      <td>23.0</td>\n",
       "      <td>ultimate</td>\n",
       "      <td>Los Angeles-Long Beach-Anaheim, CA MSA</td>\n",
       "      <td>1000</td>\n",
       "      <td>3000</td>\n",
       "      <td>70</td>\n",
       "      <td>7</td>\n",
       "      <td>0.01</td>\n",
       "      <td>0.01</td>\n",
       "      <td>30</td>\n",
       "      <td>0.0</td>\n",
       "      <td>0.0</td>\n",
       "      <td>0.0</td>\n",
       "    </tr>\n",
       "    <tr>\n",
       "      <th>1877</th>\n",
       "      <td>1403</td>\n",
       "      <td>2018-05</td>\n",
       "      <td>29.0</td>\n",
       "      <td>240.0</td>\n",
       "      <td>0.0</td>\n",
       "      <td>28.0</td>\n",
       "      <td>ultimate</td>\n",
       "      <td>Washington-Arlington-Alexandria, DC-VA-MD-WV MSA</td>\n",
       "      <td>1000</td>\n",
       "      <td>3000</td>\n",
       "      <td>70</td>\n",
       "      <td>7</td>\n",
       "      <td>0.01</td>\n",
       "      <td>0.01</td>\n",
       "      <td>30</td>\n",
       "      <td>0.0</td>\n",
       "      <td>0.0</td>\n",
       "      <td>0.0</td>\n",
       "    </tr>\n",
       "    <tr>\n",
       "      <th>1292</th>\n",
       "      <td>1274</td>\n",
       "      <td>2018-12</td>\n",
       "      <td>45.0</td>\n",
       "      <td>357.0</td>\n",
       "      <td>17.0</td>\n",
       "      <td>17.0</td>\n",
       "      <td>ultimate</td>\n",
       "      <td>Philadelphia-Camden-Wilmington, PA-NJ-DE-MD MSA</td>\n",
       "      <td>1000</td>\n",
       "      <td>3000</td>\n",
       "      <td>70</td>\n",
       "      <td>7</td>\n",
       "      <td>0.01</td>\n",
       "      <td>0.01</td>\n",
       "      <td>30</td>\n",
       "      <td>0.0</td>\n",
       "      <td>0.0</td>\n",
       "      <td>0.0</td>\n",
       "    </tr>\n",
       "    <tr>\n",
       "      <th>2285</th>\n",
       "      <td>1498</td>\n",
       "      <td>2018-09</td>\n",
       "      <td>45.0</td>\n",
       "      <td>363.0</td>\n",
       "      <td>0.0</td>\n",
       "      <td>23.0</td>\n",
       "      <td>surf</td>\n",
       "      <td>New York-Newark-Jersey City, NY-NJ-PA MSA</td>\n",
       "      <td>50</td>\n",
       "      <td>500</td>\n",
       "      <td>20</td>\n",
       "      <td>10</td>\n",
       "      <td>0.03</td>\n",
       "      <td>0.03</td>\n",
       "      <td>15</td>\n",
       "      <td>0.0</td>\n",
       "      <td>0.0</td>\n",
       "      <td>8.0</td>\n",
       "    </tr>\n",
       "    <tr>\n",
       "      <th>625</th>\n",
       "      <td>1132</td>\n",
       "      <td>2018-06</td>\n",
       "      <td>93.0</td>\n",
       "      <td>746.0</td>\n",
       "      <td>143.0</td>\n",
       "      <td>26.0</td>\n",
       "      <td>ultimate</td>\n",
       "      <td>San Francisco-Oakland-Berkeley, CA MSA</td>\n",
       "      <td>1000</td>\n",
       "      <td>3000</td>\n",
       "      <td>70</td>\n",
       "      <td>7</td>\n",
       "      <td>0.01</td>\n",
       "      <td>0.01</td>\n",
       "      <td>30</td>\n",
       "      <td>0.0</td>\n",
       "      <td>0.0</td>\n",
       "      <td>0.0</td>\n",
       "    </tr>\n",
       "  </tbody>\n",
       "</table>\n",
       "</div>"
      ],
      "text/plain": [
       "     user_id    month  n_calls  n_minutes  n_messages  n_gb      plan  \\\n",
       "1562    1338  2018-10     86.0      645.0         0.0  16.0      surf   \n",
       "678     1142  2018-11     54.0      433.0        47.0  19.0      surf   \n",
       "1517    1329  2018-12    191.0     1369.0        97.0  26.0  ultimate   \n",
       "981     1203  2018-10     89.0      670.0        51.0  17.0      surf   \n",
       "1377    1296  2018-12     54.0      369.0        24.0  15.0  ultimate   \n",
       "943     1196  2018-05     66.0      431.0        30.0  23.0  ultimate   \n",
       "1877    1403  2018-05     29.0      240.0         0.0  28.0  ultimate   \n",
       "1292    1274  2018-12     45.0      357.0        17.0  17.0  ultimate   \n",
       "2285    1498  2018-09     45.0      363.0         0.0  23.0      surf   \n",
       "625     1132  2018-06     93.0      746.0       143.0  26.0  ultimate   \n",
       "\n",
       "                                                  city  messages_included  \\\n",
       "1562       Minneapolis-St. Paul-Bloomington, MN-WI MSA                 50   \n",
       "678                       New Orleans-Metairie, LA MSA                 50   \n",
       "1517               Charleston-North Charleston, SC MSA               1000   \n",
       "981                 Boston-Cambridge-Newton, MA-NH MSA                 50   \n",
       "1377     Miami-Fort Lauderdale-West Palm Beach, FL MSA               1000   \n",
       "943             Los Angeles-Long Beach-Anaheim, CA MSA               1000   \n",
       "1877  Washington-Arlington-Alexandria, DC-VA-MD-WV MSA               1000   \n",
       "1292   Philadelphia-Camden-Wilmington, PA-NJ-DE-MD MSA               1000   \n",
       "2285         New York-Newark-Jersey City, NY-NJ-PA MSA                 50   \n",
       "625             San Francisco-Oakland-Berkeley, CA MSA               1000   \n",
       "\n",
       "      minutes_included  usd_monthly_pay  usd_per_gb  usd_per_message  \\\n",
       "1562               500               20          10             0.03   \n",
       "678                500               20          10             0.03   \n",
       "1517              3000               70           7             0.01   \n",
       "981                500               20          10             0.03   \n",
       "1377              3000               70           7             0.01   \n",
       "943               3000               70           7             0.01   \n",
       "1877              3000               70           7             0.01   \n",
       "1292              3000               70           7             0.01   \n",
       "2285               500               20          10             0.03   \n",
       "625               3000               70           7             0.01   \n",
       "\n",
       "      usd_per_minute  gb_per_month_included  llamadas_dif  messages_dif  \\\n",
       "1562            0.03                     15         145.0           0.0   \n",
       "678             0.03                     15           0.0           0.0   \n",
       "1517            0.01                     30           0.0           0.0   \n",
       "981             0.03                     15         170.0           1.0   \n",
       "1377            0.01                     30           0.0           0.0   \n",
       "943             0.01                     30           0.0           0.0   \n",
       "1877            0.01                     30           0.0           0.0   \n",
       "1292            0.01                     30           0.0           0.0   \n",
       "2285            0.03                     15           0.0           0.0   \n",
       "625             0.01                     30           0.0           0.0   \n",
       "\n",
       "      gb_dif  \n",
       "1562     1.0  \n",
       "678      4.0  \n",
       "1517     0.0  \n",
       "981      2.0  \n",
       "1377     0.0  \n",
       "943      0.0  \n",
       "1877     0.0  \n",
       "1292     0.0  \n",
       "2285     8.0  \n",
       "625      0.0  "
      ]
     },
     "execution_count": 42,
     "metadata": {},
     "output_type": "execute_result"
    }
   ],
   "source": [
    "# Calcula el ingreso mensual para cada usuario\n",
    "table[\"llamadas_dif\"]= table[\"n_minutes\"] - table[\"minutes_included\"]\n",
    "table[\"messages_dif\"]= table[\"n_messages\"] - table[\"messages_included\"] \n",
    "table[\"gb_dif\"]= table[\"n_gb\"] - table[\"gb_per_month_included\"]\n",
    "\n",
    "table[\"llamadas_dif\"]= table[\"llamadas_dif\"].where(table[\"llamadas_dif\"] > 0, 0)\n",
    "table[\"messages_dif\"]= table[\"messages_dif\"].where(table[\"messages_dif\"] > 0, 0)\n",
    "table[\"gb_dif\"]= table[\"gb_dif\"].where(table[\"gb_dif\"] > 0, 0)\n",
    "\n",
    "table.sample(10, random_state=1095)"
   ]
  },
  {
   "cell_type": "code",
   "execution_count": 43,
   "metadata": {},
   "outputs": [
    {
     "data": {
      "text/plain": [
       "Index(['user_id', 'month', 'n_calls', 'n_minutes', 'n_messages', 'n_gb',\n",
       "       'plan', 'city', 'messages_included', 'minutes_included',\n",
       "       'usd_monthly_pay', 'usd_per_gb', 'usd_per_message', 'usd_per_minute',\n",
       "       'gb_per_month_included', 'llamadas_dif', 'messages_dif', 'gb_dif'],\n",
       "      dtype='object')"
      ]
     },
     "execution_count": 43,
     "metadata": {},
     "output_type": "execute_result"
    }
   ],
   "source": [
    "table.columns"
   ]
  },
  {
   "cell_type": "code",
   "execution_count": 44,
   "metadata": {},
   "outputs": [
    {
     "name": "stdout",
     "output_type": "stream",
     "text": [
      "Ingreso mensual para cada usuario:\n"
     ]
    },
    {
     "data": {
      "text/plain": [
       "1562     34.35\n",
       "678      60.00\n",
       "1517     70.00\n",
       "981      45.13\n",
       "1377     70.00\n",
       "943      70.00\n",
       "1877     70.00\n",
       "1292     70.00\n",
       "2285    100.00\n",
       "625      70.00\n",
       "Name: monthly_income, dtype: float64"
      ]
     },
     "execution_count": 44,
     "metadata": {},
     "output_type": "execute_result"
    }
   ],
   "source": [
    "# Ingreso mensual para cada usuario:\n",
    "table[\"monthly_income\"] = table['usd_monthly_pay'] + table['usd_per_gb'] * table['gb_dif'] + table['usd_per_message'] * table['messages_dif'] + table['usd_per_minute'] * table['llamadas_dif']\n",
    "print(\"Ingreso mensual para cada usuario:\")\n",
    "table[\"monthly_income\"].sample(10, random_state=1095)"
   ]
  },
  {
   "cell_type": "code",
   "execution_count": 45,
   "metadata": {},
   "outputs": [
    {
     "name": "stdout",
     "output_type": "stream",
     "text": [
      "Ingreso total: 147557.18\n"
     ]
    }
   ],
   "source": [
    "print(\"Ingreso total:\", table[\"monthly_income\"].sum())"
   ]
  },
  {
   "cell_type": "markdown",
   "metadata": {
    "id": "-jtyHzJb0q1I"
   },
   "source": [
    "## Estudia el comportamiento de usuario"
   ]
  },
  {
   "cell_type": "markdown",
   "metadata": {
    "id": "vtW4CJEe0q1J"
   },
   "source": [
    "### Llamadas"
   ]
  },
  {
   "cell_type": "code",
   "execution_count": 46,
   "metadata": {
    "id": "Jf5v5--k0q1J",
    "scrolled": false
   },
   "outputs": [
    {
     "data": {
      "text/html": [
       "<div>\n",
       "<style scoped>\n",
       "    .dataframe tbody tr th:only-of-type {\n",
       "        vertical-align: middle;\n",
       "    }\n",
       "\n",
       "    .dataframe tbody tr th {\n",
       "        vertical-align: top;\n",
       "    }\n",
       "\n",
       "    .dataframe thead th {\n",
       "        text-align: right;\n",
       "    }\n",
       "</style>\n",
       "<table border=\"1\" class=\"dataframe\">\n",
       "  <thead>\n",
       "    <tr style=\"text-align: right;\">\n",
       "      <th>plan</th>\n",
       "      <th>surf</th>\n",
       "      <th>ultimate</th>\n",
       "    </tr>\n",
       "    <tr>\n",
       "      <th>month</th>\n",
       "      <th></th>\n",
       "      <th></th>\n",
       "    </tr>\n",
       "  </thead>\n",
       "  <tbody>\n",
       "    <tr>\n",
       "      <th>2018-01</th>\n",
       "      <td>203.000000</td>\n",
       "      <td>193.500000</td>\n",
       "    </tr>\n",
       "    <tr>\n",
       "      <th>2018-02</th>\n",
       "      <td>297.000000</td>\n",
       "      <td>403.142857</td>\n",
       "    </tr>\n",
       "    <tr>\n",
       "      <th>2018-03</th>\n",
       "      <td>330.000000</td>\n",
       "      <td>304.250000</td>\n",
       "    </tr>\n",
       "    <tr>\n",
       "      <th>2018-04</th>\n",
       "      <td>351.540000</td>\n",
       "      <td>336.857143</td>\n",
       "    </tr>\n",
       "    <tr>\n",
       "      <th>2018-05</th>\n",
       "      <td>399.584416</td>\n",
       "      <td>406.241379</td>\n",
       "    </tr>\n",
       "    <tr>\n",
       "      <th>2018-06</th>\n",
       "      <td>431.298969</td>\n",
       "      <td>370.957447</td>\n",
       "    </tr>\n",
       "    <tr>\n",
       "      <th>2018-07</th>\n",
       "      <td>449.983471</td>\n",
       "      <td>427.067797</td>\n",
       "    </tr>\n",
       "    <tr>\n",
       "      <th>2018-08</th>\n",
       "      <td>410.111111</td>\n",
       "      <td>421.436620</td>\n",
       "    </tr>\n",
       "    <tr>\n",
       "      <th>2018-09</th>\n",
       "      <td>414.226804</td>\n",
       "      <td>437.511628</td>\n",
       "    </tr>\n",
       "    <tr>\n",
       "      <th>2018-10</th>\n",
       "      <td>429.729958</td>\n",
       "      <td>450.735849</td>\n",
       "    </tr>\n",
       "    <tr>\n",
       "      <th>2018-11</th>\n",
       "      <td>423.325088</td>\n",
       "      <td>445.196850</td>\n",
       "    </tr>\n",
       "    <tr>\n",
       "      <th>2018-12</th>\n",
       "      <td>473.836478</td>\n",
       "      <td>459.099338</td>\n",
       "    </tr>\n",
       "  </tbody>\n",
       "</table>\n",
       "</div>"
      ],
      "text/plain": [
       "plan           surf    ultimate\n",
       "month                          \n",
       "2018-01  203.000000  193.500000\n",
       "2018-02  297.000000  403.142857\n",
       "2018-03  330.000000  304.250000\n",
       "2018-04  351.540000  336.857143\n",
       "2018-05  399.584416  406.241379\n",
       "2018-06  431.298969  370.957447\n",
       "2018-07  449.983471  427.067797\n",
       "2018-08  410.111111  421.436620\n",
       "2018-09  414.226804  437.511628\n",
       "2018-10  429.729958  450.735849\n",
       "2018-11  423.325088  445.196850\n",
       "2018-12  473.836478  459.099338"
      ]
     },
     "execution_count": 46,
     "metadata": {},
     "output_type": "execute_result"
    }
   ],
   "source": [
    "# Compara la duración promedio de llamadas por cada plan y por cada mes. Traza un gráfico de barras para visualizarla.\n",
    "llamadas_prom_por_plan_month=(\n",
    "table\n",
    "    .groupby(['month', \"plan\"])[\"n_minutes\"]\n",
    "    .mean()  \n",
    "    ).reset_index().pivot(index=\"month\", columns= \"plan\", values= \"n_minutes\")\n",
    "\n",
    "\n",
    "llamadas_prom_por_plan_month\n"
   ]
  },
  {
   "cell_type": "code",
   "execution_count": 47,
   "metadata": {},
   "outputs": [
    {
     "data": {
      "text/plain": [
       "plan\n",
       "surf        384.469691\n",
       "ultimate    387.999742\n",
       "dtype: float64"
      ]
     },
     "execution_count": 47,
     "metadata": {},
     "output_type": "execute_result"
    }
   ],
   "source": [
    "llamadas_prom_por_plan_month.mean()"
   ]
  },
  {
   "cell_type": "code",
   "execution_count": 48,
   "metadata": {},
   "outputs": [
    {
     "data": {
      "text/plain": [
       "<function matplotlib.pyplot.show(close=None, block=None)>"
      ]
     },
     "execution_count": 48,
     "metadata": {},
     "output_type": "execute_result"
    },
    {
     "data": {
      "image/png": "[encoded data removed]",
      "text/plain": [
       "<Figure size 640x480 with 1 Axes>"
      ]
     },
     "metadata": {},
     "output_type": "display_data"
    }
   ],
   "source": [
    "llamadas_prom_por_plan_month.plot(                   \n",
    "                                 kind=\"bar\",\n",
    "                                 title= \"Duración promedio de llamadas por cada plan y por cada mes\",\n",
    "                                 xlabel= \"month\",\n",
    "                                 ylabel= \"promedio\")\n",
    "\n",
    "plt.show\n",
    "                                    "
   ]
  },
  {
   "cell_type": "code",
   "execution_count": 49,
   "metadata": {
    "id": "QoLqW1S_0q1J"
   },
   "outputs": [
    {
     "data": {
      "image/png": "[encoded data removed]",
      "text/plain": [
       "<Figure size 640x480 with 1 Axes>"
      ]
     },
     "metadata": {},
     "output_type": "display_data"
    }
   ],
   "source": [
    "# Compara el número de minutos mensuales que necesitan los usuarios de cada plan. Traza un histograma.\n",
    "table[table[\"plan\"] == \"surf\"][\"n_minutes\"].plot(kind= \"hist\")\n",
    "table[table[\"plan\"] == \"ultimate\"][\"n_minutes\"].plot(kind= \"hist\")\n",
    "plt.legend(['Surf', 'Ultimate'])\n",
    "plt.show()"
   ]
  },
  {
   "cell_type": "code",
   "execution_count": 50,
   "metadata": {
    "id": "oSndbAnt0q1K"
   },
   "outputs": [
    {
     "data": {
      "text/html": [
       "<div>\n",
       "<style scoped>\n",
       "    .dataframe tbody tr th:only-of-type {\n",
       "        vertical-align: middle;\n",
       "    }\n",
       "\n",
       "    .dataframe tbody tr th {\n",
       "        vertical-align: top;\n",
       "    }\n",
       "\n",
       "    .dataframe thead tr th {\n",
       "        text-align: left;\n",
       "    }\n",
       "\n",
       "    .dataframe thead tr:last-of-type th {\n",
       "        text-align: right;\n",
       "    }\n",
       "</style>\n",
       "<table border=\"1\" class=\"dataframe\">\n",
       "  <thead>\n",
       "    <tr>\n",
       "      <th></th>\n",
       "      <th colspan=\"2\" halign=\"left\">mean</th>\n",
       "      <th colspan=\"2\" halign=\"left\">var</th>\n",
       "    </tr>\n",
       "    <tr>\n",
       "      <th>plan</th>\n",
       "      <th>surf</th>\n",
       "      <th>ultimate</th>\n",
       "      <th>surf</th>\n",
       "      <th>ultimate</th>\n",
       "    </tr>\n",
       "    <tr>\n",
       "      <th>month</th>\n",
       "      <th></th>\n",
       "      <th></th>\n",
       "      <th></th>\n",
       "      <th></th>\n",
       "    </tr>\n",
       "  </thead>\n",
       "  <tbody>\n",
       "    <tr>\n",
       "      <th>2018-01</th>\n",
       "      <td>203.000000</td>\n",
       "      <td>193.500000</td>\n",
       "      <td>15842.000000</td>\n",
       "      <td>16572.333333</td>\n",
       "    </tr>\n",
       "    <tr>\n",
       "      <th>2018-02</th>\n",
       "      <td>297.000000</td>\n",
       "      <td>403.142857</td>\n",
       "      <td>52226.500000</td>\n",
       "      <td>76889.476190</td>\n",
       "    </tr>\n",
       "    <tr>\n",
       "      <th>2018-03</th>\n",
       "      <td>330.000000</td>\n",
       "      <td>304.250000</td>\n",
       "      <td>35809.363636</td>\n",
       "      <td>61984.931818</td>\n",
       "    </tr>\n",
       "    <tr>\n",
       "      <th>2018-04</th>\n",
       "      <td>351.540000</td>\n",
       "      <td>336.857143</td>\n",
       "      <td>50866.743265</td>\n",
       "      <td>34888.928571</td>\n",
       "    </tr>\n",
       "    <tr>\n",
       "      <th>2018-05</th>\n",
       "      <td>399.584416</td>\n",
       "      <td>406.241379</td>\n",
       "      <td>59754.219754</td>\n",
       "      <td>43841.046798</td>\n",
       "    </tr>\n",
       "    <tr>\n",
       "      <th>2018-06</th>\n",
       "      <td>431.298969</td>\n",
       "      <td>370.957447</td>\n",
       "      <td>45592.628436</td>\n",
       "      <td>42503.563367</td>\n",
       "    </tr>\n",
       "    <tr>\n",
       "      <th>2018-07</th>\n",
       "      <td>449.983471</td>\n",
       "      <td>427.067797</td>\n",
       "      <td>61005.099725</td>\n",
       "      <td>72563.374635</td>\n",
       "    </tr>\n",
       "    <tr>\n",
       "      <th>2018-08</th>\n",
       "      <td>410.111111</td>\n",
       "      <td>421.436620</td>\n",
       "      <td>54344.645963</td>\n",
       "      <td>53645.506640</td>\n",
       "    </tr>\n",
       "    <tr>\n",
       "      <th>2018-09</th>\n",
       "      <td>414.226804</td>\n",
       "      <td>437.511628</td>\n",
       "      <td>46595.958656</td>\n",
       "      <td>57070.464569</td>\n",
       "    </tr>\n",
       "    <tr>\n",
       "      <th>2018-10</th>\n",
       "      <td>429.729958</td>\n",
       "      <td>450.735849</td>\n",
       "      <td>52278.664056</td>\n",
       "      <td>54261.910512</td>\n",
       "    </tr>\n",
       "    <tr>\n",
       "      <th>2018-11</th>\n",
       "      <td>423.325088</td>\n",
       "      <td>445.196850</td>\n",
       "      <td>51607.021602</td>\n",
       "      <td>60593.222847</td>\n",
       "    </tr>\n",
       "    <tr>\n",
       "      <th>2018-12</th>\n",
       "      <td>473.836478</td>\n",
       "      <td>459.099338</td>\n",
       "      <td>63629.518918</td>\n",
       "      <td>62503.783400</td>\n",
       "    </tr>\n",
       "  </tbody>\n",
       "</table>\n",
       "</div>"
      ],
      "text/plain": [
       "               mean                       var              \n",
       "plan           surf    ultimate          surf      ultimate\n",
       "month                                                      \n",
       "2018-01  203.000000  193.500000  15842.000000  16572.333333\n",
       "2018-02  297.000000  403.142857  52226.500000  76889.476190\n",
       "2018-03  330.000000  304.250000  35809.363636  61984.931818\n",
       "2018-04  351.540000  336.857143  50866.743265  34888.928571\n",
       "2018-05  399.584416  406.241379  59754.219754  43841.046798\n",
       "2018-06  431.298969  370.957447  45592.628436  42503.563367\n",
       "2018-07  449.983471  427.067797  61005.099725  72563.374635\n",
       "2018-08  410.111111  421.436620  54344.645963  53645.506640\n",
       "2018-09  414.226804  437.511628  46595.958656  57070.464569\n",
       "2018-10  429.729958  450.735849  52278.664056  54261.910512\n",
       "2018-11  423.325088  445.196850  51607.021602  60593.222847\n",
       "2018-12  473.836478  459.099338  63629.518918  62503.783400"
      ]
     },
     "execution_count": 50,
     "metadata": {},
     "output_type": "execute_result"
    }
   ],
   "source": [
    "# Calcula la media y la varianza de la duración mensual de llamadas.\n",
    "var_llamadas=(\n",
    "table\n",
    "    .pivot_table(index= 'month', columns= \"plan\", values= \"n_minutes\", aggfunc= [\"mean\", \"var\"])\n",
    "      \n",
    ")\n",
    "var_llamadas"
   ]
  },
  {
   "cell_type": "code",
   "execution_count": 51,
   "metadata": {
    "id": "nZzoRUKc0q1K"
   },
   "outputs": [
    {
     "data": {
      "text/plain": [
       "<Axes: ylabel='n_minutes'>"
      ]
     },
     "execution_count": 51,
     "metadata": {},
     "output_type": "execute_result"
    },
    {
     "data": {
      "image/png": "[encoded data removed]",
      "text/plain": [
       "<Figure size 640x480 with 1 Axes>"
      ]
     },
     "metadata": {},
     "output_type": "display_data"
    }
   ],
   "source": [
    "# Traza un diagrama de caja para visualizar la distribución de la duración mensual de llamadas\n",
    "caja_llamadas= pd.Series(table[\"n_minutes\"])\n",
    "sns.boxplot(caja_llamadas)"
   ]
  },
  {
   "cell_type": "markdown",
   "metadata": {
    "id": "r627zBO50q1K"
   },
   "source": [
    "Conclusiones sobre el comportamiento de los usuarios:\n",
    "\n",
    "- En cuanto a la duración promedio mensual de cada plan, estas son bastante parejas. en promedio la duración de de llamadas en cada plan es casi la misma. \n",
    "- En lo que se refiere a la cantidad de minutos mensuales que necesitan los usuarios de cada plan, se puede evideciar que los usuarios del plan Surf, necesitan mayr cantidad de minutos, alrededor de 400 en su punto mas alto, mientyras que los usuarios del plan Ultimate, solamente necesitan alrededor de 200 en su punto más alto. \n",
    "- las medias y las varianzas mensuales en cada plan tambien son similares en cada mes. \n",
    "- La media de la distribución mensual de las llamadas es de un poco más de 400 minutos. Donde el valor mínimo es de 0 minutos y el máximo de poco más de 1000 minutos. Exiten también algunos valores atípicos en la distribución de la duración mensual de las llamadas. "
   ]
  },
  {
   "cell_type": "markdown",
   "metadata": {
    "id": "8idKy8Wh0q1L"
   },
   "source": [
    "### Mensajes"
   ]
  },
  {
   "cell_type": "code",
   "execution_count": 52,
   "metadata": {
    "id": "NXLxiTit0q1L",
    "scrolled": false
   },
   "outputs": [
    {
     "data": {
      "text/html": [
       "<div>\n",
       "<style scoped>\n",
       "    .dataframe tbody tr th:only-of-type {\n",
       "        vertical-align: middle;\n",
       "    }\n",
       "\n",
       "    .dataframe tbody tr th {\n",
       "        vertical-align: top;\n",
       "    }\n",
       "\n",
       "    .dataframe thead th {\n",
       "        text-align: right;\n",
       "    }\n",
       "</style>\n",
       "<table border=\"1\" class=\"dataframe\">\n",
       "  <thead>\n",
       "    <tr style=\"text-align: right;\">\n",
       "      <th>plan</th>\n",
       "      <th>surf</th>\n",
       "      <th>ultimate</th>\n",
       "    </tr>\n",
       "    <tr>\n",
       "      <th>month</th>\n",
       "      <th></th>\n",
       "      <th></th>\n",
       "    </tr>\n",
       "  </thead>\n",
       "  <tbody>\n",
       "    <tr>\n",
       "      <th>2018-01</th>\n",
       "      <td>21.0</td>\n",
       "      <td>62.0</td>\n",
       "    </tr>\n",
       "    <tr>\n",
       "      <th>2018-02</th>\n",
       "      <td>108.0</td>\n",
       "      <td>151.0</td>\n",
       "    </tr>\n",
       "    <tr>\n",
       "      <th>2018-03</th>\n",
       "      <td>351.0</td>\n",
       "      <td>243.0</td>\n",
       "    </tr>\n",
       "    <tr>\n",
       "      <th>2018-04</th>\n",
       "      <td>870.0</td>\n",
       "      <td>463.0</td>\n",
       "    </tr>\n",
       "    <tr>\n",
       "      <th>2018-05</th>\n",
       "      <td>1849.0</td>\n",
       "      <td>931.0</td>\n",
       "    </tr>\n",
       "    <tr>\n",
       "      <th>2018-06</th>\n",
       "      <td>2454.0</td>\n",
       "      <td>1379.0</td>\n",
       "    </tr>\n",
       "    <tr>\n",
       "      <th>2018-07</th>\n",
       "      <td>3271.0</td>\n",
       "      <td>1937.0</td>\n",
       "    </tr>\n",
       "    <tr>\n",
       "      <th>2018-08</th>\n",
       "      <td>4662.0</td>\n",
       "      <td>2732.0</td>\n",
       "    </tr>\n",
       "    <tr>\n",
       "      <th>2018-09</th>\n",
       "      <td>5968.0</td>\n",
       "      <td>3259.0</td>\n",
       "    </tr>\n",
       "    <tr>\n",
       "      <th>2018-10</th>\n",
       "      <td>8020.0</td>\n",
       "      <td>4181.0</td>\n",
       "    </tr>\n",
       "    <tr>\n",
       "      <th>2018-11</th>\n",
       "      <td>9165.0</td>\n",
       "      <td>4903.0</td>\n",
       "    </tr>\n",
       "    <tr>\n",
       "      <th>2018-12</th>\n",
       "      <td>12275.0</td>\n",
       "      <td>6796.0</td>\n",
       "    </tr>\n",
       "  </tbody>\n",
       "</table>\n",
       "</div>"
      ],
      "text/plain": [
       "plan        surf  ultimate\n",
       "month                     \n",
       "2018-01     21.0      62.0\n",
       "2018-02    108.0     151.0\n",
       "2018-03    351.0     243.0\n",
       "2018-04    870.0     463.0\n",
       "2018-05   1849.0     931.0\n",
       "2018-06   2454.0    1379.0\n",
       "2018-07   3271.0    1937.0\n",
       "2018-08   4662.0    2732.0\n",
       "2018-09   5968.0    3259.0\n",
       "2018-10   8020.0    4181.0\n",
       "2018-11   9165.0    4903.0\n",
       "2018-12  12275.0    6796.0"
      ]
     },
     "execution_count": 52,
     "metadata": {},
     "output_type": "execute_result"
    }
   ],
   "source": [
    "# Comprara el número de mensajes que tienden a enviar cada mes los usuarios de cada plan\n",
    "mensajes_por_plan_month= table.pivot_table(index= \"month\", \n",
    "                                          columns= \"plan\",\n",
    "                                          values= \"n_messages\",\n",
    "                                          aggfunc= \"sum\")\n",
    "mensajes_por_plan_month\n"
   ]
  },
  {
   "cell_type": "code",
   "execution_count": 53,
   "metadata": {},
   "outputs": [
    {
     "data": {
      "text/plain": [
       "<function matplotlib.pyplot.show(close=None, block=None)>"
      ]
     },
     "execution_count": 53,
     "metadata": {},
     "output_type": "execute_result"
    },
    {
     "data": {
      "image/png": "[encoded data removed]",
      "text/plain": [
       "<Figure size 640x480 with 1 Axes>"
      ]
     },
     "metadata": {},
     "output_type": "display_data"
    }
   ],
   "source": [
    "mensajes_por_plan_month.plot(                   \n",
    "                                 kind=\"bar\",\n",
    "                                 title= \"Número de mensajes enviados cada mes por plan\",\n",
    "                                 xlabel= \"month\",\n",
    "                                 ylabel= \"mensajes\")\n",
    "\n",
    "plt.show"
   ]
  },
  {
   "cell_type": "code",
   "execution_count": 54,
   "metadata": {},
   "outputs": [
    {
     "data": {
      "image/png": "[encoded data removed]",
      "text/plain": [
       "<Figure size 640x480 with 1 Axes>"
      ]
     },
     "metadata": {},
     "output_type": "display_data"
    }
   ],
   "source": [
    "table[table[\"plan\"] == \"surf\"][\"n_messages\"].plot(kind= \"hist\")\n",
    "table[table[\"plan\"] == \"ultimate\"][\"n_messages\"].plot(kind= \"hist\")\n",
    "plt.legend(['Surf', 'Ultimate'])\n",
    "plt.show()"
   ]
  },
  {
   "cell_type": "code",
   "execution_count": 55,
   "metadata": {},
   "outputs": [
    {
     "data": {
      "text/html": [
       "<div>\n",
       "<style scoped>\n",
       "    .dataframe tbody tr th:only-of-type {\n",
       "        vertical-align: middle;\n",
       "    }\n",
       "\n",
       "    .dataframe tbody tr th {\n",
       "        vertical-align: top;\n",
       "    }\n",
       "\n",
       "    .dataframe thead tr th {\n",
       "        text-align: left;\n",
       "    }\n",
       "\n",
       "    .dataframe thead tr:last-of-type th {\n",
       "        text-align: right;\n",
       "    }\n",
       "</style>\n",
       "<table border=\"1\" class=\"dataframe\">\n",
       "  <thead>\n",
       "    <tr>\n",
       "      <th></th>\n",
       "      <th colspan=\"2\" halign=\"left\">mean</th>\n",
       "      <th colspan=\"2\" halign=\"left\">var</th>\n",
       "    </tr>\n",
       "    <tr>\n",
       "      <th>plan</th>\n",
       "      <th>surf</th>\n",
       "      <th>ultimate</th>\n",
       "      <th>surf</th>\n",
       "      <th>ultimate</th>\n",
       "    </tr>\n",
       "    <tr>\n",
       "      <th>month</th>\n",
       "      <th></th>\n",
       "      <th></th>\n",
       "      <th></th>\n",
       "      <th></th>\n",
       "    </tr>\n",
       "  </thead>\n",
       "  <tbody>\n",
       "    <tr>\n",
       "      <th>2018-01</th>\n",
       "      <td>10.500000</td>\n",
       "      <td>15.500000</td>\n",
       "      <td>220.500000</td>\n",
       "      <td>313.666667</td>\n",
       "    </tr>\n",
       "    <tr>\n",
       "      <th>2018-02</th>\n",
       "      <td>12.000000</td>\n",
       "      <td>21.571429</td>\n",
       "      <td>386.000000</td>\n",
       "      <td>478.285714</td>\n",
       "    </tr>\n",
       "    <tr>\n",
       "      <th>2018-03</th>\n",
       "      <td>15.260870</td>\n",
       "      <td>20.250000</td>\n",
       "      <td>346.565217</td>\n",
       "      <td>654.386364</td>\n",
       "    </tr>\n",
       "    <tr>\n",
       "      <th>2018-04</th>\n",
       "      <td>17.400000</td>\n",
       "      <td>22.047619</td>\n",
       "      <td>501.591837</td>\n",
       "      <td>544.147619</td>\n",
       "    </tr>\n",
       "    <tr>\n",
       "      <th>2018-05</th>\n",
       "      <td>24.012987</td>\n",
       "      <td>32.103448</td>\n",
       "      <td>847.197198</td>\n",
       "      <td>1297.310345</td>\n",
       "    </tr>\n",
       "    <tr>\n",
       "      <th>2018-06</th>\n",
       "      <td>25.298969</td>\n",
       "      <td>29.340426</td>\n",
       "      <td>914.920103</td>\n",
       "      <td>857.620722</td>\n",
       "    </tr>\n",
       "    <tr>\n",
       "      <th>2018-07</th>\n",
       "      <td>27.033058</td>\n",
       "      <td>32.830508</td>\n",
       "      <td>923.915565</td>\n",
       "      <td>960.488019</td>\n",
       "    </tr>\n",
       "    <tr>\n",
       "      <th>2018-08</th>\n",
       "      <td>28.777778</td>\n",
       "      <td>38.478873</td>\n",
       "      <td>1029.515528</td>\n",
       "      <td>1196.367404</td>\n",
       "    </tr>\n",
       "    <tr>\n",
       "      <th>2018-09</th>\n",
       "      <td>30.762887</td>\n",
       "      <td>37.895349</td>\n",
       "      <td>1003.829496</td>\n",
       "      <td>1050.918331</td>\n",
       "    </tr>\n",
       "    <tr>\n",
       "      <th>2018-10</th>\n",
       "      <td>33.839662</td>\n",
       "      <td>39.443396</td>\n",
       "      <td>1275.465708</td>\n",
       "      <td>1221.106289</td>\n",
       "    </tr>\n",
       "    <tr>\n",
       "      <th>2018-11</th>\n",
       "      <td>32.385159</td>\n",
       "      <td>38.606299</td>\n",
       "      <td>1065.344034</td>\n",
       "      <td>1232.669166</td>\n",
       "    </tr>\n",
       "    <tr>\n",
       "      <th>2018-12</th>\n",
       "      <td>38.600629</td>\n",
       "      <td>45.006623</td>\n",
       "      <td>1458.158612</td>\n",
       "      <td>1549.419956</td>\n",
       "    </tr>\n",
       "  </tbody>\n",
       "</table>\n",
       "</div>"
      ],
      "text/plain": [
       "              mean                     var             \n",
       "plan          surf   ultimate         surf     ultimate\n",
       "month                                                  \n",
       "2018-01  10.500000  15.500000   220.500000   313.666667\n",
       "2018-02  12.000000  21.571429   386.000000   478.285714\n",
       "2018-03  15.260870  20.250000   346.565217   654.386364\n",
       "2018-04  17.400000  22.047619   501.591837   544.147619\n",
       "2018-05  24.012987  32.103448   847.197198  1297.310345\n",
       "2018-06  25.298969  29.340426   914.920103   857.620722\n",
       "2018-07  27.033058  32.830508   923.915565   960.488019\n",
       "2018-08  28.777778  38.478873  1029.515528  1196.367404\n",
       "2018-09  30.762887  37.895349  1003.829496  1050.918331\n",
       "2018-10  33.839662  39.443396  1275.465708  1221.106289\n",
       "2018-11  32.385159  38.606299  1065.344034  1232.669166\n",
       "2018-12  38.600629  45.006623  1458.158612  1549.419956"
      ]
     },
     "execution_count": 55,
     "metadata": {},
     "output_type": "execute_result"
    }
   ],
   "source": [
    "ests_messages=(\n",
    "table\n",
    "    .pivot_table(index= 'month', columns= \"plan\", values= \"n_messages\", aggfunc= [\"mean\", \"var\"])\n",
    "      \n",
    ")\n",
    "ests_messages\n"
   ]
  },
  {
   "cell_type": "code",
   "execution_count": 56,
   "metadata": {},
   "outputs": [
    {
     "data": {
      "text/plain": [
       "<Axes: ylabel='n_messages'>"
      ]
     },
     "execution_count": 56,
     "metadata": {},
     "output_type": "execute_result"
    },
    {
     "data": {
      "image/png": "[encoded data removed]",
      "text/plain": [
       "<Figure size 640x480 with 1 Axes>"
      ]
     },
     "metadata": {},
     "output_type": "display_data"
    }
   ],
   "source": [
    "caja_mensajes= pd.Series(table[\"n_messages\"])\n",
    "sns.boxplot(caja_mensajes)"
   ]
  },
  {
   "cell_type": "markdown",
   "metadata": {
    "id": "390SSL480q1M"
   },
   "source": [
    "- El número de mensajes que tienden a enviar mensualmente los usuarios de cada plan si tiene diferencias considerables. Se observa que los usuarios del plan Surf envían el doble de mensajes que los usuarios del plan Ultimate, con un máximo de 12.000 mensajes en diciembre del 2018.\n",
    "- La media de mensajes enviados en ambos planes es de 25 mensajes aprox, con un mínimo de 0 mensajes y un máximo de 125. Aunque, existen algunos valores atípicos de usuarios que envían incluso más de 250 mensajes. "
   ]
  },
  {
   "cell_type": "markdown",
   "metadata": {
    "id": "42YSypXz0q1M"
   },
   "source": [
    "### Internet"
   ]
  },
  {
   "cell_type": "code",
   "execution_count": 57,
   "metadata": {
    "id": "lSuKPtjh0q1M"
   },
   "outputs": [
    {
     "data": {
      "text/html": [
       "<div>\n",
       "<style scoped>\n",
       "    .dataframe tbody tr th:only-of-type {\n",
       "        vertical-align: middle;\n",
       "    }\n",
       "\n",
       "    .dataframe tbody tr th {\n",
       "        vertical-align: top;\n",
       "    }\n",
       "\n",
       "    .dataframe thead th {\n",
       "        text-align: right;\n",
       "    }\n",
       "</style>\n",
       "<table border=\"1\" class=\"dataframe\">\n",
       "  <thead>\n",
       "    <tr style=\"text-align: right;\">\n",
       "      <th>plan</th>\n",
       "      <th>surf</th>\n",
       "      <th>ultimate</th>\n",
       "    </tr>\n",
       "    <tr>\n",
       "      <th>month</th>\n",
       "      <th></th>\n",
       "      <th></th>\n",
       "    </tr>\n",
       "  </thead>\n",
       "  <tbody>\n",
       "    <tr>\n",
       "      <th>2018-01</th>\n",
       "      <td>10.0</td>\n",
       "      <td>29.0</td>\n",
       "    </tr>\n",
       "    <tr>\n",
       "      <th>2018-02</th>\n",
       "      <td>110.0</td>\n",
       "      <td>121.0</td>\n",
       "    </tr>\n",
       "    <tr>\n",
       "      <th>2018-03</th>\n",
       "      <td>312.0</td>\n",
       "      <td>221.0</td>\n",
       "    </tr>\n",
       "    <tr>\n",
       "      <th>2018-04</th>\n",
       "      <td>611.0</td>\n",
       "      <td>343.0</td>\n",
       "    </tr>\n",
       "    <tr>\n",
       "      <th>2018-05</th>\n",
       "      <td>1087.0</td>\n",
       "      <td>489.0</td>\n",
       "    </tr>\n",
       "    <tr>\n",
       "      <th>2018-06</th>\n",
       "      <td>1502.0</td>\n",
       "      <td>725.0</td>\n",
       "    </tr>\n",
       "    <tr>\n",
       "      <th>2018-07</th>\n",
       "      <td>2042.0</td>\n",
       "      <td>973.0</td>\n",
       "    </tr>\n",
       "    <tr>\n",
       "      <th>2018-08</th>\n",
       "      <td>2735.0</td>\n",
       "      <td>1267.0</td>\n",
       "    </tr>\n",
       "    <tr>\n",
       "      <th>2018-09</th>\n",
       "      <td>3238.0</td>\n",
       "      <td>1463.0</td>\n",
       "    </tr>\n",
       "    <tr>\n",
       "      <th>2018-10</th>\n",
       "      <td>4126.0</td>\n",
       "      <td>1878.0</td>\n",
       "    </tr>\n",
       "    <tr>\n",
       "      <th>2018-11</th>\n",
       "      <td>4650.0</td>\n",
       "      <td>2174.0</td>\n",
       "    </tr>\n",
       "    <tr>\n",
       "      <th>2018-12</th>\n",
       "      <td>5800.0</td>\n",
       "      <td>2778.0</td>\n",
       "    </tr>\n",
       "  </tbody>\n",
       "</table>\n",
       "</div>"
      ],
      "text/plain": [
       "plan       surf  ultimate\n",
       "month                    \n",
       "2018-01    10.0      29.0\n",
       "2018-02   110.0     121.0\n",
       "2018-03   312.0     221.0\n",
       "2018-04   611.0     343.0\n",
       "2018-05  1087.0     489.0\n",
       "2018-06  1502.0     725.0\n",
       "2018-07  2042.0     973.0\n",
       "2018-08  2735.0    1267.0\n",
       "2018-09  3238.0    1463.0\n",
       "2018-10  4126.0    1878.0\n",
       "2018-11  4650.0    2174.0\n",
       "2018-12  5800.0    2778.0"
      ]
     },
     "execution_count": 57,
     "metadata": {},
     "output_type": "execute_result"
    }
   ],
   "source": [
    "# Compara la cantidad de tráfico de Internet consumido por usuarios por plan\n",
    "internet_por_plan_month= table.pivot_table(index= \"month\", \n",
    "                                          columns= \"plan\",\n",
    "                                          values= \"n_gb\",\n",
    "                                          aggfunc= \"sum\")\n",
    "internet_por_plan_month"
   ]
  },
  {
   "cell_type": "code",
   "execution_count": 58,
   "metadata": {
    "id": "wnh8jYXi0q1N"
   },
   "outputs": [
    {
     "data": {
      "text/plain": [
       "<function matplotlib.pyplot.show(close=None, block=None)>"
      ]
     },
     "execution_count": 58,
     "metadata": {},
     "output_type": "execute_result"
    },
    {
     "data": {
      "image/png": "[encoded data removed]",
      "text/plain": [
       "<Figure size 640x480 with 1 Axes>"
      ]
     },
     "metadata": {},
     "output_type": "display_data"
    }
   ],
   "source": [
    "internet_por_plan_month.plot(                   \n",
    "                                 kind=\"bar\",\n",
    "                                 title= \"Tráfico de internet por cada plan y por cada mes\",\n",
    "                                 xlabel= \"month\",\n",
    "                                 ylabel= \"Gb\")\n",
    "plt.show"
   ]
  },
  {
   "cell_type": "code",
   "execution_count": 59,
   "metadata": {
    "id": "5VlyJ9ry0q1N"
   },
   "outputs": [
    {
     "data": {
      "image/png": "[encoded data removed]",
      "text/plain": [
       "<Figure size 640x480 with 1 Axes>"
      ]
     },
     "metadata": {},
     "output_type": "display_data"
    }
   ],
   "source": [
    "table[table[\"plan\"] == \"surf\"][\"n_gb\"].plot(kind= \"hist\")\n",
    "table[table[\"plan\"] == \"ultimate\"][\"n_gb\"].plot(kind= \"hist\")\n",
    "plt.legend(['Surf', 'Ultimate'])\n",
    "plt.show()"
   ]
  },
  {
   "cell_type": "code",
   "execution_count": 60,
   "metadata": {},
   "outputs": [
    {
     "data": {
      "text/html": [
       "<div>\n",
       "<style scoped>\n",
       "    .dataframe tbody tr th:only-of-type {\n",
       "        vertical-align: middle;\n",
       "    }\n",
       "\n",
       "    .dataframe tbody tr th {\n",
       "        vertical-align: top;\n",
       "    }\n",
       "\n",
       "    .dataframe thead tr th {\n",
       "        text-align: left;\n",
       "    }\n",
       "\n",
       "    .dataframe thead tr:last-of-type th {\n",
       "        text-align: right;\n",
       "    }\n",
       "</style>\n",
       "<table border=\"1\" class=\"dataframe\">\n",
       "  <thead>\n",
       "    <tr>\n",
       "      <th></th>\n",
       "      <th colspan=\"2\" halign=\"left\">mean</th>\n",
       "      <th colspan=\"2\" halign=\"left\">var</th>\n",
       "    </tr>\n",
       "    <tr>\n",
       "      <th>plan</th>\n",
       "      <th>surf</th>\n",
       "      <th>ultimate</th>\n",
       "      <th>surf</th>\n",
       "      <th>ultimate</th>\n",
       "    </tr>\n",
       "    <tr>\n",
       "      <th>month</th>\n",
       "      <th></th>\n",
       "      <th></th>\n",
       "      <th></th>\n",
       "      <th></th>\n",
       "    </tr>\n",
       "  </thead>\n",
       "  <tbody>\n",
       "    <tr>\n",
       "      <th>2018-01</th>\n",
       "      <td>10.500000</td>\n",
       "      <td>15.500000</td>\n",
       "      <td>220.500000</td>\n",
       "      <td>313.666667</td>\n",
       "    </tr>\n",
       "    <tr>\n",
       "      <th>2018-02</th>\n",
       "      <td>12.000000</td>\n",
       "      <td>21.571429</td>\n",
       "      <td>386.000000</td>\n",
       "      <td>478.285714</td>\n",
       "    </tr>\n",
       "    <tr>\n",
       "      <th>2018-03</th>\n",
       "      <td>15.260870</td>\n",
       "      <td>20.250000</td>\n",
       "      <td>346.565217</td>\n",
       "      <td>654.386364</td>\n",
       "    </tr>\n",
       "    <tr>\n",
       "      <th>2018-04</th>\n",
       "      <td>17.400000</td>\n",
       "      <td>22.047619</td>\n",
       "      <td>501.591837</td>\n",
       "      <td>544.147619</td>\n",
       "    </tr>\n",
       "    <tr>\n",
       "      <th>2018-05</th>\n",
       "      <td>24.012987</td>\n",
       "      <td>32.103448</td>\n",
       "      <td>847.197198</td>\n",
       "      <td>1297.310345</td>\n",
       "    </tr>\n",
       "    <tr>\n",
       "      <th>2018-06</th>\n",
       "      <td>25.298969</td>\n",
       "      <td>29.340426</td>\n",
       "      <td>914.920103</td>\n",
       "      <td>857.620722</td>\n",
       "    </tr>\n",
       "    <tr>\n",
       "      <th>2018-07</th>\n",
       "      <td>27.033058</td>\n",
       "      <td>32.830508</td>\n",
       "      <td>923.915565</td>\n",
       "      <td>960.488019</td>\n",
       "    </tr>\n",
       "    <tr>\n",
       "      <th>2018-08</th>\n",
       "      <td>28.777778</td>\n",
       "      <td>38.478873</td>\n",
       "      <td>1029.515528</td>\n",
       "      <td>1196.367404</td>\n",
       "    </tr>\n",
       "    <tr>\n",
       "      <th>2018-09</th>\n",
       "      <td>30.762887</td>\n",
       "      <td>37.895349</td>\n",
       "      <td>1003.829496</td>\n",
       "      <td>1050.918331</td>\n",
       "    </tr>\n",
       "    <tr>\n",
       "      <th>2018-10</th>\n",
       "      <td>33.839662</td>\n",
       "      <td>39.443396</td>\n",
       "      <td>1275.465708</td>\n",
       "      <td>1221.106289</td>\n",
       "    </tr>\n",
       "    <tr>\n",
       "      <th>2018-11</th>\n",
       "      <td>32.385159</td>\n",
       "      <td>38.606299</td>\n",
       "      <td>1065.344034</td>\n",
       "      <td>1232.669166</td>\n",
       "    </tr>\n",
       "    <tr>\n",
       "      <th>2018-12</th>\n",
       "      <td>38.600629</td>\n",
       "      <td>45.006623</td>\n",
       "      <td>1458.158612</td>\n",
       "      <td>1549.419956</td>\n",
       "    </tr>\n",
       "  </tbody>\n",
       "</table>\n",
       "</div>"
      ],
      "text/plain": [
       "              mean                     var             \n",
       "plan          surf   ultimate         surf     ultimate\n",
       "month                                                  \n",
       "2018-01  10.500000  15.500000   220.500000   313.666667\n",
       "2018-02  12.000000  21.571429   386.000000   478.285714\n",
       "2018-03  15.260870  20.250000   346.565217   654.386364\n",
       "2018-04  17.400000  22.047619   501.591837   544.147619\n",
       "2018-05  24.012987  32.103448   847.197198  1297.310345\n",
       "2018-06  25.298969  29.340426   914.920103   857.620722\n",
       "2018-07  27.033058  32.830508   923.915565   960.488019\n",
       "2018-08  28.777778  38.478873  1029.515528  1196.367404\n",
       "2018-09  30.762887  37.895349  1003.829496  1050.918331\n",
       "2018-10  33.839662  39.443396  1275.465708  1221.106289\n",
       "2018-11  32.385159  38.606299  1065.344034  1232.669166\n",
       "2018-12  38.600629  45.006623  1458.158612  1549.419956"
      ]
     },
     "execution_count": 60,
     "metadata": {},
     "output_type": "execute_result"
    }
   ],
   "source": [
    "ests_internet=(\n",
    "table\n",
    "    .pivot_table(index= 'month', columns= \"plan\", values= \"n_gb\", aggfunc= [\"mean\", \"var\"])\n",
    "      \n",
    ")\n",
    "ests_messages"
   ]
  },
  {
   "cell_type": "code",
   "execution_count": 61,
   "metadata": {},
   "outputs": [
    {
     "data": {
      "text/plain": [
       "<Axes: ylabel='n_gb'>"
      ]
     },
     "execution_count": 61,
     "metadata": {},
     "output_type": "execute_result"
    },
    {
     "data": {
      "image/png": "[encoded data removed]",
      "text/plain": [
       "<Figure size 640x480 with 1 Axes>"
      ]
     },
     "metadata": {},
     "output_type": "display_data"
    }
   ],
   "source": [
    "caja_internet= pd.Series(table[\"n_gb\"])\n",
    "sns.boxplot(caja_internet)"
   ]
  },
  {
   "cell_type": "markdown",
   "metadata": {
    "id": "UN9zwuMP0q1N"
   },
   "source": [
    "- Los usuarios del plan Surf, utilizan el doble de internet que los usuarios del plan Ultimate cada mes. \n",
    "- La media de tráfico de internet de ambos planes cada mes es de unos 18 gb, con un valor mínimo de 0 y un máximo de 35Gb aprox. Existen valores atípios de meses en los que se usó más de 70 gb."
   ]
  },
  {
   "cell_type": "markdown",
   "metadata": {
    "id": "tCijq3260q1N"
   },
   "source": [
    "## Ingreso"
   ]
  },
  {
   "cell_type": "markdown",
   "metadata": {
    "id": "9nq5IAcy0q1O"
   },
   "source": [
    "[Del mismo modo que se ha estudiado el comportamiento de los usuarios, describimos estadísticamente los ingresos de los planes.]"
   ]
  },
  {
   "cell_type": "code",
   "execution_count": 62,
   "metadata": {
    "id": "tz-dq_V00q1O"
   },
   "outputs": [
    {
     "data": {
      "text/plain": [
       "1        20.00\n",
       "2        20.00\n",
       "3        90.09\n",
       "4        60.00\n",
       "5        60.00\n",
       "         ...  \n",
       "2288    100.00\n",
       "2289     20.00\n",
       "2290     70.00\n",
       "2291     40.00\n",
       "2292     90.00\n",
       "Name: monthly_income, Length: 1573, dtype: float64"
      ]
     },
     "execution_count": 62,
     "metadata": {},
     "output_type": "execute_result"
    }
   ],
   "source": [
    "# Ingresos mensual por plan por usuario para plan surf\n",
    "income_surf= table[table[\"plan\"] == \"surf\"]\n",
    "income_surf[\"monthly_income\"]\n"
   ]
  },
  {
   "cell_type": "code",
   "execution_count": 63,
   "metadata": {},
   "outputs": [
    {
     "data": {
      "text/plain": [
       "0       70.0\n",
       "19      70.0\n",
       "20      84.0\n",
       "26      70.0\n",
       "27      70.0\n",
       "        ... \n",
       "2258    70.0\n",
       "2259    70.0\n",
       "2260    70.0\n",
       "2261    70.0\n",
       "2277    70.0\n",
       "Name: monthly_income, Length: 720, dtype: float64"
      ]
     },
     "execution_count": 63,
     "metadata": {},
     "output_type": "execute_result"
    }
   ],
   "source": [
    "# Ingresos mensual por plan por usuario para plan ultimate\n",
    "income_ultimate= table[table[\"plan\"] == \"ultimate\"]\n",
    "income_ultimate[\"monthly_income\"]"
   ]
  },
  {
   "cell_type": "code",
   "execution_count": 64,
   "metadata": {
    "scrolled": false
   },
   "outputs": [
    {
     "data": {
      "text/html": [
       "<div>\n",
       "<style scoped>\n",
       "    .dataframe tbody tr th:only-of-type {\n",
       "        vertical-align: middle;\n",
       "    }\n",
       "\n",
       "    .dataframe tbody tr th {\n",
       "        vertical-align: top;\n",
       "    }\n",
       "\n",
       "    .dataframe thead th {\n",
       "        text-align: right;\n",
       "    }\n",
       "</style>\n",
       "<table border=\"1\" class=\"dataframe\">\n",
       "  <thead>\n",
       "    <tr style=\"text-align: right;\">\n",
       "      <th>plan</th>\n",
       "      <th>surf</th>\n",
       "      <th>ultimate</th>\n",
       "    </tr>\n",
       "    <tr>\n",
       "      <th>month</th>\n",
       "      <th></th>\n",
       "      <th></th>\n",
       "    </tr>\n",
       "  </thead>\n",
       "  <tbody>\n",
       "    <tr>\n",
       "      <th>2018-01</th>\n",
       "      <td>40.00</td>\n",
       "      <td>280.0</td>\n",
       "    </tr>\n",
       "    <tr>\n",
       "      <th>2018-02</th>\n",
       "      <td>309.57</td>\n",
       "      <td>490.0</td>\n",
       "    </tr>\n",
       "    <tr>\n",
       "      <th>2018-03</th>\n",
       "      <td>1056.65</td>\n",
       "      <td>896.0</td>\n",
       "    </tr>\n",
       "    <tr>\n",
       "      <th>2018-04</th>\n",
       "      <td>2035.53</td>\n",
       "      <td>1533.0</td>\n",
       "    </tr>\n",
       "    <tr>\n",
       "      <th>2018-05</th>\n",
       "      <td>3667.37</td>\n",
       "      <td>2051.0</td>\n",
       "    </tr>\n",
       "    <tr>\n",
       "      <th>2018-06</th>\n",
       "      <td>4779.80</td>\n",
       "      <td>3367.0</td>\n",
       "    </tr>\n",
       "    <tr>\n",
       "      <th>2018-07</th>\n",
       "      <td>7583.56</td>\n",
       "      <td>4242.0</td>\n",
       "    </tr>\n",
       "    <tr>\n",
       "      <th>2018-08</th>\n",
       "      <td>10356.85</td>\n",
       "      <td>5173.0</td>\n",
       "    </tr>\n",
       "    <tr>\n",
       "      <th>2018-09</th>\n",
       "      <td>11304.67</td>\n",
       "      <td>6195.0</td>\n",
       "    </tr>\n",
       "    <tr>\n",
       "      <th>2018-10</th>\n",
       "      <td>15504.83</td>\n",
       "      <td>7665.0</td>\n",
       "    </tr>\n",
       "    <tr>\n",
       "      <th>2018-11</th>\n",
       "      <td>16415.21</td>\n",
       "      <td>9107.0</td>\n",
       "    </tr>\n",
       "    <tr>\n",
       "      <th>2018-12</th>\n",
       "      <td>22437.14</td>\n",
       "      <td>11067.0</td>\n",
       "    </tr>\n",
       "  </tbody>\n",
       "</table>\n",
       "</div>"
      ],
      "text/plain": [
       "plan         surf  ultimate\n",
       "month                      \n",
       "2018-01     40.00     280.0\n",
       "2018-02    309.57     490.0\n",
       "2018-03   1056.65     896.0\n",
       "2018-04   2035.53    1533.0\n",
       "2018-05   3667.37    2051.0\n",
       "2018-06   4779.80    3367.0\n",
       "2018-07   7583.56    4242.0\n",
       "2018-08  10356.85    5173.0\n",
       "2018-09  11304.67    6195.0\n",
       "2018-10  15504.83    7665.0\n",
       "2018-11  16415.21    9107.0\n",
       "2018-12  22437.14   11067.0"
      ]
     },
     "execution_count": 64,
     "metadata": {},
     "output_type": "execute_result"
    }
   ],
   "source": [
    "# Ingresos mensuales por plan\n",
    "income_plan= table.pivot_table(index= \"month\", \n",
    "                                          columns= \"plan\",\n",
    "                                          values= \"monthly_income\",\n",
    "                                          aggfunc= \"sum\")\n",
    "income_plan"
   ]
  },
  {
   "cell_type": "code",
   "execution_count": 65,
   "metadata": {},
   "outputs": [
    {
     "data": {
      "text/plain": [
       "<function matplotlib.pyplot.show(close=None, block=None)>"
      ]
     },
     "execution_count": 65,
     "metadata": {},
     "output_type": "execute_result"
    },
    {
     "data": {
      "image/png": "[encoded data removed]",
      "text/plain": [
       "<Figure size 640x480 with 1 Axes>"
      ]
     },
     "metadata": {},
     "output_type": "display_data"
    }
   ],
   "source": [
    "income_plan.plot(                   \n",
    "                                 kind=\"line\",\n",
    "                                 title= \"Ingreso mensual por plan\",\n",
    "                                 xlabel= \"Month\",\n",
    "                                 ylabel= \"Income\")\n",
    "\n",
    "plt.show"
   ]
  },
  {
   "cell_type": "code",
   "execution_count": 66,
   "metadata": {},
   "outputs": [
    {
     "name": "stdout",
     "output_type": "stream",
     "text": [
      "Ingreso total plan surf: 95491.18\n",
      "Ingreso total plan ultimate: 52066.0\n",
      "Ingreso total de ambos planes: 147557.18\n"
     ]
    }
   ],
   "source": [
    "# Ingresos mensual total por plan:\n",
    "print(\"Ingreso total plan surf:\", income_surf[\"monthly_income\"].sum())\n",
    "print(\"Ingreso total plan ultimate:\", income_ultimate[\"monthly_income\"].sum())\n",
    "print(\"Ingreso total de ambos planes:\", income_surf[\"monthly_income\"].sum() + income_ultimate[\"monthly_income\"].sum())"
   ]
  },
  {
   "cell_type": "code",
   "execution_count": 67,
   "metadata": {},
   "outputs": [
    {
     "data": {
      "text/html": [
       "<div>\n",
       "<style scoped>\n",
       "    .dataframe tbody tr th:only-of-type {\n",
       "        vertical-align: middle;\n",
       "    }\n",
       "\n",
       "    .dataframe tbody tr th {\n",
       "        vertical-align: top;\n",
       "    }\n",
       "\n",
       "    .dataframe thead tr th {\n",
       "        text-align: left;\n",
       "    }\n",
       "\n",
       "    .dataframe thead tr:last-of-type th {\n",
       "        text-align: right;\n",
       "    }\n",
       "</style>\n",
       "<table border=\"1\" class=\"dataframe\">\n",
       "  <thead>\n",
       "    <tr>\n",
       "      <th></th>\n",
       "      <th colspan=\"2\" halign=\"left\">mean</th>\n",
       "      <th colspan=\"2\" halign=\"left\">var</th>\n",
       "    </tr>\n",
       "    <tr>\n",
       "      <th>plan</th>\n",
       "      <th>surf</th>\n",
       "      <th>ultimate</th>\n",
       "      <th>surf</th>\n",
       "      <th>ultimate</th>\n",
       "    </tr>\n",
       "    <tr>\n",
       "      <th>month</th>\n",
       "      <th></th>\n",
       "      <th></th>\n",
       "      <th></th>\n",
       "      <th></th>\n",
       "    </tr>\n",
       "  </thead>\n",
       "  <tbody>\n",
       "    <tr>\n",
       "      <th>2018-01</th>\n",
       "      <td>20.000000</td>\n",
       "      <td>70.000000</td>\n",
       "      <td>0.000000</td>\n",
       "      <td>0.000000</td>\n",
       "    </tr>\n",
       "    <tr>\n",
       "      <th>2018-02</th>\n",
       "      <td>34.396667</td>\n",
       "      <td>70.000000</td>\n",
       "      <td>428.276100</td>\n",
       "      <td>0.000000</td>\n",
       "    </tr>\n",
       "    <tr>\n",
       "      <th>2018-03</th>\n",
       "      <td>45.941304</td>\n",
       "      <td>74.666667</td>\n",
       "      <td>1512.023512</td>\n",
       "      <td>145.515152</td>\n",
       "    </tr>\n",
       "    <tr>\n",
       "      <th>2018-04</th>\n",
       "      <td>40.710600</td>\n",
       "      <td>73.000000</td>\n",
       "      <td>1198.958402</td>\n",
       "      <td>120.400000</td>\n",
       "    </tr>\n",
       "    <tr>\n",
       "      <th>2018-05</th>\n",
       "      <td>47.628182</td>\n",
       "      <td>70.724138</td>\n",
       "      <td>1967.540055</td>\n",
       "      <td>15.206897</td>\n",
       "    </tr>\n",
       "    <tr>\n",
       "      <th>2018-06</th>\n",
       "      <td>49.276289</td>\n",
       "      <td>71.638298</td>\n",
       "      <td>1988.914046</td>\n",
       "      <td>75.018501</td>\n",
       "    </tr>\n",
       "    <tr>\n",
       "      <th>2018-07</th>\n",
       "      <td>62.674050</td>\n",
       "      <td>71.898305</td>\n",
       "      <td>2943.388409</td>\n",
       "      <td>104.472238</td>\n",
       "    </tr>\n",
       "    <tr>\n",
       "      <th>2018-08</th>\n",
       "      <td>63.931173</td>\n",
       "      <td>72.859155</td>\n",
       "      <td>3587.494901</td>\n",
       "      <td>154.808451</td>\n",
       "    </tr>\n",
       "    <tr>\n",
       "      <th>2018-09</th>\n",
       "      <td>58.271495</td>\n",
       "      <td>72.034884</td>\n",
       "      <td>2260.644980</td>\n",
       "      <td>75.939945</td>\n",
       "    </tr>\n",
       "    <tr>\n",
       "      <th>2018-10</th>\n",
       "      <td>65.421224</td>\n",
       "      <td>72.311321</td>\n",
       "      <td>3198.242612</td>\n",
       "      <td>169.606918</td>\n",
       "    </tr>\n",
       "    <tr>\n",
       "      <th>2018-11</th>\n",
       "      <td>58.004276</td>\n",
       "      <td>71.708661</td>\n",
       "      <td>2494.182230</td>\n",
       "      <td>94.668416</td>\n",
       "    </tr>\n",
       "    <tr>\n",
       "      <th>2018-12</th>\n",
       "      <td>70.557044</td>\n",
       "      <td>73.291391</td>\n",
       "      <td>4604.410868</td>\n",
       "      <td>212.861192</td>\n",
       "    </tr>\n",
       "  </tbody>\n",
       "</table>\n",
       "</div>"
      ],
      "text/plain": [
       "              mean                     var            \n",
       "plan          surf   ultimate         surf    ultimate\n",
       "month                                                 \n",
       "2018-01  20.000000  70.000000     0.000000    0.000000\n",
       "2018-02  34.396667  70.000000   428.276100    0.000000\n",
       "2018-03  45.941304  74.666667  1512.023512  145.515152\n",
       "2018-04  40.710600  73.000000  1198.958402  120.400000\n",
       "2018-05  47.628182  70.724138  1967.540055   15.206897\n",
       "2018-06  49.276289  71.638298  1988.914046   75.018501\n",
       "2018-07  62.674050  71.898305  2943.388409  104.472238\n",
       "2018-08  63.931173  72.859155  3587.494901  154.808451\n",
       "2018-09  58.271495  72.034884  2260.644980   75.939945\n",
       "2018-10  65.421224  72.311321  3198.242612  169.606918\n",
       "2018-11  58.004276  71.708661  2494.182230   94.668416\n",
       "2018-12  70.557044  73.291391  4604.410868  212.861192"
      ]
     },
     "execution_count": 67,
     "metadata": {},
     "output_type": "execute_result"
    }
   ],
   "source": [
    "# Estadísticas de los ingresos mensuales por plan\n",
    "ests_income_plan=(\n",
    "table\n",
    "    .pivot_table(index= 'month', columns= \"plan\", values= \"monthly_income\", aggfunc= [\"mean\", \"var\"])\n",
    "      \n",
    ")\n",
    "ests_income_plan"
   ]
  },
  {
   "cell_type": "markdown",
   "metadata": {
    "id": "KAFidcXZ0q1P"
   },
   "source": [
    "\n",
    "\n",
    "- Los ingresos provenientes del plan Surf son, desde marzo, mucho más altos que los ingresos que provienen del plan Ultimate. Esto se puede explciar, porque en todos los canales, los usuarios del plan Surf exceden sus paquetes, incurriendo en costos adicionales por el uso de los servicios de internet, llamadas y mensajes.\n",
    "- La media de los ingresos percibidos por los usuarios del plan Ultimate es similar para cada mes, mientras que para los usuarios del plan surf, la media varía cada mes. Po consecuencia de esta volatilidad, la varianza mensual para el plan Surf es mucho mayor en comparacion con las varianzas mensuales del plan Ultimate. \n"
   ]
  },
  {
   "cell_type": "markdown",
   "metadata": {
    "id": "ajJ7VKeI0q1Q"
   },
   "source": [
    "## Prueba las hipótesis estadísticas"
   ]
  },
  {
   "cell_type": "markdown",
   "metadata": {
    "id": "IQwa_hsh0q1Q"
   },
   "source": [
    "\n",
    "H0= Los ingresos promedio procedente de los usuarios de los planes de llamada Ultimate y Surf son iguales.\n",
    "\n",
    "H1= Los ingresos promedio procedente de los usuarios de los planes de llamada Ultimate y Surf NO son iguales."
   ]
  },
  {
   "cell_type": "code",
   "execution_count": 68,
   "metadata": {},
   "outputs": [
    {
     "name": "stdout",
     "output_type": "stream",
     "text": [
      "Varianza de los ingresos en el plan Surf: 3067.835152293878\n",
      "Varianza de los ingresos en el plan Ultimate: 129.8484855509195\n"
     ]
    }
   ],
   "source": [
    "print(\"Varianza de los ingresos en el plan Surf:\", income_surf[\"monthly_income\"].var())\n",
    "print(\"Varianza de los ingresos en el plan Ultimate:\", income_ultimate[\"monthly_income\"].var())"
   ]
  },
  {
   "cell_type": "code",
   "execution_count": 69,
   "metadata": {
    "id": "nFoPNlPq0q1R",
    "scrolled": true
   },
   "outputs": [
    {
     "name": "stdout",
     "output_type": "stream",
     "text": [
      "valor p:  3.170390548113574e-15\n",
      "Rechazamos la hipótesis nula\n"
     ]
    }
   ],
   "source": [
    "# Prueba las hipótesis\n",
    "\n",
    "alpha= 0.05\n",
    "results= st.ttest_ind(income_surf[\"monthly_income\"], income_ultimate[\"monthly_income\"], equal_var=False)\n",
    "\n",
    "print(\"valor p: \",results.pvalue)\n",
    "\n",
    "if results.pvalue < alpha:\n",
    "    print(\"Rechazamos la hipótesis nula\")\n",
    "else: \n",
    "    print(\"No podemos rechazar la hiótesis nula\")\n"
   ]
  },
  {
   "cell_type": "markdown",
   "metadata": {
    "id": "LsBgitqj0q1R"
   },
   "source": [
    "\n",
    "H0= Los ingresos promedios de los usuarios del área NY-NJ son iguales al de los usuarios de otras regiones\n",
    "\n",
    "H1= Los ingresos promedios de los usuarios del área NY-NJ NO son iguales al de los usuarios de otras regiones"
   ]
  },
  {
   "cell_type": "code",
   "execution_count": 70,
   "metadata": {},
   "outputs": [
    {
     "data": {
      "text/html": [
       "<div>\n",
       "<style scoped>\n",
       "    .dataframe tbody tr th:only-of-type {\n",
       "        vertical-align: middle;\n",
       "    }\n",
       "\n",
       "    .dataframe tbody tr th {\n",
       "        vertical-align: top;\n",
       "    }\n",
       "\n",
       "    .dataframe thead th {\n",
       "        text-align: right;\n",
       "    }\n",
       "</style>\n",
       "<table border=\"1\" class=\"dataframe\">\n",
       "  <thead>\n",
       "    <tr style=\"text-align: right;\">\n",
       "      <th></th>\n",
       "      <th>ing_prom_ny_nj</th>\n",
       "    </tr>\n",
       "    <tr>\n",
       "      <th>user_id</th>\n",
       "      <th></th>\n",
       "    </tr>\n",
       "  </thead>\n",
       "  <tbody>\n",
       "    <tr>\n",
       "      <th>1014</th>\n",
       "      <td>29.420000</td>\n",
       "    </tr>\n",
       "    <tr>\n",
       "      <th>1022</th>\n",
       "      <td>56.125000</td>\n",
       "    </tr>\n",
       "    <tr>\n",
       "      <th>1024</th>\n",
       "      <td>21.920000</td>\n",
       "    </tr>\n",
       "    <tr>\n",
       "      <th>1027</th>\n",
       "      <td>33.333333</td>\n",
       "    </tr>\n",
       "    <tr>\n",
       "      <th>1031</th>\n",
       "      <td>70.000000</td>\n",
       "    </tr>\n",
       "    <tr>\n",
       "      <th>...</th>\n",
       "      <td>...</td>\n",
       "    </tr>\n",
       "    <tr>\n",
       "      <th>1469</th>\n",
       "      <td>100.000000</td>\n",
       "    </tr>\n",
       "    <tr>\n",
       "      <th>1482</th>\n",
       "      <td>70.000000</td>\n",
       "    </tr>\n",
       "    <tr>\n",
       "      <th>1494</th>\n",
       "      <td>30.625000</td>\n",
       "    </tr>\n",
       "    <tr>\n",
       "      <th>1495</th>\n",
       "      <td>118.325000</td>\n",
       "    </tr>\n",
       "    <tr>\n",
       "      <th>1498</th>\n",
       "      <td>77.272727</td>\n",
       "    </tr>\n",
       "  </tbody>\n",
       "</table>\n",
       "<p>79 rows × 1 columns</p>\n",
       "</div>"
      ],
      "text/plain": [
       "         ing_prom_ny_nj\n",
       "user_id                \n",
       "1014          29.420000\n",
       "1022          56.125000\n",
       "1024          21.920000\n",
       "1027          33.333333\n",
       "1031          70.000000\n",
       "...                 ...\n",
       "1469         100.000000\n",
       "1482          70.000000\n",
       "1494          30.625000\n",
       "1495         118.325000\n",
       "1498          77.272727\n",
       "\n",
       "[79 rows x 1 columns]"
      ]
     },
     "execution_count": 70,
     "metadata": {},
     "output_type": "execute_result"
    }
   ],
   "source": [
    "ny_nj= table[table[\"city\"] == \"New York-Newark-Jersey City, NY-NJ-PA MSA\"]\n",
    "ny_nj_ing_prom= (ny_nj.pivot_table(index= \"user_id\",                                         \n",
    "                                          values= \"monthly_income\",\n",
    "                                          aggfunc= \"mean\")\n",
    "                                         .rename(columns={'monthly_income': \"ing_prom_ny_nj\"})\n",
    "                )\n",
    "ny_nj_ing_prom\n"
   ]
  },
  {
   "cell_type": "code",
   "execution_count": 71,
   "metadata": {
    "scrolled": false
   },
   "outputs": [
    {
     "data": {
      "text/html": [
       "<div>\n",
       "<style scoped>\n",
       "    .dataframe tbody tr th:only-of-type {\n",
       "        vertical-align: middle;\n",
       "    }\n",
       "\n",
       "    .dataframe tbody tr th {\n",
       "        vertical-align: top;\n",
       "    }\n",
       "\n",
       "    .dataframe thead th {\n",
       "        text-align: right;\n",
       "    }\n",
       "</style>\n",
       "<table border=\"1\" class=\"dataframe\">\n",
       "  <thead>\n",
       "    <tr style=\"text-align: right;\">\n",
       "      <th></th>\n",
       "      <th>ing_prom_regs</th>\n",
       "    </tr>\n",
       "    <tr>\n",
       "      <th>user_id</th>\n",
       "      <th></th>\n",
       "    </tr>\n",
       "  </thead>\n",
       "  <tbody>\n",
       "    <tr>\n",
       "      <th>1000</th>\n",
       "      <td>70.000000</td>\n",
       "    </tr>\n",
       "    <tr>\n",
       "      <th>1001</th>\n",
       "      <td>50.018000</td>\n",
       "    </tr>\n",
       "    <tr>\n",
       "      <th>1002</th>\n",
       "      <td>33.333333</td>\n",
       "    </tr>\n",
       "    <tr>\n",
       "      <th>1003</th>\n",
       "      <td>158.120000</td>\n",
       "    </tr>\n",
       "    <tr>\n",
       "      <th>1004</th>\n",
       "      <td>76.250000</td>\n",
       "    </tr>\n",
       "    <tr>\n",
       "      <th>...</th>\n",
       "      <td>...</td>\n",
       "    </tr>\n",
       "    <tr>\n",
       "      <th>1492</th>\n",
       "      <td>25.000000</td>\n",
       "    </tr>\n",
       "    <tr>\n",
       "      <th>1493</th>\n",
       "      <td>70.000000</td>\n",
       "    </tr>\n",
       "    <tr>\n",
       "      <th>1496</th>\n",
       "      <td>28.000000</td>\n",
       "    </tr>\n",
       "    <tr>\n",
       "      <th>1497</th>\n",
       "      <td>70.000000</td>\n",
       "    </tr>\n",
       "    <tr>\n",
       "      <th>1499</th>\n",
       "      <td>55.000000</td>\n",
       "    </tr>\n",
       "  </tbody>\n",
       "</table>\n",
       "<p>411 rows × 1 columns</p>\n",
       "</div>"
      ],
      "text/plain": [
       "         ing_prom_regs\n",
       "user_id               \n",
       "1000         70.000000\n",
       "1001         50.018000\n",
       "1002         33.333333\n",
       "1003        158.120000\n",
       "1004         76.250000\n",
       "...                ...\n",
       "1492         25.000000\n",
       "1493         70.000000\n",
       "1496         28.000000\n",
       "1497         70.000000\n",
       "1499         55.000000\n",
       "\n",
       "[411 rows x 1 columns]"
      ]
     },
     "execution_count": 71,
     "metadata": {},
     "output_type": "execute_result"
    }
   ],
   "source": [
    "regiones= table[table[\"city\"] != \"New York-Newark-Jersey City, NY-NJ-PA MSA\"]\n",
    "regiones_ing_prom= (regiones.pivot_table(index= \"user_id\",                                         \n",
    "                                          values= \"monthly_income\",\n",
    "                                          aggfunc= \"mean\")\n",
    "                                        .rename(columns={'monthly_income': 'ing_prom_regs'})\n",
    "                   )\n",
    "regiones_ing_prom"
   ]
  },
  {
   "cell_type": "code",
   "execution_count": 72,
   "metadata": {
    "id": "Cqcj7wrZ0q1S"
   },
   "outputs": [
    {
     "name": "stdout",
     "output_type": "stream",
     "text": [
      "valor p:  0.48043818838129104\n",
      "No podemos rechazar la hiótesis nula\n"
     ]
    }
   ],
   "source": [
    "# Prueba las hipótesis\n",
    "alpha= 0.05\n",
    "results_city= st.ttest_ind(ny_nj_ing_prom[\"ing_prom_ny_nj\"], regiones_ing_prom[\"ing_prom_regs\"])\n",
    "\n",
    "print(\"valor p: \",results_city.pvalue)\n",
    "\n",
    "if results_city.pvalue < alpha:\n",
    "    print(\"Rechazamos la hipótesis nula\")\n",
    "else: \n",
    "    print(\"No podemos rechazar la hiótesis nula\")\n"
   ]
  },
  {
   "cell_type": "markdown",
   "metadata": {},
   "source": [
    "\n",
    "- Conclusiones de la primera prueba: Se rechaza la hipótesis nula. Es decir, \n",
    "    los ingresos provenientes de los usuarios de los planes Surf y Ultimate NO son iguales.\n",
    "    Estas diferencias podrían estar explicadas por los patrones de consumo de los usuarios de ambos planes, los usuarios\n",
    "    del plan Surf incurren en mayores gastos por exceder lso límites de sus paquetes. Miestras que, los usuarios del plan \n",
    "    Ultimate se mantienen dentro de sus condiciones sin excederelas, por lo tentop no incurren en costos adicionales. \n",
    "    \n",
    "- Conclusiones de la segunda prueba: Se acepta la hipótesis nula. Es decir, \n",
    "    los ingresos promedios de los usuarios del área NY-NJ son iguales al de los usuarios de otras regiones.\n",
    "    Entonces, no existe diferencias entre regiones.\n",
    "\n"
   ]
  },
  {
   "cell_type": "markdown",
   "metadata": {
    "id": "bbTR8UQO0q1T"
   },
   "source": [
    "## Conclusión general\n",
    "\n",
    "- La duración promedio mensual de las llamadas es similar en ambos planes. \n",
    "- Los usuarios del plan Surf envían considerablemente más mensajes que los usuarios del plan ultimate. Casi el doble cada mes.\n",
    "- Los usuarios del plan Surf utilizan mayor cantidad de tráfico de internet, casi el doble, que los usuarios del plan Ultimate\n",
    "- Los usuarios del plan Surf incurren en una mayor cantidad de cargos adicionales por sobrepasar sus paquetes, especialmente en mensajes y tráfico de internet.\n",
    "- Los usuarios del plan Surf son casi el doble que los usuarios del plan Ultimate, 1573 usuarios frente a 720 del plan Ultimate.\n",
    "- Los ingresos provenientes del plan Surf se han incrementado considerablemente en comparación con los ingresos del plan Ultimate. \n",
    "- Con un 95% de confianza, Se rechaza una primera hipótesis nula que sugería que los ingresos de ambos planes son iguales. \n",
    "- Con un 95% de confianza, No se puede rechazar la hipótesis nula que propone que los ingresos promedios provenientes de los usuarios del área NY-NJ son iguales al de los usuarios de otras regiones.\n",
    "- Los patrones de consumo de los usuarios de ambos planes sugieren que los usuarios del plan Surf tengan una mejora en sus condiciones de tarifa, especialmente en cantidad de mensajes y tráfico de internet. La recomendación es que se amplien para que los usuarios no tengan que incurrir en tantos costos adicionales. \n",
    "- No existen diferencias significativas en los ingresos provenientes de las distintas regiones estudiadas. En general, son iguales. "
   ]
  }
 ],
 "metadata": {
  "ExecuteTimeLog": [
   {
    "duration": 828,
    "start_time": "2021-11-16T09:21:11.304Z"
   },
   {
    "duration": 893,
    "start_time": "2021-11-16T09:21:17.728Z"
   },
   {
    "duration": 1150,
    "start_time": "2021-11-16T09:21:29.568Z"
   },
   {
    "duration": 3,
    "start_time": "2021-11-16T09:24:14.495Z"
   },
   {
    "duration": 120,
    "start_time": "2021-11-16T09:24:46.630Z"
   },
   {
    "duration": 3,
    "start_time": "2021-11-16T09:28:27.882Z"
   },
   {
    "duration": 4,
    "start_time": "2021-11-16T09:29:54.281Z"
   },
   {
    "duration": 3,
    "start_time": "2021-11-16T09:30:45.936Z"
   },
   {
    "duration": 4,
    "start_time": "2021-11-16T09:31:06.300Z"
   },
   {
    "duration": 113,
    "start_time": "2021-11-16T09:31:37.208Z"
   },
   {
    "duration": 143,
    "start_time": "2021-11-16T09:31:48.656Z"
   },
   {
    "duration": 98,
    "start_time": "2021-11-16T09:31:55.678Z"
   },
   {
    "duration": 3,
    "start_time": "2021-11-16T09:32:08.535Z"
   },
   {
    "duration": 111,
    "start_time": "2021-11-16T09:32:10.120Z"
   },
   {
    "duration": 3,
    "start_time": "2021-11-16T09:32:15.732Z"
   },
   {
    "duration": 4,
    "start_time": "2021-11-16T09:32:29.423Z"
   },
   {
    "duration": 3,
    "start_time": "2021-11-16T10:03:03.074Z"
   },
   {
    "duration": 3,
    "start_time": "2021-11-16T10:10:01.288Z"
   },
   {
    "duration": 3,
    "start_time": "2021-11-16T10:10:46.923Z"
   },
   {
    "duration": 121,
    "start_time": "2021-11-16T10:37:46.494Z"
   },
   {
    "duration": 125,
    "start_time": "2021-11-16T10:38:20.632Z"
   },
   {
    "duration": 112,
    "start_time": "2021-11-16T10:46:53.001Z"
   },
   {
    "duration": 110,
    "start_time": "2021-11-16T10:48:25.775Z"
   },
   {
    "duration": 3,
    "start_time": "2021-11-16T10:50:18.720Z"
   },
   {
    "duration": 4,
    "start_time": "2021-11-16T10:50:37.649Z"
   },
   {
    "duration": 2,
    "start_time": "2021-11-16T10:50:51.884Z"
   },
   {
    "duration": 3,
    "start_time": "2021-11-16T10:51:56.237Z"
   },
   {
    "duration": 101,
    "start_time": "2021-11-16T10:53:13.791Z"
   },
   {
    "duration": 3,
    "start_time": "2021-11-16T10:55:59.186Z"
   },
   {
    "duration": 3,
    "start_time": "2021-11-16T10:56:10.751Z"
   },
   {
    "duration": 3,
    "start_time": "2021-11-16T10:56:49.038Z"
   },
   {
    "duration": 3,
    "start_time": "2021-11-16T10:56:49.174Z"
   },
   {
    "duration": 4,
    "start_time": "2021-11-16T10:56:49.414Z"
   },
   {
    "duration": 3,
    "start_time": "2021-11-16T10:56:49.680Z"
   },
   {
    "duration": 3,
    "start_time": "2021-11-16T10:56:50.370Z"
   },
   {
    "duration": 114,
    "start_time": "2021-11-16T10:59:34.518Z"
   },
   {
    "duration": 3,
    "start_time": "2021-11-16T11:01:41.201Z"
   },
   {
    "duration": 116,
    "start_time": "2021-11-16T11:01:48.754Z"
   },
   {
    "duration": 3,
    "start_time": "2021-11-16T11:02:16.685Z"
   },
   {
    "duration": 3,
    "start_time": "2021-11-16T11:02:19.479Z"
   },
   {
    "duration": 3,
    "start_time": "2021-11-16T11:02:47.067Z"
   },
   {
    "duration": 3,
    "start_time": "2021-11-16T11:02:49.353Z"
   },
   {
    "duration": 3,
    "start_time": "2021-11-16T11:03:07.835Z"
   },
   {
    "duration": 3,
    "start_time": "2021-11-16T11:03:07.953Z"
   },
   {
    "duration": 112,
    "start_time": "2021-11-16T11:07:52.072Z"
   },
   {
    "duration": 187,
    "start_time": "2021-11-16T11:09:23.468Z"
   },
   {
    "duration": 4,
    "start_time": "2021-11-16T11:10:01.455Z"
   },
   {
    "duration": 3,
    "start_time": "2021-11-16T11:10:05.069Z"
   },
   {
    "duration": 4,
    "start_time": "2021-11-16T11:10:13.376Z"
   },
   {
    "duration": 3,
    "start_time": "2021-11-16T11:10:14.434Z"
   },
   {
    "duration": 3,
    "start_time": "2021-11-16T11:10:22.853Z"
   },
   {
    "duration": 4,
    "start_time": "2021-11-16T11:27:29.279Z"
   },
   {
    "duration": 4,
    "start_time": "2021-11-16T11:29:08.919Z"
   },
   {
    "duration": 118,
    "start_time": "2021-11-16T11:29:46.703Z"
   },
   {
    "duration": 437,
    "start_time": "2021-11-16T11:36:02.181Z"
   },
   {
    "duration": 157,
    "start_time": "2021-11-16T11:36:14.388Z"
   },
   {
    "duration": 207,
    "start_time": "2021-11-16T11:47:15.898Z"
   },
   {
    "duration": 3,
    "start_time": "2021-11-16T11:53:52.092Z"
   },
   {
    "duration": 3,
    "start_time": "2021-11-16T11:53:52.236Z"
   },
   {
    "duration": 3,
    "start_time": "2021-11-16T11:59:12.005Z"
   },
   {
    "duration": 112,
    "start_time": "2021-11-16T12:00:33.446Z"
   },
   {
    "duration": 3,
    "start_time": "2021-11-16T12:02:14.453Z"
   },
   {
    "duration": 3,
    "start_time": "2021-11-16T12:02:39.512Z"
   },
   {
    "duration": 106,
    "start_time": "2021-11-16T12:03:03.460Z"
   },
   {
    "duration": 3,
    "start_time": "2021-11-17T20:37:21.139Z"
   },
   {
    "duration": 3,
    "start_time": "2021-11-17T20:37:22.229Z"
   },
   {
    "duration": 3,
    "start_time": "2021-11-17T20:38:38.806Z"
   },
   {
    "duration": 3,
    "start_time": "2021-11-17T20:38:41.958Z"
   },
   {
    "duration": 3,
    "start_time": "2021-11-17T20:43:46.551Z"
   },
   {
    "duration": 4,
    "start_time": "2021-11-17T20:58:21.835Z"
   },
   {
    "duration": 3,
    "start_time": "2021-11-17T20:59:21.872Z"
   },
   {
    "duration": 4,
    "start_time": "2021-11-17T20:59:45.352Z"
   },
   {
    "duration": 4,
    "start_time": "2021-11-17T20:59:49.646Z"
   },
   {
    "duration": 159,
    "start_time": "2021-11-17T21:02:26.949Z"
   },
   {
    "duration": 3,
    "start_time": "2021-11-17T21:03:53.461Z"
   },
   {
    "duration": 3,
    "start_time": "2021-11-17T21:03:53.694Z"
   },
   {
    "duration": 3,
    "start_time": "2021-11-17T21:05:28.145Z"
   },
   {
    "duration": 116,
    "start_time": "2021-11-17T21:05:57.787Z"
   },
   {
    "duration": 3,
    "start_time": "2021-11-17T21:06:37.993Z"
   },
   {
    "duration": 3,
    "start_time": "2021-11-17T21:06:38.261Z"
   },
   {
    "duration": 3,
    "start_time": "2021-11-17T21:11:54.358Z"
   },
   {
    "duration": 3,
    "start_time": "2021-11-17T21:12:43.846Z"
   },
   {
    "duration": 4,
    "start_time": "2021-11-17T21:13:08.773Z"
   },
   {
    "duration": 3,
    "start_time": "2021-11-17T21:14:44.441Z"
   },
   {
    "duration": 3,
    "start_time": "2021-11-17T21:15:42.059Z"
   },
   {
    "duration": 4,
    "start_time": "2021-11-17T21:15:51.995Z"
   },
   {
    "duration": 3,
    "start_time": "2021-11-17T21:15:53.923Z"
   },
   {
    "duration": 3,
    "start_time": "2021-11-17T21:15:55.282Z"
   },
   {
    "duration": 3,
    "start_time": "2021-11-17T21:16:28.492Z"
   },
   {
    "duration": 3,
    "start_time": "2021-11-17T21:16:32.603Z"
   },
   {
    "duration": 3,
    "start_time": "2021-11-17T21:17:06.941Z"
   },
   {
    "duration": 98,
    "start_time": "2021-11-17T21:18:05.733Z"
   },
   {
    "duration": 4,
    "start_time": "2021-11-17T21:21:35.255Z"
   },
   {
    "duration": 3,
    "start_time": "2021-11-17T21:21:37.804Z"
   },
   {
    "duration": 4,
    "start_time": "2021-11-17T21:23:06.071Z"
   },
   {
    "duration": 3,
    "start_time": "2021-11-17T21:23:24.799Z"
   },
   {
    "duration": 3,
    "start_time": "2021-11-17T21:23:32.591Z"
   },
   {
    "duration": 98,
    "start_time": "2021-11-17T21:28:31.559Z"
   },
   {
    "duration": 3,
    "start_time": "2021-11-17T21:28:45.448Z"
   },
   {
    "duration": 3,
    "start_time": "2021-11-17T21:29:17.303Z"
   },
   {
    "duration": 3,
    "start_time": "2021-11-17T21:29:29.617Z"
   },
   {
    "duration": 3,
    "start_time": "2021-11-17T21:29:32.681Z"
   },
   {
    "duration": 3,
    "start_time": "2021-11-17T21:36:11.474Z"
   },
   {
    "duration": 3,
    "start_time": "2021-11-17T21:36:14.791Z"
   },
   {
    "duration": 3,
    "start_time": "2021-11-17T21:36:53.943Z"
   },
   {
    "duration": 3,
    "start_time": "2021-11-17T21:36:56.165Z"
   },
   {
    "duration": 4,
    "start_time": "2021-11-17T21:37:16.590Z"
   },
   {
    "duration": 3,
    "start_time": "2021-11-17T21:37:22.702Z"
   },
   {
    "duration": 4,
    "start_time": "2021-11-17T21:38:03.479Z"
   },
   {
    "duration": 3,
    "start_time": "2021-11-17T21:38:08.601Z"
   },
   {
    "duration": 3,
    "start_time": "2021-11-17T21:38:12.928Z"
   },
   {
    "duration": 3,
    "start_time": "2021-11-17T21:38:48.896Z"
   },
   {
    "duration": 2,
    "start_time": "2021-11-17T21:38:49.171Z"
   },
   {
    "duration": 4,
    "start_time": "2021-11-17T21:39:57.889Z"
   },
   {
    "duration": 3,
    "start_time": "2021-11-17T21:39:58.057Z"
   },
   {
    "duration": 3,
    "start_time": "2021-11-17T21:41:20.108Z"
   },
   {
    "duration": 3,
    "start_time": "2021-11-17T21:41:20.629Z"
   },
   {
    "duration": 3,
    "start_time": "2021-11-17T21:42:49.136Z"
   },
   {
    "duration": 3,
    "start_time": "2021-11-17T21:43:15.137Z"
   },
   {
    "duration": 4,
    "start_time": "2021-11-17T21:43:16.766Z"
   },
   {
    "duration": 4,
    "start_time": "2021-11-17T21:43:31.711Z"
   },
   {
    "duration": 3,
    "start_time": "2021-11-17T21:43:36.312Z"
   },
   {
    "duration": 4,
    "start_time": "2021-11-17T21:45:08.825Z"
   },
   {
    "duration": 4,
    "start_time": "2021-11-17T21:45:10.119Z"
   },
   {
    "duration": 4,
    "start_time": "2021-11-17T21:45:13.748Z"
   },
   {
    "duration": 3,
    "start_time": "2021-11-17T21:45:22.219Z"
   },
   {
    "duration": 3,
    "start_time": "2021-11-17T21:45:33.412Z"
   },
   {
    "duration": 2,
    "start_time": "2021-11-17T21:46:01.885Z"
   },
   {
    "duration": 3,
    "start_time": "2021-11-17T21:46:03.628Z"
   },
   {
    "duration": 107,
    "start_time": "2021-11-17T21:47:32.512Z"
   },
   {
    "duration": 103,
    "start_time": "2021-11-17T21:50:36.243Z"
   },
   {
    "duration": 3,
    "start_time": "2021-11-18T06:28:31.440Z"
   },
   {
    "duration": 3,
    "start_time": "2021-11-18T06:29:00.168Z"
   },
   {
    "duration": 3,
    "start_time": "2021-11-18T06:31:27.008Z"
   },
   {
    "duration": 2,
    "start_time": "2021-11-18T06:35:34.288Z"
   },
   {
    "duration": 2,
    "start_time": "2021-11-18T06:38:04.527Z"
   },
   {
    "duration": 2634,
    "start_time": "2024-10-24T13:00:52.309Z"
   },
   {
    "duration": 252,
    "start_time": "2024-10-24T13:00:54.945Z"
   },
   {
    "duration": 28,
    "start_time": "2024-10-24T13:00:55.199Z"
   },
   {
    "duration": 7,
    "start_time": "2024-10-24T13:00:55.230Z"
   },
   {
    "duration": 5,
    "start_time": "2024-10-24T13:00:55.239Z"
   },
   {
    "duration": 10,
    "start_time": "2024-10-24T13:00:55.247Z"
   },
   {
    "duration": 8,
    "start_time": "2024-10-24T13:00:55.258Z"
   },
   {
    "duration": 8,
    "start_time": "2024-10-24T13:00:55.267Z"
   },
   {
    "duration": 3,
    "start_time": "2024-10-24T13:00:55.277Z"
   },
   {
    "duration": 42,
    "start_time": "2024-10-24T13:00:55.283Z"
   },
   {
    "duration": 12,
    "start_time": "2024-10-24T13:00:55.327Z"
   },
   {
    "duration": 227,
    "start_time": "2024-10-24T13:00:55.340Z"
   },
   {
    "duration": 0,
    "start_time": "2024-10-24T13:00:55.570Z"
   },
   {
    "duration": 0,
    "start_time": "2024-10-24T13:00:55.572Z"
   },
   {
    "duration": 0,
    "start_time": "2024-10-24T13:00:55.573Z"
   },
   {
    "duration": 0,
    "start_time": "2024-10-24T13:00:55.574Z"
   },
   {
    "duration": 0,
    "start_time": "2024-10-24T13:00:55.576Z"
   },
   {
    "duration": 0,
    "start_time": "2024-10-24T13:00:55.577Z"
   },
   {
    "duration": 0,
    "start_time": "2024-10-24T13:00:55.578Z"
   },
   {
    "duration": 0,
    "start_time": "2024-10-24T13:00:55.579Z"
   },
   {
    "duration": 0,
    "start_time": "2024-10-24T13:00:55.580Z"
   },
   {
    "duration": 0,
    "start_time": "2024-10-24T13:00:55.581Z"
   },
   {
    "duration": 0,
    "start_time": "2024-10-24T13:00:55.582Z"
   },
   {
    "duration": 0,
    "start_time": "2024-10-24T13:00:55.583Z"
   },
   {
    "duration": 0,
    "start_time": "2024-10-24T13:00:55.584Z"
   },
   {
    "duration": 0,
    "start_time": "2024-10-24T13:00:55.585Z"
   },
   {
    "duration": 0,
    "start_time": "2024-10-24T13:00:55.587Z"
   },
   {
    "duration": 0,
    "start_time": "2024-10-24T13:00:55.588Z"
   },
   {
    "duration": 0,
    "start_time": "2024-10-24T13:00:55.589Z"
   },
   {
    "duration": 0,
    "start_time": "2024-10-24T13:00:55.590Z"
   },
   {
    "duration": 0,
    "start_time": "2024-10-24T13:00:55.590Z"
   },
   {
    "duration": 0,
    "start_time": "2024-10-24T13:00:55.624Z"
   },
   {
    "duration": 0,
    "start_time": "2024-10-24T13:00:55.625Z"
   },
   {
    "duration": 0,
    "start_time": "2024-10-24T13:00:55.629Z"
   },
   {
    "duration": 0,
    "start_time": "2024-10-24T13:00:55.629Z"
   },
   {
    "duration": 0,
    "start_time": "2024-10-24T13:00:55.631Z"
   },
   {
    "duration": 0,
    "start_time": "2024-10-24T13:00:55.632Z"
   },
   {
    "duration": 0,
    "start_time": "2024-10-24T13:00:55.633Z"
   },
   {
    "duration": 0,
    "start_time": "2024-10-24T13:00:55.634Z"
   },
   {
    "duration": 0,
    "start_time": "2024-10-24T13:00:55.635Z"
   },
   {
    "duration": 0,
    "start_time": "2024-10-24T13:00:55.636Z"
   },
   {
    "duration": 0,
    "start_time": "2024-10-24T13:00:55.637Z"
   },
   {
    "duration": 0,
    "start_time": "2024-10-24T13:00:55.637Z"
   },
   {
    "duration": 0,
    "start_time": "2024-10-24T13:00:55.638Z"
   },
   {
    "duration": 0,
    "start_time": "2024-10-24T13:00:55.639Z"
   },
   {
    "duration": 0,
    "start_time": "2024-10-24T13:00:55.640Z"
   },
   {
    "duration": 0,
    "start_time": "2024-10-24T13:00:55.642Z"
   },
   {
    "duration": 0,
    "start_time": "2024-10-24T13:00:55.643Z"
   },
   {
    "duration": 0,
    "start_time": "2024-10-24T13:00:55.644Z"
   },
   {
    "duration": 0,
    "start_time": "2024-10-24T13:00:55.645Z"
   },
   {
    "duration": 0,
    "start_time": "2024-10-24T13:00:55.646Z"
   },
   {
    "duration": 0,
    "start_time": "2024-10-24T13:00:55.647Z"
   },
   {
    "duration": 0,
    "start_time": "2024-10-24T13:00:55.647Z"
   },
   {
    "duration": 0,
    "start_time": "2024-10-24T13:00:55.648Z"
   },
   {
    "duration": 0,
    "start_time": "2024-10-24T13:00:55.649Z"
   },
   {
    "duration": 0,
    "start_time": "2024-10-24T13:00:55.651Z"
   },
   {
    "duration": 0,
    "start_time": "2024-10-24T13:00:55.652Z"
   },
   {
    "duration": 0,
    "start_time": "2024-10-24T13:00:55.653Z"
   },
   {
    "duration": 0,
    "start_time": "2024-10-24T13:00:55.654Z"
   },
   {
    "duration": 0,
    "start_time": "2024-10-24T13:00:55.656Z"
   },
   {
    "duration": 0,
    "start_time": "2024-10-24T13:00:55.657Z"
   },
   {
    "duration": 0,
    "start_time": "2024-10-24T13:00:55.658Z"
   },
   {
    "duration": 0,
    "start_time": "2024-10-24T13:00:55.659Z"
   },
   {
    "duration": 0,
    "start_time": "2024-10-24T13:00:55.660Z"
   },
   {
    "duration": 0,
    "start_time": "2024-10-24T13:00:55.661Z"
   },
   {
    "duration": 0,
    "start_time": "2024-10-24T13:00:55.662Z"
   },
   {
    "duration": 0,
    "start_time": "2024-10-24T13:00:55.663Z"
   },
   {
    "duration": 0,
    "start_time": "2024-10-24T13:00:55.724Z"
   },
   {
    "duration": 0,
    "start_time": "2024-10-24T13:00:55.725Z"
   },
   {
    "duration": 0,
    "start_time": "2024-10-24T13:00:55.727Z"
   },
   {
    "duration": 0,
    "start_time": "2024-10-24T13:00:55.728Z"
   },
   {
    "duration": 0,
    "start_time": "2024-10-24T13:00:55.730Z"
   },
   {
    "duration": 0,
    "start_time": "2024-10-24T13:00:55.731Z"
   },
   {
    "duration": 4,
    "start_time": "2024-10-24T13:06:41.738Z"
   },
   {
    "duration": 872,
    "start_time": "2024-10-24T13:06:45.640Z"
   },
   {
    "duration": 160,
    "start_time": "2024-10-24T13:06:46.514Z"
   },
   {
    "duration": 29,
    "start_time": "2024-10-24T13:06:46.675Z"
   },
   {
    "duration": 19,
    "start_time": "2024-10-24T13:06:46.706Z"
   },
   {
    "duration": 5,
    "start_time": "2024-10-24T13:06:46.728Z"
   },
   {
    "duration": 10,
    "start_time": "2024-10-24T13:06:46.735Z"
   },
   {
    "duration": 7,
    "start_time": "2024-10-24T13:06:46.747Z"
   },
   {
    "duration": 10,
    "start_time": "2024-10-24T13:06:46.756Z"
   },
   {
    "duration": 6,
    "start_time": "2024-10-24T13:06:46.767Z"
   },
   {
    "duration": 5,
    "start_time": "2024-10-24T13:06:46.774Z"
   },
   {
    "duration": 52,
    "start_time": "2024-10-24T13:06:46.782Z"
   },
   {
    "duration": 4,
    "start_time": "2024-10-24T13:06:46.836Z"
   },
   {
    "duration": 16,
    "start_time": "2024-10-24T13:06:46.841Z"
   },
   {
    "duration": 9,
    "start_time": "2024-10-24T13:06:46.861Z"
   },
   {
    "duration": 62,
    "start_time": "2024-10-24T13:06:46.872Z"
   },
   {
    "duration": 94,
    "start_time": "2024-10-24T13:06:46.936Z"
   },
   {
    "duration": 20,
    "start_time": "2024-10-24T13:06:47.032Z"
   },
   {
    "duration": 12,
    "start_time": "2024-10-24T13:06:47.054Z"
   },
   {
    "duration": 8,
    "start_time": "2024-10-24T13:06:47.068Z"
   },
   {
    "duration": 15,
    "start_time": "2024-10-24T13:06:47.077Z"
   },
   {
    "duration": 82,
    "start_time": "2024-10-24T13:06:47.094Z"
   },
   {
    "duration": 12,
    "start_time": "2024-10-24T13:06:47.178Z"
   },
   {
    "duration": 8,
    "start_time": "2024-10-24T13:06:47.192Z"
   },
   {
    "duration": 53,
    "start_time": "2024-10-24T13:06:47.202Z"
   },
   {
    "duration": 79,
    "start_time": "2024-10-24T13:06:47.258Z"
   },
   {
    "duration": 19,
    "start_time": "2024-10-24T13:06:47.339Z"
   },
   {
    "duration": 8,
    "start_time": "2024-10-24T13:06:47.361Z"
   },
   {
    "duration": 7,
    "start_time": "2024-10-24T13:06:47.372Z"
   },
   {
    "duration": 55,
    "start_time": "2024-10-24T13:06:47.381Z"
   },
   {
    "duration": 150,
    "start_time": "2024-10-24T13:06:47.438Z"
   },
   {
    "duration": 24,
    "start_time": "2024-10-24T13:06:47.590Z"
   },
   {
    "duration": 21,
    "start_time": "2024-10-24T13:06:47.625Z"
   },
   {
    "duration": 21,
    "start_time": "2024-10-24T13:06:47.648Z"
   },
   {
    "duration": 139,
    "start_time": "2024-10-24T13:06:47.671Z"
   },
   {
    "duration": 34,
    "start_time": "2024-10-24T13:06:47.811Z"
   },
   {
    "duration": 182,
    "start_time": "2024-10-24T13:06:47.847Z"
   },
   {
    "duration": 26,
    "start_time": "2024-10-24T13:06:48.031Z"
   },
   {
    "duration": 9,
    "start_time": "2024-10-24T13:06:48.059Z"
   },
   {
    "duration": 137,
    "start_time": "2024-10-24T13:06:48.071Z"
   },
   {
    "duration": 33,
    "start_time": "2024-10-24T13:06:48.211Z"
   },
   {
    "duration": 21,
    "start_time": "2024-10-24T13:06:48.252Z"
   },
   {
    "duration": 21,
    "start_time": "2024-10-24T13:06:48.276Z"
   },
   {
    "duration": 3,
    "start_time": "2024-10-24T13:06:48.299Z"
   },
   {
    "duration": 8,
    "start_time": "2024-10-24T13:06:48.323Z"
   },
   {
    "duration": 3,
    "start_time": "2024-10-24T13:06:48.333Z"
   },
   {
    "duration": 11,
    "start_time": "2024-10-24T13:06:48.337Z"
   },
   {
    "duration": 5,
    "start_time": "2024-10-24T13:06:48.350Z"
   },
   {
    "duration": 208,
    "start_time": "2024-10-24T13:06:48.357Z"
   },
   {
    "duration": 148,
    "start_time": "2024-10-24T13:06:48.568Z"
   },
   {
    "duration": 25,
    "start_time": "2024-10-24T13:06:48.718Z"
   },
   {
    "duration": 91,
    "start_time": "2024-10-24T13:06:48.744Z"
   },
   {
    "duration": 15,
    "start_time": "2024-10-24T13:06:48.837Z"
   },
   {
    "duration": 178,
    "start_time": "2024-10-24T13:06:48.853Z"
   },
   {
    "duration": 146,
    "start_time": "2024-10-24T13:06:49.033Z"
   },
   {
    "duration": 27,
    "start_time": "2024-10-24T13:06:49.181Z"
   },
   {
    "duration": 82,
    "start_time": "2024-10-24T13:06:49.210Z"
   },
   {
    "duration": 32,
    "start_time": "2024-10-24T13:06:49.294Z"
   },
   {
    "duration": 174,
    "start_time": "2024-10-24T13:06:49.327Z"
   },
   {
    "duration": 151,
    "start_time": "2024-10-24T13:06:49.502Z"
   },
   {
    "duration": 20,
    "start_time": "2024-10-24T13:06:49.655Z"
   },
   {
    "duration": 92,
    "start_time": "2024-10-24T13:06:49.677Z"
   },
   {
    "duration": 7,
    "start_time": "2024-10-24T13:06:49.771Z"
   },
   {
    "duration": 6,
    "start_time": "2024-10-24T13:06:49.780Z"
   },
   {
    "duration": 13,
    "start_time": "2024-10-24T13:06:49.787Z"
   },
   {
    "duration": 209,
    "start_time": "2024-10-24T13:06:49.823Z"
   },
   {
    "duration": 3,
    "start_time": "2024-10-24T13:06:50.034Z"
   },
   {
    "duration": 20,
    "start_time": "2024-10-24T13:06:50.039Z"
   },
   {
    "duration": 3,
    "start_time": "2024-10-24T13:06:50.060Z"
   },
   {
    "duration": 4,
    "start_time": "2024-10-24T13:06:50.065Z"
   },
   {
    "duration": 11,
    "start_time": "2024-10-24T13:06:50.070Z"
   },
   {
    "duration": 44,
    "start_time": "2024-10-24T13:06:50.082Z"
   },
   {
    "duration": 4,
    "start_time": "2024-10-24T13:06:50.128Z"
   }
  ],
  "colab": {
   "provenance": []
  },
  "kernelspec": {
   "display_name": "Python 3",
   "language": "python",
   "name": "python3"
  },
  "language_info": {
   "codemirror_mode": {
    "name": "ipython",
    "version": 3
   },
   "file_extension": ".py",
   "mimetype": "text/x-python",
   "name": "python",
   "nbconvert_exporter": "python",
   "pygments_lexer": "ipython3",
   "version": "3.12.2"
  },
  "toc": {
   "base_numbering": 1,
   "nav_menu": {},
   "number_sections": true,
   "sideBar": true,
   "skip_h1_title": false,
   "title_cell": "Table of Contents",
   "title_sidebar": "Contents",
   "toc_cell": false,
   "toc_position": {
    "height": "calc(100% - 180px)",
    "left": "10px",
    "top": "150px",
    "width": "347.422px"
   },
   "toc_section_display": true,
   "toc_window_display": true
  }
 },
 "nbformat": 4,
 "nbformat_minor": 1
}
