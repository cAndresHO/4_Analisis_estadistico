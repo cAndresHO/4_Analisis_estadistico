{
 "cells": [
  {
   "cell_type": "markdown",
   "metadata": {},
   "source": [
    "# Descripción del proyecto\n",
    "Se hará un análisis para el operador de telecomunicaciones Megaline. La empresa ofrece a sus clientes dos tarifas de prepago, Surf y Ultimate. El departamento comercial quiere saber cuál de los planes genera más ingresos para poder ajustar el presupuesto de publicidad.\n",
    "\n",
    "Se vas a realizar un análisis preliminar de las tarifas basado en una selección de clientes relativamente pequeña. Se tiene los datos de 500 clientes: quiénes son los clientes, de dónde son, qué tarifa usan, así como la cantidad de llamadas que hicieron y los mensajes de texto que enviaron en 2018. El objetivo es analizar el comportamiento de los clientes y determinar qué tarifa de prepago genera más ingresos. Determinar qué plan, en promedio, aporta más ingresos es una cuestión que se abordará mediante pruebas estadísticas. \n"
   ]
  },
  {
   "cell_type": "markdown",
   "metadata": {},
   "source": [
    "# Descripción de las tarifas\n",
    "Nota: Megaline redondea los segundos a minutos y los megabytes a gigabytes. Para llamadas, cada llamada individual se redondea: incluso si la llamada duró solo un segundo, se contará como un minuto. Para tráfico web, las sesiones web individuales no se redondean. En vez de esto, el total del mes se redondea hacia arriba. Si alguien usa 1025 megabytes este mes, se le cobrarán 2 gigabytes.\n",
    "\n",
    "A continuación, puedes ver una descripción de las tarifas:\n",
    "\n",
    "Surf\n",
    "\n",
    "1.\tPago mensual: 20$.\n",
    "2.\t500 minutos al mes, 50 SMS y 15 GB de datos.\n",
    "3.\tSi se exceden los límites del paquete:\n",
    "a.\t1 minuto: 3 centavos.\n",
    "b.\t1 SMS: 3 centavos.\n",
    "c.\t1 GB de datos: 10$.\n",
    "\n",
    "Ultimate\n",
    "\n",
    "1.\tPago mensual: 70$.\n",
    "2.\t3000 minutos al mes, 1000 SMS y 30 GB de datos.\n",
    "3.\tSi se exceden los límites del paquete:\n",
    "a.\t1 minuto: 1 centavo.\n",
    "b.\t1 SMS: 1 centavo.\n",
    "c.\t1 GB de datos: 7$.\n"
   ]
  },
  {
   "cell_type": "markdown",
   "metadata": {},
   "source": [
    "# Diccionario de datos\n",
    "Se tiene cinco tablas diferentes:\n",
    "\n",
    "1.\tLa tabla users (datos sobre los usuarios): \n",
    "    a.\tuser_id: identificador único del usuario.\n",
    "    b.\tfirst_name: nombre del usuario.\n",
    "    c.\tlast_name: apellido del usuario.\n",
    "    d.\tage: edad del usuario (en años).\n",
    "    e.\treg_date: fecha de suscripción (dd, mm, aa).\n",
    "    f.\tchurn_date: la fecha en la que el usuario dejó de usar el servicio (si el valor es ausente, la tarifa se estaba usando cuando fue extraída esta base de datos).\n",
    "    g.\tcity: ciudad de residencia del usuario.\n",
    "    h.\tplan: nombre de la tarifa.\n",
    "\n",
    "2.\tLa tabla calls (datos sobre las llamadas): \n",
    "    a.\tid: identificador único de la llamada.\n",
    "    b.\tcall_date: fecha de la llamada.\n",
    "    c.\tduration: duración de la llamada (en minutos).\n",
    "    d.\tuser_id: el identificador del usuario que realiza la llamada.\n",
    "\n",
    "3.\tLa tabla messages (datos sobre los SMS): \n",
    "    a.\tid: identificador único del SMS.\n",
    "    b.\tmessage_date: fecha del SMS.\n",
    "    c.\tuser_id: el identificador del usuario que manda el SMS.\n",
    "\n",
    "4.\tLa tabla internet (datos sobre las sesiones web): \n",
    "    a.\tid: identificador único de la sesión.\n",
    "    b.\tmb_used: el volumen de datos gastados durante la sesión (en megabytes).\n",
    "    c.\tsession_date: fecha de la sesión web.\n",
    "    d.\tuser_id: identificador del usuario.\n",
    "\n",
    "5.\tLa tabla plans (datos sobre las tarifas): \n",
    "    a.\tplan_name: nombre de la tarifa.\n",
    "    b.\tusd_monthly_fee: pago mensual en dólares estadounidenses.\n",
    "    c.\tminutes_included: minutos incluidos al mes.\n",
    "    d.\tmessages_included: SMS incluidos al mes.\n",
    "    e.\tmb_per_month_included: datos incluidos al mes (en megabytes).\n",
    "    f.\tusd_per_minute: precio por minuto tras exceder los límites del paquete (por ejemplo, si el paquete incluye 100 minutos, el operador cobrará el minuto 101).\n",
    "    g.\tusd_per_message: precio por SMS tras exceder los límites del paquete.\n",
    "    h.\tusd_per_gb: precio por gigabyte de los datos extra tras exceder los límites del paquete (1 GB = 1024 megabytes).\n",
    "\n",
    "\n"
   ]
  }
 ],
 "metadata": {
  "language_info": {
   "name": "python"
  }
 },
 "nbformat": 4,
 "nbformat_minor": 2
}
